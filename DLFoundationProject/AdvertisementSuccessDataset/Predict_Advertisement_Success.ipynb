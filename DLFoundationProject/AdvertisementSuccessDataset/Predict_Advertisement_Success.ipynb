{
  "nbformat": 4,
  "nbformat_minor": 0,
  "metadata": {
    "kernelspec": {
      "display_name": "Python 3",
      "language": "python",
      "name": "python3"
    },
    "language_info": {
      "codemirror_mode": {
        "name": "ipython",
        "version": 3
      },
      "file_extension": ".py",
      "mimetype": "text/x-python",
      "name": "python",
      "nbconvert_exporter": "python",
      "pygments_lexer": "ipython3",
      "version": "3.7.5"
    },
    "colab": {
      "name": "Predict Advertisement Success.ipynb",
      "provenance": [],
      "collapsed_sections": [
        "Aw8onN2NLHd5",
        "cBQ4DVVaiaMR"
      ]
    },
    "accelerator": "GPU",
    "widgets": {
      "application/vnd.jupyter.widget-state+json": {
        "1b3ad5da8bc7401dac0cee622d624b25": {
          "model_module": "@jupyter-widgets/controls",
          "model_name": "IntProgressModel",
          "state": {
            "_view_name": "ProgressView",
            "style": "IPY_MODEL_ece4b024888945029b5283874c04464a",
            "_dom_classes": [],
            "description": "Processing: ",
            "_model_name": "IntProgressModel",
            "bar_style": "",
            "max": 13,
            "_view_module": "@jupyter-widgets/controls",
            "_model_module_version": "1.5.0",
            "value": 3,
            "_view_count": null,
            "_view_module_version": "1.5.0",
            "orientation": "horizontal",
            "min": 0,
            "description_tooltip": null,
            "_model_module": "@jupyter-widgets/controls",
            "layout": "IPY_MODEL_e61e13f742754a6fb7821c9a5ecbdbf8"
          }
        },
        "ece4b024888945029b5283874c04464a": {
          "model_module": "@jupyter-widgets/controls",
          "model_name": "ProgressStyleModel",
          "state": {
            "_view_name": "StyleView",
            "_model_name": "ProgressStyleModel",
            "description_width": "",
            "_view_module": "@jupyter-widgets/base",
            "_model_module_version": "1.5.0",
            "_view_count": null,
            "_view_module_version": "1.2.0",
            "bar_color": null,
            "_model_module": "@jupyter-widgets/controls"
          }
        },
        "e61e13f742754a6fb7821c9a5ecbdbf8": {
          "model_module": "@jupyter-widgets/base",
          "model_name": "LayoutModel",
          "state": {
            "_view_name": "LayoutView",
            "grid_template_rows": null,
            "right": null,
            "justify_content": null,
            "_view_module": "@jupyter-widgets/base",
            "overflow": null,
            "_model_module_version": "1.2.0",
            "_view_count": null,
            "flex_flow": null,
            "width": null,
            "min_width": null,
            "border": null,
            "align_items": null,
            "bottom": null,
            "_model_module": "@jupyter-widgets/base",
            "top": null,
            "grid_column": null,
            "overflow_y": null,
            "overflow_x": null,
            "grid_auto_flow": null,
            "grid_area": null,
            "grid_template_columns": null,
            "flex": null,
            "_model_name": "LayoutModel",
            "justify_items": null,
            "grid_row": null,
            "max_height": null,
            "align_content": null,
            "visibility": null,
            "align_self": null,
            "height": null,
            "min_height": null,
            "padding": null,
            "grid_auto_rows": null,
            "grid_gap": null,
            "max_width": null,
            "order": null,
            "_view_module_version": "1.2.0",
            "grid_template_areas": null,
            "object_position": null,
            "object_fit": null,
            "grid_auto_columns": null,
            "margin": null,
            "display": null,
            "left": null
          }
        },
        "9d8ff9dd8bdb48d28f738b8f2e0c14f7": {
          "model_module": "@jupyter-widgets/controls",
          "model_name": "TextModel",
          "state": {
            "_view_name": "TextView",
            "style": "IPY_MODEL_c3b2850aeeac4793aea726b036cbdfc7",
            "_dom_classes": [],
            "description": "",
            "_model_name": "TextModel",
            "placeholder": "​",
            "_view_module": "@jupyter-widgets/controls",
            "_model_module_version": "1.5.0",
            "value": "Following data types have been inferred automatically, if they are correct press enter to continue or type 'quit' otherwise.",
            "_view_count": null,
            "disabled": false,
            "_view_module_version": "1.5.0",
            "continuous_update": true,
            "description_tooltip": null,
            "_model_module": "@jupyter-widgets/controls",
            "layout": "IPY_MODEL_5b0b1f621d7340b68ab3ec1aa333c013"
          }
        },
        "c3b2850aeeac4793aea726b036cbdfc7": {
          "model_module": "@jupyter-widgets/controls",
          "model_name": "DescriptionStyleModel",
          "state": {
            "_view_name": "StyleView",
            "_model_name": "DescriptionStyleModel",
            "description_width": "",
            "_view_module": "@jupyter-widgets/base",
            "_model_module_version": "1.5.0",
            "_view_count": null,
            "_view_module_version": "1.2.0",
            "_model_module": "@jupyter-widgets/controls"
          }
        },
        "5b0b1f621d7340b68ab3ec1aa333c013": {
          "model_module": "@jupyter-widgets/base",
          "model_name": "LayoutModel",
          "state": {
            "_view_name": "LayoutView",
            "grid_template_rows": null,
            "right": null,
            "justify_content": null,
            "_view_module": "@jupyter-widgets/base",
            "overflow": null,
            "_model_module_version": "1.2.0",
            "_view_count": null,
            "flex_flow": null,
            "width": "100%",
            "min_width": null,
            "border": null,
            "align_items": null,
            "bottom": null,
            "_model_module": "@jupyter-widgets/base",
            "top": null,
            "grid_column": null,
            "overflow_y": null,
            "overflow_x": null,
            "grid_auto_flow": null,
            "grid_area": null,
            "grid_template_columns": null,
            "flex": null,
            "_model_name": "LayoutModel",
            "justify_items": null,
            "grid_row": null,
            "max_height": null,
            "align_content": null,
            "visibility": null,
            "align_self": null,
            "height": null,
            "min_height": null,
            "padding": null,
            "grid_auto_rows": null,
            "grid_gap": null,
            "max_width": null,
            "order": null,
            "_view_module_version": "1.2.0",
            "grid_template_areas": null,
            "object_position": null,
            "object_fit": null,
            "grid_auto_columns": null,
            "margin": null,
            "display": null,
            "left": null
          }
        },
        "e76a3d78edde4d289250fa9f8cf20df0": {
          "model_module": "@jupyter-widgets/controls",
          "model_name": "IntProgressModel",
          "state": {
            "_view_name": "ProgressView",
            "style": "IPY_MODEL_628188e4509f497a9ca479572c8e8450",
            "_dom_classes": [],
            "description": "Processing: ",
            "_model_name": "IntProgressModel",
            "bar_style": "",
            "max": 176,
            "_view_module": "@jupyter-widgets/controls",
            "_model_module_version": "1.5.0",
            "value": 172,
            "_view_count": null,
            "_view_module_version": "1.5.0",
            "orientation": "horizontal",
            "min": 0,
            "description_tooltip": null,
            "_model_module": "@jupyter-widgets/controls",
            "layout": "IPY_MODEL_f59b6f867fe740a094f705be36b75a33"
          }
        },
        "628188e4509f497a9ca479572c8e8450": {
          "model_module": "@jupyter-widgets/controls",
          "model_name": "ProgressStyleModel",
          "state": {
            "_view_name": "StyleView",
            "_model_name": "ProgressStyleModel",
            "description_width": "",
            "_view_module": "@jupyter-widgets/base",
            "_model_module_version": "1.5.0",
            "_view_count": null,
            "_view_module_version": "1.2.0",
            "bar_color": null,
            "_model_module": "@jupyter-widgets/controls"
          }
        },
        "f59b6f867fe740a094f705be36b75a33": {
          "model_module": "@jupyter-widgets/base",
          "model_name": "LayoutModel",
          "state": {
            "_view_name": "LayoutView",
            "grid_template_rows": null,
            "right": null,
            "justify_content": null,
            "_view_module": "@jupyter-widgets/base",
            "overflow": null,
            "_model_module_version": "1.2.0",
            "_view_count": null,
            "flex_flow": null,
            "width": null,
            "min_width": null,
            "border": null,
            "align_items": null,
            "bottom": null,
            "_model_module": "@jupyter-widgets/base",
            "top": null,
            "grid_column": null,
            "overflow_y": null,
            "overflow_x": null,
            "grid_auto_flow": null,
            "grid_area": null,
            "grid_template_columns": null,
            "flex": null,
            "_model_name": "LayoutModel",
            "justify_items": null,
            "grid_row": null,
            "max_height": null,
            "align_content": null,
            "visibility": null,
            "align_self": null,
            "height": null,
            "min_height": null,
            "padding": null,
            "grid_auto_rows": null,
            "grid_gap": null,
            "max_width": null,
            "order": null,
            "_view_module_version": "1.2.0",
            "grid_template_areas": null,
            "object_position": null,
            "object_fit": null,
            "grid_auto_columns": null,
            "margin": null,
            "display": null,
            "left": null
          }
        },
        "4f45171227ce4bb099fb56eb4f5db2f3": {
          "model_module": "@jupyter-widgets/controls",
          "model_name": "IntProgressModel",
          "state": {
            "_view_name": "ProgressView",
            "style": "IPY_MODEL_af5f094269fc4270a4612725673f8414",
            "_dom_classes": [],
            "description": "Processing: ",
            "_model_name": "IntProgressModel",
            "bar_style": "",
            "max": 14,
            "_view_module": "@jupyter-widgets/controls",
            "_model_module_version": "1.5.0",
            "value": 14,
            "_view_count": null,
            "_view_module_version": "1.5.0",
            "orientation": "horizontal",
            "min": 0,
            "description_tooltip": null,
            "_model_module": "@jupyter-widgets/controls",
            "layout": "IPY_MODEL_d87b937c7bec4618adee2d9b4721cf6b"
          }
        },
        "af5f094269fc4270a4612725673f8414": {
          "model_module": "@jupyter-widgets/controls",
          "model_name": "ProgressStyleModel",
          "state": {
            "_view_name": "StyleView",
            "_model_name": "ProgressStyleModel",
            "description_width": "",
            "_view_module": "@jupyter-widgets/base",
            "_model_module_version": "1.5.0",
            "_view_count": null,
            "_view_module_version": "1.2.0",
            "bar_color": null,
            "_model_module": "@jupyter-widgets/controls"
          }
        },
        "d87b937c7bec4618adee2d9b4721cf6b": {
          "model_module": "@jupyter-widgets/base",
          "model_name": "LayoutModel",
          "state": {
            "_view_name": "LayoutView",
            "grid_template_rows": null,
            "right": null,
            "justify_content": null,
            "_view_module": "@jupyter-widgets/base",
            "overflow": null,
            "_model_module_version": "1.2.0",
            "_view_count": null,
            "flex_flow": null,
            "width": null,
            "min_width": null,
            "border": null,
            "align_items": null,
            "bottom": null,
            "_model_module": "@jupyter-widgets/base",
            "top": null,
            "grid_column": null,
            "overflow_y": null,
            "overflow_x": null,
            "grid_auto_flow": null,
            "grid_area": null,
            "grid_template_columns": null,
            "flex": null,
            "_model_name": "LayoutModel",
            "justify_items": null,
            "grid_row": null,
            "max_height": null,
            "align_content": null,
            "visibility": null,
            "align_self": null,
            "height": null,
            "min_height": null,
            "padding": null,
            "grid_auto_rows": null,
            "grid_gap": null,
            "max_width": null,
            "order": null,
            "_view_module_version": "1.2.0",
            "grid_template_areas": null,
            "object_position": null,
            "object_fit": null,
            "grid_auto_columns": null,
            "margin": null,
            "display": null,
            "left": null
          }
        },
        "0c7e8d8477f2478a83f26ff31b544f82": {
          "model_module": "@jupyter-widgets/controls",
          "model_name": "IntProgressModel",
          "state": {
            "_view_name": "ProgressView",
            "style": "IPY_MODEL_47ae67f0c10648a2b8fbf85c5f44c861",
            "_dom_classes": [],
            "description": "Processing: ",
            "_model_name": "IntProgressModel",
            "bar_style": "",
            "max": 16,
            "_view_module": "@jupyter-widgets/controls",
            "_model_module_version": "1.5.0",
            "value": 16,
            "_view_count": null,
            "_view_module_version": "1.5.0",
            "orientation": "horizontal",
            "min": 0,
            "description_tooltip": null,
            "_model_module": "@jupyter-widgets/controls",
            "layout": "IPY_MODEL_84731c9e9b944f94a1612002bbc340b6"
          }
        },
        "47ae67f0c10648a2b8fbf85c5f44c861": {
          "model_module": "@jupyter-widgets/controls",
          "model_name": "ProgressStyleModel",
          "state": {
            "_view_name": "StyleView",
            "_model_name": "ProgressStyleModel",
            "description_width": "",
            "_view_module": "@jupyter-widgets/base",
            "_model_module_version": "1.5.0",
            "_view_count": null,
            "_view_module_version": "1.2.0",
            "bar_color": null,
            "_model_module": "@jupyter-widgets/controls"
          }
        },
        "84731c9e9b944f94a1612002bbc340b6": {
          "model_module": "@jupyter-widgets/base",
          "model_name": "LayoutModel",
          "state": {
            "_view_name": "LayoutView",
            "grid_template_rows": null,
            "right": null,
            "justify_content": null,
            "_view_module": "@jupyter-widgets/base",
            "overflow": null,
            "_model_module_version": "1.2.0",
            "_view_count": null,
            "flex_flow": null,
            "width": null,
            "min_width": null,
            "border": null,
            "align_items": null,
            "bottom": null,
            "_model_module": "@jupyter-widgets/base",
            "top": null,
            "grid_column": null,
            "overflow_y": null,
            "overflow_x": null,
            "grid_auto_flow": null,
            "grid_area": null,
            "grid_template_columns": null,
            "flex": null,
            "_model_name": "LayoutModel",
            "justify_items": null,
            "grid_row": null,
            "max_height": null,
            "align_content": null,
            "visibility": null,
            "align_self": null,
            "height": null,
            "min_height": null,
            "padding": null,
            "grid_auto_rows": null,
            "grid_gap": null,
            "max_width": null,
            "order": null,
            "_view_module_version": "1.2.0",
            "grid_template_areas": null,
            "object_position": null,
            "object_fit": null,
            "grid_auto_columns": null,
            "margin": null,
            "display": null,
            "left": null
          }
        },
        "623c8fe107664dfeb78ae38ddcb26b3b": {
          "model_module": "@jupyter-widgets/controls",
          "model_name": "IntProgressModel",
          "state": {
            "_view_name": "ProgressView",
            "style": "IPY_MODEL_b00552d281934270baa065cbc0bb8520",
            "_dom_classes": [],
            "description": "Processing: ",
            "_model_name": "IntProgressModel",
            "bar_style": "",
            "max": 5,
            "_view_module": "@jupyter-widgets/controls",
            "_model_module_version": "1.5.0",
            "value": 5,
            "_view_count": null,
            "_view_module_version": "1.5.0",
            "orientation": "horizontal",
            "min": 0,
            "description_tooltip": null,
            "_model_module": "@jupyter-widgets/controls",
            "layout": "IPY_MODEL_8f0ae6bf0c7f4b59b71267f860cebbf7"
          }
        },
        "c22ad100ee7f49758554af6cc41ee837": {
          "model_module": "@jupyter-widgets/controls",
          "model_name": "IntProgressModel",
          "state": {
            "_view_name": "ProgressView",
            "style": "IPY_MODEL_5c1d8c074ed644aca0de3d3b2cc67d48",
            "_dom_classes": [],
            "description": "Processing: ",
            "_model_name": "IntProgressModel",
            "bar_style": "",
            "max": 5,
            "_view_module": "@jupyter-widgets/controls",
            "_model_module_version": "1.5.0",
            "value": 5,
            "_view_count": null,
            "_view_module_version": "1.5.0",
            "orientation": "horizontal",
            "min": 0,
            "description_tooltip": null,
            "_model_module": "@jupyter-widgets/controls",
            "layout": "IPY_MODEL_5e6e1881e8774815b1ea3906ada23b63"
          }
        },
        "800fc3ee04194f5ea64f59e7f0bdc2ac": {
          "model_module": "@jupyter-widgets/controls",
          "model_name": "IntProgressModel",
          "state": {
            "_view_name": "ProgressView",
            "style": "IPY_MODEL_83d8142bf98448aaa43d737c314e6d13",
            "_dom_classes": [],
            "description": "Processing: ",
            "_model_name": "IntProgressModel",
            "bar_style": "",
            "max": 5,
            "_view_module": "@jupyter-widgets/controls",
            "_model_module_version": "1.5.0",
            "value": 5,
            "_view_count": null,
            "_view_module_version": "1.5.0",
            "orientation": "horizontal",
            "min": 0,
            "description_tooltip": null,
            "_model_module": "@jupyter-widgets/controls",
            "layout": "IPY_MODEL_e36b730ca2834a7f860489f373fa1f29"
          }
        },
        "1f1aa129c18c4abd85dc520a7932c0ca": {
          "model_module": "@jupyter-widgets/controls",
          "model_name": "IntProgressModel",
          "state": {
            "_view_name": "ProgressView",
            "style": "IPY_MODEL_b5cc0c6b3e294e1abfae37d89a4465f6",
            "_dom_classes": [],
            "description": "Processing: ",
            "_model_name": "IntProgressModel",
            "bar_style": "",
            "max": 5,
            "_view_module": "@jupyter-widgets/controls",
            "_model_module_version": "1.5.0",
            "value": 5,
            "_view_count": null,
            "_view_module_version": "1.5.0",
            "orientation": "horizontal",
            "min": 0,
            "description_tooltip": null,
            "_model_module": "@jupyter-widgets/controls",
            "layout": "IPY_MODEL_116ec42b8dc04c2eb235dcfdc624ed8d"
          }
        }
      }
    }
  },
  "cells": [
    {
      "cell_type": "markdown",
      "metadata": {
        "id": "ci3CB-KKiaKa",
        "colab_type": "text"
      },
      "source": [
        "<center> \n",
        "    <h1> DL Foundation Project : Predict Advertisement Success </h1>\n",
        "</center><br>\n"
      ]
    },
    {
      "cell_type": "markdown",
      "metadata": {
        "id": "tMl5A3PpiaKb",
        "colab_type": "text"
      },
      "source": [
        "### Table of Content\n",
        "\n",
        "1. [Predict Advertisement Success](#section1)<br>\n",
        "2. [The Advertisement Dataset](#section2)<br>\n",
        "  - 2.1 [Get the Data](#section201)<br>\n",
        "  - 2.2 [Clean the Data](#section202)<br>\n",
        "  - 2.3 [Split the Data into Train and Test](#section203)<br>\n",
        "  - 2.4 [Inspect the Data](#section204)<br>\n",
        "  - 2.5 [Split Features from Labels](#section205)<br>\n",
        "  - 2.6 [Normalize the Data](#section206)<br>\n",
        "3. [The Model](#section3)<br>\n",
        "  - 3.1 [Build the Model](#section301)<br>\n",
        "  - 3.2 [Inspect the Model](#section302)<br>\n",
        "  - 3.3 [Train the Model](#section303)<br>\n",
        "  - 3.4 [Make Predictions](#section304)<br>\n",
        "4. [Model Tuning](#section4)<br>\n",
        "  - 4.1 [Increasing the Number of Hidden Layers and Hidden Units](#section401)<br>\n",
        "  - 4.2 [Weight Regularization](#section402)<br>\n",
        "  - 4.3 [Dropout](#section403)<br>\n",
        "  - 4.4 [Combined L2 + Dropout](#section404)<br>\n",
        "  - 4.5 [Batch Normalization](#section405)<br>\n",
        "5. [KerasTuner](#section5)<br>\n",
        "6. [PyCaret Approach](#section6)<br>\n",
        "7. [Conclusion](#section7)<br>"
      ]
    },
    {
      "cell_type": "markdown",
      "metadata": {
        "id": "D14-db9iiaKc",
        "colab_type": "text"
      },
      "source": [
        "<a id=section1></a> \n",
        "# 1. Predict Advertisement Success"
      ]
    },
    {
      "cell_type": "markdown",
      "metadata": {
        "id": "0_XCC7gEiaKc",
        "colab_type": "text"
      },
      "source": [
        "This Dataset contains information about various advertisements.\n",
        "\n",
        "Its a collection of approximately 26,000 different instances of advertisements of different products aired in different countries\n",
        "\n",
        "The goal is to develop a predictive model that accurately classifies whether an ad will be profitable or not.\n",
        "\n",
        "The **target feature** in the acquired data set is **netgain** and it's values are:\n",
        "\n",
        "|Target Feature|Potential Values|\n",
        "| :-- | :-- |\n",
        "|**netgain**|True: ad will incur gain when sold|\n",
        "||False: ad will not incur gain when sold|"
      ]
    },
    {
      "cell_type": "markdown",
      "metadata": {
        "id": "jhpkyyq_iaKd",
        "colab_type": "text"
      },
      "source": [
        "<center><img src=\"https://blog.cambly.com/wp-content/uploads/2017/02/advertising-word-block.jpg\"></center>"
      ]
    },
    {
      "cell_type": "markdown",
      "metadata": {
        "id": "-96Tu9udiaKe",
        "colab_type": "text"
      },
      "source": [
        "## Data Description"
      ]
    },
    {
      "cell_type": "markdown",
      "metadata": {
        "id": "zI3NLSUKiaKe",
        "colab_type": "text"
      },
      "source": [
        "<center><img src=\"https://github.com/rajgupta5/DeepLearning-with-Python/blob/master/DLFoundationProject/AdvertisementSuccessDataset/data_description.png?raw=true\"/></center>"
      ]
    },
    {
      "cell_type": "markdown",
      "metadata": {
        "id": "LtZ5iNBuiaKf",
        "colab_type": "text"
      },
      "source": [
        "<a id=section2></a> \n",
        "## 2. The Advertisement Dataset\n",
        "<section1>\n",
        "<br/>"
      ]
    },
    {
      "cell_type": "code",
      "metadata": {
        "id": "wuJhIiauiaKf",
        "colab_type": "code",
        "colab": {
          "base_uri": "https://localhost:8080/",
          "height": 51
        },
        "outputId": "d835988f-ab5a-4c23-b2bc-8226ac1a8cdd"
      },
      "source": [
        "import pathlib\n",
        "import numpy as np\n",
        "import pandas as pd\n",
        "import matplotlib.pyplot as plt\n",
        "%matplotlib inline\n",
        "import seaborn as sns\n",
        "from google.colab import drive\n",
        "from sklearn import preprocessing\n",
        "import warnings\n",
        "warnings.filterwarnings('ignore')"
      ],
      "execution_count": 1,
      "outputs": [
        {
          "output_type": "stream",
          "text": [
            "/usr/local/lib/python3.6/dist-packages/statsmodels/tools/_testing.py:19: FutureWarning: pandas.util.testing is deprecated. Use the functions in the public API at pandas.testing instead.\n",
            "  import pandas.util.testing as tm\n"
          ],
          "name": "stderr"
        }
      ]
    },
    {
      "cell_type": "code",
      "metadata": {
        "id": "KBp0VKu0iaKl",
        "colab_type": "code",
        "colab": {}
      },
      "source": [
        "# Import tensorflow 2.x\n",
        "# This code block will only work in Google Colab.\n",
        "try:\n",
        "    # %tensorflow_version only exists in Colab.\n",
        "    %tensorflow_version 2.x\n",
        "except Exception:\n",
        "    pass"
      ],
      "execution_count": 2,
      "outputs": []
    },
    {
      "cell_type": "code",
      "metadata": {
        "id": "JRt_q5g3iaKo",
        "colab_type": "code",
        "colab": {
          "base_uri": "https://localhost:8080/",
          "height": 34
        },
        "outputId": "d82f3e3f-797f-451a-d3b2-cc02f82a6c99"
      },
      "source": [
        "import tensorflow as tf\n",
        "from tensorflow import keras\n",
        "from tensorflow.keras import layers\n",
        "print(tf.__version__)"
      ],
      "execution_count": 3,
      "outputs": [
        {
          "output_type": "stream",
          "text": [
            "2.3.0\n"
          ],
          "name": "stdout"
        }
      ]
    },
    {
      "cell_type": "code",
      "metadata": {
        "id": "45BO7KUJiaKr",
        "colab_type": "code",
        "colab": {
          "base_uri": "https://localhost:8080/",
          "height": 34
        },
        "outputId": "c412043c-3734-47b3-d4f2-6b0deb357354"
      },
      "source": [
        "!pip install -q git+https://github.com/tensorflow/docs"
      ],
      "execution_count": 5,
      "outputs": [
        {
          "output_type": "stream",
          "text": [
            "  Building wheel for tensorflow-docs (setup.py) ... \u001b[?25l\u001b[?25hdone\n"
          ],
          "name": "stdout"
        }
      ]
    },
    {
      "cell_type": "code",
      "metadata": {
        "id": "lk9KrH4YiaKu",
        "colab_type": "code",
        "colab": {}
      },
      "source": [
        "# pip install --upgrade protobuf"
      ],
      "execution_count": null,
      "outputs": []
    },
    {
      "cell_type": "code",
      "metadata": {
        "id": "HlIiYpaZiaKx",
        "colab_type": "code",
        "colab": {}
      },
      "source": [
        "import tensorflow_docs as tfdocs\n",
        "import tensorflow_docs.plots\n",
        "import tensorflow_docs.modeling"
      ],
      "execution_count": 6,
      "outputs": []
    },
    {
      "cell_type": "markdown",
      "metadata": {
        "id": "Gu9XcynPvZ7C",
        "colab_type": "text"
      },
      "source": [
        "### 2.0 Initialize Random Number Generator\n",
        "Next, we need to __initialize the random number generator__ to a constant value (1). This will come handy later on for shuffling our dataset."
      ]
    },
    {
      "cell_type": "code",
      "metadata": {
        "id": "1QRypluZvLkv",
        "colab_type": "code",
        "colab": {}
      },
      "source": [
        "# fix random seed for reproducibility\n",
        "seed = 1\n",
        "np.random.seed(seed)\n",
        "tf.random.set_seed(seed)"
      ],
      "execution_count": 7,
      "outputs": []
    },
    {
      "cell_type": "markdown",
      "metadata": {
        "id": "PSIYeQSniaK0",
        "colab_type": "text"
      },
      "source": [
        "<a id=section201></a>\n",
        "### 2.1 Get the Data\n",
        "\n",
        "- First download the dataset."
      ]
    },
    {
      "cell_type": "code",
      "metadata": {
        "id": "VdeThZdcicID",
        "colab_type": "code",
        "colab": {
          "base_uri": "https://localhost:8080/",
          "height": 122
        },
        "outputId": "5b639e42-b309-4702-b91f-9a6cf06ec2fd"
      },
      "source": [
        "drive.mount('/content/drive')\n"
      ],
      "execution_count": 8,
      "outputs": [
        {
          "output_type": "stream",
          "text": [
            "Go to this URL in a browser: https://accounts.google.com/o/oauth2/auth?client_id=947318989803-6bn6qk8qdgf4n4g3pfee6491hc0brc4i.apps.googleusercontent.com&redirect_uri=urn%3aietf%3awg%3aoauth%3a2.0%3aoob&scope=email%20https%3a%2f%2fwww.googleapis.com%2fauth%2fdocs.test%20https%3a%2f%2fwww.googleapis.com%2fauth%2fdrive%20https%3a%2f%2fwww.googleapis.com%2fauth%2fdrive.photos.readonly%20https%3a%2f%2fwww.googleapis.com%2fauth%2fpeopleapi.readonly&response_type=code\n",
            "\n",
            "Enter your authorization code:\n",
            "··········\n",
            "Mounted at /content/drive\n"
          ],
          "name": "stdout"
        }
      ]
    },
    {
      "cell_type": "code",
      "metadata": {
        "id": "jlT8L7SDiaK1",
        "colab_type": "code",
        "colab": {}
      },
      "source": [
        "# dataset = pd.read_csv('advertisement_success.csv')\n",
        "dataset = pd.read_csv(\"/content/drive/My Drive/TensorFlow/advertisement_success.csv\")"
      ],
      "execution_count": 9,
      "outputs": []
    },
    {
      "cell_type": "code",
      "metadata": {
        "id": "dt0Q9vvpiaK3",
        "colab_type": "code",
        "colab": {
          "base_uri": "https://localhost:8080/",
          "height": 34
        },
        "outputId": "01bed74f-21ac-4cdd-d316-0b5c1b725b3b"
      },
      "source": [
        "dataset.shape"
      ],
      "execution_count": 10,
      "outputs": [
        {
          "output_type": "execute_result",
          "data": {
            "text/plain": [
              "(26048, 12)"
            ]
          },
          "metadata": {
            "tags": []
          },
          "execution_count": 10
        }
      ]
    },
    {
      "cell_type": "code",
      "metadata": {
        "id": "8KjdOFfOiaK6",
        "colab_type": "code",
        "colab": {
          "base_uri": "https://localhost:8080/",
          "height": 204
        },
        "outputId": "5b2f882e-0e82-4205-9afe-860608384a96"
      },
      "source": [
        "dataset.head()"
      ],
      "execution_count": 11,
      "outputs": [
        {
          "output_type": "execute_result",
          "data": {
            "text/html": [
              "<div>\n",
              "<style scoped>\n",
              "    .dataframe tbody tr th:only-of-type {\n",
              "        vertical-align: middle;\n",
              "    }\n",
              "\n",
              "    .dataframe tbody tr th {\n",
              "        vertical-align: top;\n",
              "    }\n",
              "\n",
              "    .dataframe thead th {\n",
              "        text-align: right;\n",
              "    }\n",
              "</style>\n",
              "<table border=\"1\" class=\"dataframe\">\n",
              "  <thead>\n",
              "    <tr style=\"text-align: right;\">\n",
              "      <th></th>\n",
              "      <th>id</th>\n",
              "      <th>realtionship_status</th>\n",
              "      <th>industry</th>\n",
              "      <th>genre</th>\n",
              "      <th>targeted_sex</th>\n",
              "      <th>average_runtime(minutes_per_week)</th>\n",
              "      <th>airtime</th>\n",
              "      <th>airlocation</th>\n",
              "      <th>ratings</th>\n",
              "      <th>expensive</th>\n",
              "      <th>money_back_guarantee</th>\n",
              "      <th>netgain</th>\n",
              "    </tr>\n",
              "  </thead>\n",
              "  <tbody>\n",
              "    <tr>\n",
              "      <th>0</th>\n",
              "      <td>19717</td>\n",
              "      <td>Married-spouse-absent</td>\n",
              "      <td>Auto</td>\n",
              "      <td>Comedy</td>\n",
              "      <td>Male</td>\n",
              "      <td>45</td>\n",
              "      <td>Primetime</td>\n",
              "      <td>United-States</td>\n",
              "      <td>0.027465</td>\n",
              "      <td>High</td>\n",
              "      <td>No</td>\n",
              "      <td>False</td>\n",
              "    </tr>\n",
              "    <tr>\n",
              "      <th>1</th>\n",
              "      <td>31593</td>\n",
              "      <td>Married-civ-spouse</td>\n",
              "      <td>Pharma</td>\n",
              "      <td>Comedy</td>\n",
              "      <td>Male</td>\n",
              "      <td>45</td>\n",
              "      <td>Primetime</td>\n",
              "      <td>United-States</td>\n",
              "      <td>0.027465</td>\n",
              "      <td>Low</td>\n",
              "      <td>No</td>\n",
              "      <td>False</td>\n",
              "    </tr>\n",
              "    <tr>\n",
              "      <th>2</th>\n",
              "      <td>5681</td>\n",
              "      <td>Divorced</td>\n",
              "      <td>Entertainment</td>\n",
              "      <td>Comedy</td>\n",
              "      <td>Female</td>\n",
              "      <td>45</td>\n",
              "      <td>Primetime</td>\n",
              "      <td>United-States</td>\n",
              "      <td>0.027465</td>\n",
              "      <td>High</td>\n",
              "      <td>Yes</td>\n",
              "      <td>False</td>\n",
              "    </tr>\n",
              "    <tr>\n",
              "      <th>3</th>\n",
              "      <td>15491</td>\n",
              "      <td>Separated</td>\n",
              "      <td>Political</td>\n",
              "      <td>Infomercial</td>\n",
              "      <td>Female</td>\n",
              "      <td>40</td>\n",
              "      <td>Primetime</td>\n",
              "      <td>United-States</td>\n",
              "      <td>0.027465</td>\n",
              "      <td>Low</td>\n",
              "      <td>No</td>\n",
              "      <td>False</td>\n",
              "    </tr>\n",
              "    <tr>\n",
              "      <th>4</th>\n",
              "      <td>23587</td>\n",
              "      <td>Married-civ-spouse</td>\n",
              "      <td>Pharma</td>\n",
              "      <td>Comedy</td>\n",
              "      <td>Male</td>\n",
              "      <td>48</td>\n",
              "      <td>Primetime</td>\n",
              "      <td>United-States</td>\n",
              "      <td>0.027465</td>\n",
              "      <td>High</td>\n",
              "      <td>No</td>\n",
              "      <td>True</td>\n",
              "    </tr>\n",
              "  </tbody>\n",
              "</table>\n",
              "</div>"
            ],
            "text/plain": [
              "      id    realtionship_status  ... money_back_guarantee netgain\n",
              "0  19717  Married-spouse-absent  ...                   No   False\n",
              "1  31593     Married-civ-spouse  ...                   No   False\n",
              "2   5681               Divorced  ...                  Yes   False\n",
              "3  15491              Separated  ...                   No   False\n",
              "4  23587     Married-civ-spouse  ...                   No    True\n",
              "\n",
              "[5 rows x 12 columns]"
            ]
          },
          "metadata": {
            "tags": []
          },
          "execution_count": 11
        }
      ]
    },
    {
      "cell_type": "markdown",
      "metadata": {
        "id": "49_ns1cqiaK8",
        "colab_type": "text"
      },
      "source": [
        "<a id=section202></a>\n",
        "### 2.2 Clean the Data\n",
        "\n",
        "- The dataset contains a no missing values"
      ]
    },
    {
      "cell_type": "code",
      "metadata": {
        "id": "DH6_TwHMiaK9",
        "colab_type": "code",
        "colab": {
          "base_uri": "https://localhost:8080/",
          "height": 238
        },
        "outputId": "713035f5-4a31-4a0f-af64-863791432bcd"
      },
      "source": [
        "dataset.isna().sum()"
      ],
      "execution_count": 12,
      "outputs": [
        {
          "output_type": "execute_result",
          "data": {
            "text/plain": [
              "id                                   0\n",
              "realtionship_status                  0\n",
              "industry                             0\n",
              "genre                                0\n",
              "targeted_sex                         0\n",
              "average_runtime(minutes_per_week)    0\n",
              "airtime                              0\n",
              "airlocation                          0\n",
              "ratings                              0\n",
              "expensive                            0\n",
              "money_back_guarantee                 0\n",
              "netgain                              0\n",
              "dtype: int64"
            ]
          },
          "metadata": {
            "tags": []
          },
          "execution_count": 12
        }
      ]
    },
    {
      "cell_type": "code",
      "metadata": {
        "id": "LOn7lTdgiaLB",
        "colab_type": "code",
        "colab": {
          "base_uri": "https://localhost:8080/",
          "height": 340
        },
        "outputId": "be8bc8c0-e64e-45fc-f2d5-add158d50165"
      },
      "source": [
        "dataset.info()"
      ],
      "execution_count": 13,
      "outputs": [
        {
          "output_type": "stream",
          "text": [
            "<class 'pandas.core.frame.DataFrame'>\n",
            "RangeIndex: 26048 entries, 0 to 26047\n",
            "Data columns (total 12 columns):\n",
            " #   Column                             Non-Null Count  Dtype  \n",
            "---  ------                             --------------  -----  \n",
            " 0   id                                 26048 non-null  int64  \n",
            " 1   realtionship_status                26048 non-null  object \n",
            " 2   industry                           26048 non-null  object \n",
            " 3   genre                              26048 non-null  object \n",
            " 4   targeted_sex                       26048 non-null  object \n",
            " 5   average_runtime(minutes_per_week)  26048 non-null  int64  \n",
            " 6   airtime                            26048 non-null  object \n",
            " 7   airlocation                        26048 non-null  object \n",
            " 8   ratings                            26048 non-null  float64\n",
            " 9   expensive                          26048 non-null  object \n",
            " 10  money_back_guarantee               26048 non-null  object \n",
            " 11  netgain                            26048 non-null  bool   \n",
            "dtypes: bool(1), float64(1), int64(2), object(8)\n",
            "memory usage: 2.2+ MB\n"
          ],
          "name": "stdout"
        }
      ]
    },
    {
      "cell_type": "code",
      "metadata": {
        "id": "o3kk-Z-fiaLM",
        "colab_type": "code",
        "colab": {}
      },
      "source": [
        "dataset = dataset.drop(['id'], axis=1)"
      ],
      "execution_count": 14,
      "outputs": []
    },
    {
      "cell_type": "markdown",
      "metadata": {
        "id": "p5_HyeJviaLY",
        "colab_type": "text"
      },
      "source": [
        "<a id=section204></a>\n",
        "### 2.4 Inspect the Data\n",
        "\n",
        "- We will have a quick look at the target and feature columns from the training set."
      ]
    },
    {
      "cell_type": "code",
      "metadata": {
        "id": "kbHNmfCfiaLY",
        "colab_type": "code",
        "colab": {
          "base_uri": "https://localhost:8080/",
          "height": 558
        },
        "outputId": "03c9fd83-67dd-4a1c-973a-3187129363b2"
      },
      "source": [
        "ax = dataset.netgain.value_counts().plot(kind='barh',figsize=(25,9),\n",
        "                                         fontsize=13)\n",
        "\n",
        "\n",
        "# create a list to collect the plt.patches data\n",
        "totals = []\n",
        "\n",
        "# find the values and append to list\n",
        "for i in ax.patches:\n",
        "    totals.append(i.get_width())\n",
        "\n",
        "# set individual bar lables using above list\n",
        "total = sum(totals)\n",
        "\n",
        "# set individual bar lables using above list\n",
        "for i in ax.patches:\n",
        "    # get_width pulls left or right; get_y pushes up or down\n",
        "    ax.text(i.get_width()+.8, i.get_y()+.38, \\\n",
        "            str(round((i.get_width()/total)*100, 2))+'%', fontsize=15,\n",
        "color='dimgrey')\n",
        "\n",
        "# invert for largest on top \n",
        "ax.invert_yaxis()\n",
        "\n",
        "plt.title('Net gain ( \\'True\\' or \\'False\\' )', fontsize=15)\n",
        "plt.show()"
      ],
      "execution_count": 35,
      "outputs": [
        {
          "output_type": "display_data",
          "data": {
            "image/png": "[encoded data removed]",
            "text/plain": [
              "<Figure size 1800x648 with 1 Axes>"
            ]
          },
          "metadata": {
            "tags": [],
            "needs_background": "light"
          }
        }
      ]
    },
    {
      "cell_type": "markdown",
      "metadata": {
        "id": "znz7otAfiaLa",
        "colab_type": "text"
      },
      "source": [
        "We see that total data we have 26,048 entries, of which 6195 have a net gain. This is 23% and so the dataset is imbalanced.\n",
        "\n"
      ]
    },
    {
      "cell_type": "code",
      "metadata": {
        "id": "srNScgTqiaLb",
        "colab_type": "code",
        "colab": {
          "base_uri": "https://localhost:8080/",
          "height": 388
        },
        "outputId": "a9fca5f9-32ba-470c-d87d-9b254394965f"
      },
      "source": [
        "plt.figure(figsize=(15,6))\n",
        "sns.countplot(x='genre',data=dataset,order=dataset['genre'].value_counts().sort_values().index);\n",
        "\n"
      ],
      "execution_count": 37,
      "outputs": [
        {
          "output_type": "display_data",
          "data": {
            "image/png": "[encoded data removed]",
            "text/plain": [
              "<Figure size 1080x432 with 1 Axes>"
            ]
          },
          "metadata": {
            "tags": [],
            "needs_background": "light"
          }
        }
      ]
    },
    {
      "cell_type": "code",
      "metadata": {
        "id": "cQizev8giaLd",
        "colab_type": "code",
        "colab": {
          "base_uri": "https://localhost:8080/",
          "height": 389
        },
        "outputId": "def32564-4e3b-4b26-bb30-ee96bd9f2a93"
      },
      "source": [
        "plt.figure(figsize=(15,6))\n",
        "sns.countplot(x='targeted_sex',data=dataset,order=dataset['targeted_sex'].value_counts().sort_values().index);"
      ],
      "execution_count": 38,
      "outputs": [
        {
          "output_type": "display_data",
          "data": {
            "image/png": "[encoded data removed]",
            "text/plain": [
              "<Figure size 1080x432 with 1 Axes>"
            ]
          },
          "metadata": {
            "tags": [],
            "needs_background": "light"
          }
        }
      ]
    },
    {
      "cell_type": "code",
      "metadata": {
        "id": "9UrHkGV2WhbF",
        "colab_type": "code",
        "colab": {
          "base_uri": "https://localhost:8080/",
          "height": 388
        },
        "outputId": "13f46c34-1720-4cc4-a2a9-f92883d64dc3"
      },
      "source": [
        "plt.figure(figsize=(15,6))\n",
        "sns.countplot(x='industry',data=dataset,order=dataset['industry'].value_counts().sort_values().index);"
      ],
      "execution_count": 41,
      "outputs": [
        {
          "output_type": "display_data",
          "data": {
            "image/png": "[encoded data removed]",
            "text/plain": [
              "<Figure size 1080x432 with 1 Axes>"
            ]
          },
          "metadata": {
            "tags": [],
            "needs_background": "light"
          }
        }
      ]
    },
    {
      "cell_type": "code",
      "metadata": {
        "id": "A4f8oyWDWsq8",
        "colab_type": "code",
        "colab": {
          "base_uri": "https://localhost:8080/",
          "height": 389
        },
        "outputId": "178ac5ff-4b95-4d6a-c4ac-bf9e29040ac3"
      },
      "source": [
        "plt.figure(figsize=(15,6))\n",
        "sns.countplot(x='realtionship_status',data=dataset,order=dataset['realtionship_status'].value_counts().sort_values().index);"
      ],
      "execution_count": 43,
      "outputs": [
        {
          "output_type": "display_data",
          "data": {
            "image/png": "[encoded data removed]",
            "text/plain": [
              "<Figure size 1080x432 with 1 Axes>"
            ]
          },
          "metadata": {
            "tags": [],
            "needs_background": "light"
          }
        }
      ]
    },
    {
      "cell_type": "code",
      "metadata": {
        "id": "X59-f51QW550",
        "colab_type": "code",
        "colab": {
          "base_uri": "https://localhost:8080/",
          "height": 404
        },
        "outputId": "acce0619-e6f3-4526-f7b2-80efe2e5e727"
      },
      "source": [
        "plt.figure(figsize=(15,6))\n",
        "sns.countplot(x='genre',hue='netgain', data=dataset,palette=\"Set1\")\n",
        "plt.xlabel('Genre')\n",
        "plt.ylabel('Count')\n",
        "plt.title('Genre Wise Netgain')\n",
        "plt.show()"
      ],
      "execution_count": 45,
      "outputs": [
        {
          "output_type": "display_data",
          "data": {
            "image/png": "[encoded data removed]",
            "text/plain": [
              "<Figure size 1080x432 with 1 Axes>"
            ]
          },
          "metadata": {
            "tags": [],
            "needs_background": "light"
          }
        }
      ]
    },
    {
      "cell_type": "code",
      "metadata": {
        "id": "7vjlv6ZvXAnd",
        "colab_type": "code",
        "colab": {
          "base_uri": "https://localhost:8080/",
          "height": 404
        },
        "outputId": "eb4faea6-b895-4deb-d80f-d6568b59a4c5"
      },
      "source": [
        "plt.figure(figsize=(15,6))\n",
        "sns.countplot(x='realtionship_status',hue='netgain', data=dataset,palette=\"Set1\",order=dataset['realtionship_status'].value_counts().sort_values().index)\n",
        "plt.xlabel('Realtionship Status')\n",
        "plt.ylabel('Count')\n",
        "plt.title('Realtionship Status Wise Netgain')\n",
        "plt.show()"
      ],
      "execution_count": 47,
      "outputs": [
        {
          "output_type": "display_data",
          "data": {
            "image/png": "[encoded data removed]",
            "text/plain": [
              "<Figure size 1080x432 with 1 Axes>"
            ]
          },
          "metadata": {
            "tags": [],
            "needs_background": "light"
          }
        }
      ]
    },
    {
      "cell_type": "code",
      "metadata": {
        "id": "edW6zFkxXLiw",
        "colab_type": "code",
        "colab": {
          "base_uri": "https://localhost:8080/",
          "height": 404
        },
        "outputId": "a182b759-abac-466e-f269-d8e7ce5f8891"
      },
      "source": [
        "plt.figure(figsize=(15,6))\n",
        "sns.countplot(x='industry',hue='netgain', data=dataset,palette=\"Set1\",order=dataset['industry'].value_counts().sort_values().index)\n",
        "plt.xlabel('industry')\n",
        "plt.ylabel('Count')\n",
        "plt.title('industry Wise Netgain')\n",
        "plt.show()"
      ],
      "execution_count": 48,
      "outputs": [
        {
          "output_type": "display_data",
          "data": {
            "image/png": "[encoded data removed]",
            "text/plain": [
              "<Figure size 1080x432 with 1 Axes>"
            ]
          },
          "metadata": {
            "tags": [],
            "needs_background": "light"
          }
        }
      ]
    },
    {
      "cell_type": "markdown",
      "metadata": {
        "id": "Bmor4AmAiaLf",
        "colab_type": "text"
      },
      "source": [
        "- Let's also look at the overall statistics:\n",
        "\n"
      ]
    },
    {
      "cell_type": "code",
      "metadata": {
        "id": "Rg6SW8fKiaLf",
        "colab_type": "code",
        "colab": {
          "base_uri": "https://localhost:8080/",
          "height": 359
        },
        "outputId": "4b2396e6-7e75-4bb7-b210-ba3cdbf79eaf"
      },
      "source": [
        "train_stats = train_dataset.describe()\n",
        "train_stats = train_stats.drop(['netgain'], axis=1)\n",
        "train_stats = train_stats.transpose()\n",
        "train_stats"
      ],
      "execution_count": 21,
      "outputs": [
        {
          "output_type": "execute_result",
          "data": {
            "text/html": [
              "<div>\n",
              "<style scoped>\n",
              "    .dataframe tbody tr th:only-of-type {\n",
              "        vertical-align: middle;\n",
              "    }\n",
              "\n",
              "    .dataframe tbody tr th {\n",
              "        vertical-align: top;\n",
              "    }\n",
              "\n",
              "    .dataframe thead th {\n",
              "        text-align: right;\n",
              "    }\n",
              "</style>\n",
              "<table border=\"1\" class=\"dataframe\">\n",
              "  <thead>\n",
              "    <tr style=\"text-align: right;\">\n",
              "      <th></th>\n",
              "      <th>count</th>\n",
              "      <th>mean</th>\n",
              "      <th>std</th>\n",
              "      <th>min</th>\n",
              "      <th>25%</th>\n",
              "      <th>50%</th>\n",
              "      <th>75%</th>\n",
              "      <th>max</th>\n",
              "    </tr>\n",
              "  </thead>\n",
              "  <tbody>\n",
              "    <tr>\n",
              "      <th>realtionship_status</th>\n",
              "      <td>20838.0</td>\n",
              "      <td>2.605192</td>\n",
              "      <td>1.517395</td>\n",
              "      <td>0.0</td>\n",
              "      <td>2.000000</td>\n",
              "      <td>2.000000</td>\n",
              "      <td>4.000000</td>\n",
              "      <td>6.0</td>\n",
              "    </tr>\n",
              "    <tr>\n",
              "      <th>industry</th>\n",
              "      <td>20838.0</td>\n",
              "      <td>2.751800</td>\n",
              "      <td>1.879515</td>\n",
              "      <td>0.0</td>\n",
              "      <td>0.000000</td>\n",
              "      <td>4.000000</td>\n",
              "      <td>4.000000</td>\n",
              "      <td>5.0</td>\n",
              "    </tr>\n",
              "    <tr>\n",
              "      <th>genre</th>\n",
              "      <td>20838.0</td>\n",
              "      <td>0.397159</td>\n",
              "      <td>0.993744</td>\n",
              "      <td>0.0</td>\n",
              "      <td>0.000000</td>\n",
              "      <td>0.000000</td>\n",
              "      <td>0.000000</td>\n",
              "      <td>4.0</td>\n",
              "    </tr>\n",
              "    <tr>\n",
              "      <th>targeted_sex</th>\n",
              "      <td>20838.0</td>\n",
              "      <td>0.664027</td>\n",
              "      <td>0.472341</td>\n",
              "      <td>0.0</td>\n",
              "      <td>0.000000</td>\n",
              "      <td>1.000000</td>\n",
              "      <td>1.000000</td>\n",
              "      <td>1.0</td>\n",
              "    </tr>\n",
              "    <tr>\n",
              "      <th>average_runtime(minutes_per_week)</th>\n",
              "      <td>20838.0</td>\n",
              "      <td>40.198723</td>\n",
              "      <td>12.475056</td>\n",
              "      <td>1.0</td>\n",
              "      <td>40.000000</td>\n",
              "      <td>40.000000</td>\n",
              "      <td>45.000000</td>\n",
              "      <td>99.0</td>\n",
              "    </tr>\n",
              "    <tr>\n",
              "      <th>airtime</th>\n",
              "      <td>20838.0</td>\n",
              "      <td>1.527642</td>\n",
              "      <td>0.628985</td>\n",
              "      <td>0.0</td>\n",
              "      <td>1.000000</td>\n",
              "      <td>2.000000</td>\n",
              "      <td>2.000000</td>\n",
              "      <td>2.0</td>\n",
              "    </tr>\n",
              "    <tr>\n",
              "      <th>airlocation</th>\n",
              "      <td>20838.0</td>\n",
              "      <td>36.970247</td>\n",
              "      <td>6.783765</td>\n",
              "      <td>0.0</td>\n",
              "      <td>39.000000</td>\n",
              "      <td>39.000000</td>\n",
              "      <td>39.000000</td>\n",
              "      <td>41.0</td>\n",
              "    </tr>\n",
              "    <tr>\n",
              "      <th>ratings</th>\n",
              "      <td>20838.0</td>\n",
              "      <td>0.038501</td>\n",
              "      <td>0.073548</td>\n",
              "      <td>0.0</td>\n",
              "      <td>0.027465</td>\n",
              "      <td>0.027465</td>\n",
              "      <td>0.027465</td>\n",
              "      <td>1.0</td>\n",
              "    </tr>\n",
              "    <tr>\n",
              "      <th>expensive</th>\n",
              "      <td>20838.0</td>\n",
              "      <td>0.840580</td>\n",
              "      <td>0.608304</td>\n",
              "      <td>0.0</td>\n",
              "      <td>0.000000</td>\n",
              "      <td>1.000000</td>\n",
              "      <td>1.000000</td>\n",
              "      <td>2.0</td>\n",
              "    </tr>\n",
              "    <tr>\n",
              "      <th>money_back_guarantee</th>\n",
              "      <td>20838.0</td>\n",
              "      <td>0.502447</td>\n",
              "      <td>0.500006</td>\n",
              "      <td>0.0</td>\n",
              "      <td>0.000000</td>\n",
              "      <td>1.000000</td>\n",
              "      <td>1.000000</td>\n",
              "      <td>1.0</td>\n",
              "    </tr>\n",
              "  </tbody>\n",
              "</table>\n",
              "</div>"
            ],
            "text/plain": [
              "                                     count       mean  ...        75%   max\n",
              "realtionship_status                20838.0   2.605192  ...   4.000000   6.0\n",
              "industry                           20838.0   2.751800  ...   4.000000   5.0\n",
              "genre                              20838.0   0.397159  ...   0.000000   4.0\n",
              "targeted_sex                       20838.0   0.664027  ...   1.000000   1.0\n",
              "average_runtime(minutes_per_week)  20838.0  40.198723  ...  45.000000  99.0\n",
              "airtime                            20838.0   1.527642  ...   2.000000   2.0\n",
              "airlocation                        20838.0  36.970247  ...  39.000000  41.0\n",
              "ratings                            20838.0   0.038501  ...   0.027465   1.0\n",
              "expensive                          20838.0   0.840580  ...   1.000000   2.0\n",
              "money_back_guarantee               20838.0   0.502447  ...   1.000000   1.0\n",
              "\n",
              "[10 rows x 8 columns]"
            ]
          },
          "metadata": {
            "tags": []
          },
          "execution_count": 21
        }
      ]
    },
    {
      "cell_type": "code",
      "metadata": {
        "id": "7SwcIlmLiaLH",
        "colab_type": "code",
        "colab": {}
      },
      "source": [
        "columns = ['realtionship_status', 'industry', 'genre', 'targeted_sex', 'airtime', 'airlocation', 'expensive', 'money_back_guarantee', 'netgain']\n",
        "for col in columns:\n",
        "    le = preprocessing.LabelEncoder()\n",
        "    le.fit(dataset[col])\n",
        "    list(le.classes_)\n",
        "    dataset[col] = le.transform(dataset[col]) \n",
        "    dataset.head()"
      ],
      "execution_count": null,
      "outputs": []
    },
    {
      "cell_type": "code",
      "metadata": {
        "id": "UJ6Pfk6IiaLJ",
        "colab_type": "code",
        "colab": {
          "base_uri": "https://localhost:8080/",
          "height": 204
        },
        "outputId": "ed7f3b15-e078-4d61-a002-bcb947331626"
      },
      "source": [
        "dataset.head()\n"
      ],
      "execution_count": null,
      "outputs": [
        {
          "output_type": "execute_result",
          "data": {
            "text/html": [
              "<div>\n",
              "<style scoped>\n",
              "    .dataframe tbody tr th:only-of-type {\n",
              "        vertical-align: middle;\n",
              "    }\n",
              "\n",
              "    .dataframe tbody tr th {\n",
              "        vertical-align: top;\n",
              "    }\n",
              "\n",
              "    .dataframe thead th {\n",
              "        text-align: right;\n",
              "    }\n",
              "</style>\n",
              "<table border=\"1\" class=\"dataframe\">\n",
              "  <thead>\n",
              "    <tr style=\"text-align: right;\">\n",
              "      <th></th>\n",
              "      <th>id</th>\n",
              "      <th>realtionship_status</th>\n",
              "      <th>industry</th>\n",
              "      <th>genre</th>\n",
              "      <th>targeted_sex</th>\n",
              "      <th>average_runtime(minutes_per_week)</th>\n",
              "      <th>airtime</th>\n",
              "      <th>airlocation</th>\n",
              "      <th>ratings</th>\n",
              "      <th>expensive</th>\n",
              "      <th>money_back_guarantee</th>\n",
              "      <th>netgain</th>\n",
              "    </tr>\n",
              "  </thead>\n",
              "  <tbody>\n",
              "    <tr>\n",
              "      <th>0</th>\n",
              "      <td>19717</td>\n",
              "      <td>3</td>\n",
              "      <td>0</td>\n",
              "      <td>0</td>\n",
              "      <td>1</td>\n",
              "      <td>45</td>\n",
              "      <td>2</td>\n",
              "      <td>39</td>\n",
              "      <td>0.027465</td>\n",
              "      <td>0</td>\n",
              "      <td>0</td>\n",
              "      <td>0</td>\n",
              "    </tr>\n",
              "    <tr>\n",
              "      <th>1</th>\n",
              "      <td>31593</td>\n",
              "      <td>2</td>\n",
              "      <td>4</td>\n",
              "      <td>0</td>\n",
              "      <td>1</td>\n",
              "      <td>45</td>\n",
              "      <td>2</td>\n",
              "      <td>39</td>\n",
              "      <td>0.027465</td>\n",
              "      <td>1</td>\n",
              "      <td>0</td>\n",
              "      <td>0</td>\n",
              "    </tr>\n",
              "    <tr>\n",
              "      <th>2</th>\n",
              "      <td>5681</td>\n",
              "      <td>0</td>\n",
              "      <td>2</td>\n",
              "      <td>0</td>\n",
              "      <td>0</td>\n",
              "      <td>45</td>\n",
              "      <td>2</td>\n",
              "      <td>39</td>\n",
              "      <td>0.027465</td>\n",
              "      <td>0</td>\n",
              "      <td>1</td>\n",
              "      <td>0</td>\n",
              "    </tr>\n",
              "    <tr>\n",
              "      <th>3</th>\n",
              "      <td>15491</td>\n",
              "      <td>5</td>\n",
              "      <td>5</td>\n",
              "      <td>3</td>\n",
              "      <td>0</td>\n",
              "      <td>40</td>\n",
              "      <td>2</td>\n",
              "      <td>39</td>\n",
              "      <td>0.027465</td>\n",
              "      <td>1</td>\n",
              "      <td>0</td>\n",
              "      <td>0</td>\n",
              "    </tr>\n",
              "    <tr>\n",
              "      <th>4</th>\n",
              "      <td>23587</td>\n",
              "      <td>2</td>\n",
              "      <td>4</td>\n",
              "      <td>0</td>\n",
              "      <td>1</td>\n",
              "      <td>48</td>\n",
              "      <td>2</td>\n",
              "      <td>39</td>\n",
              "      <td>0.027465</td>\n",
              "      <td>0</td>\n",
              "      <td>0</td>\n",
              "      <td>1</td>\n",
              "    </tr>\n",
              "  </tbody>\n",
              "</table>\n",
              "</div>"
            ],
            "text/plain": [
              "      id  realtionship_status  ...  money_back_guarantee  netgain\n",
              "0  19717                    3  ...                     0        0\n",
              "1  31593                    2  ...                     0        0\n",
              "2   5681                    0  ...                     1        0\n",
              "3  15491                    5  ...                     0        0\n",
              "4  23587                    2  ...                     0        1\n",
              "\n",
              "[5 rows x 12 columns]"
            ]
          },
          "metadata": {
            "tags": []
          },
          "execution_count": 13
        }
      ]
    },
    {
      "cell_type": "markdown",
      "metadata": {
        "id": "qcom1ybpiaLO",
        "colab_type": "text"
      },
      "source": [
        "<a id=section203></a>\n",
        "### 2.4 Split the Data into Train and Test\n",
        "\n",
        "- Now we will split the dataset into a training set and a test set.\n",
        "\n",
        "- We will use the test set in the final evaluation of our model."
      ]
    },
    {
      "cell_type": "code",
      "metadata": {
        "id": "s30nssejiaLP",
        "colab_type": "code",
        "colab": {}
      },
      "source": [
        "train_dataset = dataset.sample(frac=0.8,random_state=0)"
      ],
      "execution_count": null,
      "outputs": []
    },
    {
      "cell_type": "code",
      "metadata": {
        "id": "LdSVHfMBiaLR",
        "colab_type": "code",
        "colab": {
          "base_uri": "https://localhost:8080/",
          "height": 204
        },
        "outputId": "0b3d17f4-6aea-414b-a5fb-ea68d86f6506"
      },
      "source": [
        "train_dataset.head()"
      ],
      "execution_count": null,
      "outputs": [
        {
          "output_type": "execute_result",
          "data": {
            "text/html": [
              "<div>\n",
              "<style scoped>\n",
              "    .dataframe tbody tr th:only-of-type {\n",
              "        vertical-align: middle;\n",
              "    }\n",
              "\n",
              "    .dataframe tbody tr th {\n",
              "        vertical-align: top;\n",
              "    }\n",
              "\n",
              "    .dataframe thead th {\n",
              "        text-align: right;\n",
              "    }\n",
              "</style>\n",
              "<table border=\"1\" class=\"dataframe\">\n",
              "  <thead>\n",
              "    <tr style=\"text-align: right;\">\n",
              "      <th></th>\n",
              "      <th>realtionship_status</th>\n",
              "      <th>industry</th>\n",
              "      <th>genre</th>\n",
              "      <th>targeted_sex</th>\n",
              "      <th>average_runtime(minutes_per_week)</th>\n",
              "      <th>airtime</th>\n",
              "      <th>airlocation</th>\n",
              "      <th>ratings</th>\n",
              "      <th>expensive</th>\n",
              "      <th>money_back_guarantee</th>\n",
              "      <th>netgain</th>\n",
              "    </tr>\n",
              "  </thead>\n",
              "  <tbody>\n",
              "    <tr>\n",
              "      <th>8771</th>\n",
              "      <td>4</td>\n",
              "      <td>2</td>\n",
              "      <td>3</td>\n",
              "      <td>0</td>\n",
              "      <td>40</td>\n",
              "      <td>2</td>\n",
              "      <td>39</td>\n",
              "      <td>0.027465</td>\n",
              "      <td>0</td>\n",
              "      <td>1</td>\n",
              "      <td>0</td>\n",
              "    </tr>\n",
              "    <tr>\n",
              "      <th>13138</th>\n",
              "      <td>0</td>\n",
              "      <td>0</td>\n",
              "      <td>0</td>\n",
              "      <td>0</td>\n",
              "      <td>40</td>\n",
              "      <td>2</td>\n",
              "      <td>39</td>\n",
              "      <td>0.027465</td>\n",
              "      <td>1</td>\n",
              "      <td>0</td>\n",
              "      <td>0</td>\n",
              "    </tr>\n",
              "    <tr>\n",
              "      <th>15380</th>\n",
              "      <td>2</td>\n",
              "      <td>4</td>\n",
              "      <td>3</td>\n",
              "      <td>1</td>\n",
              "      <td>40</td>\n",
              "      <td>2</td>\n",
              "      <td>39</td>\n",
              "      <td>0.027465</td>\n",
              "      <td>0</td>\n",
              "      <td>0</td>\n",
              "      <td>0</td>\n",
              "    </tr>\n",
              "    <tr>\n",
              "      <th>15502</th>\n",
              "      <td>4</td>\n",
              "      <td>0</td>\n",
              "      <td>0</td>\n",
              "      <td>1</td>\n",
              "      <td>30</td>\n",
              "      <td>2</td>\n",
              "      <td>39</td>\n",
              "      <td>0.027465</td>\n",
              "      <td>0</td>\n",
              "      <td>1</td>\n",
              "      <td>0</td>\n",
              "    </tr>\n",
              "    <tr>\n",
              "      <th>16555</th>\n",
              "      <td>4</td>\n",
              "      <td>5</td>\n",
              "      <td>0</td>\n",
              "      <td>1</td>\n",
              "      <td>70</td>\n",
              "      <td>1</td>\n",
              "      <td>39</td>\n",
              "      <td>0.027465</td>\n",
              "      <td>1</td>\n",
              "      <td>0</td>\n",
              "      <td>0</td>\n",
              "    </tr>\n",
              "  </tbody>\n",
              "</table>\n",
              "</div>"
            ],
            "text/plain": [
              "       realtionship_status  industry  ...  money_back_guarantee  netgain\n",
              "8771                     4         2  ...                     1        0\n",
              "13138                    0         0  ...                     0        0\n",
              "15380                    2         4  ...                     0        0\n",
              "15502                    4         0  ...                     1        0\n",
              "16555                    4         5  ...                     0        0\n",
              "\n",
              "[5 rows x 11 columns]"
            ]
          },
          "metadata": {
            "tags": []
          },
          "execution_count": 16
        }
      ]
    },
    {
      "cell_type": "code",
      "metadata": {
        "id": "W9Br6RsfiaLU",
        "colab_type": "code",
        "colab": {}
      },
      "source": [
        "test_dataset = dataset.drop(train_dataset.index)"
      ],
      "execution_count": null,
      "outputs": []
    },
    {
      "cell_type": "code",
      "metadata": {
        "id": "UvS3zgLuiaLW",
        "colab_type": "code",
        "colab": {
          "base_uri": "https://localhost:8080/",
          "height": 204
        },
        "outputId": "30b191ac-093d-47d8-bbc7-2eaad8252917"
      },
      "source": [
        "test_dataset.head()"
      ],
      "execution_count": null,
      "outputs": [
        {
          "output_type": "execute_result",
          "data": {
            "text/html": [
              "<div>\n",
              "<style scoped>\n",
              "    .dataframe tbody tr th:only-of-type {\n",
              "        vertical-align: middle;\n",
              "    }\n",
              "\n",
              "    .dataframe tbody tr th {\n",
              "        vertical-align: top;\n",
              "    }\n",
              "\n",
              "    .dataframe thead th {\n",
              "        text-align: right;\n",
              "    }\n",
              "</style>\n",
              "<table border=\"1\" class=\"dataframe\">\n",
              "  <thead>\n",
              "    <tr style=\"text-align: right;\">\n",
              "      <th></th>\n",
              "      <th>realtionship_status</th>\n",
              "      <th>industry</th>\n",
              "      <th>genre</th>\n",
              "      <th>targeted_sex</th>\n",
              "      <th>average_runtime(minutes_per_week)</th>\n",
              "      <th>airtime</th>\n",
              "      <th>airlocation</th>\n",
              "      <th>ratings</th>\n",
              "      <th>expensive</th>\n",
              "      <th>money_back_guarantee</th>\n",
              "      <th>netgain</th>\n",
              "    </tr>\n",
              "  </thead>\n",
              "  <tbody>\n",
              "    <tr>\n",
              "      <th>10</th>\n",
              "      <td>4</td>\n",
              "      <td>5</td>\n",
              "      <td>3</td>\n",
              "      <td>1</td>\n",
              "      <td>20</td>\n",
              "      <td>2</td>\n",
              "      <td>39</td>\n",
              "      <td>0.027465</td>\n",
              "      <td>0</td>\n",
              "      <td>0</td>\n",
              "      <td>0</td>\n",
              "    </tr>\n",
              "    <tr>\n",
              "      <th>13</th>\n",
              "      <td>4</td>\n",
              "      <td>5</td>\n",
              "      <td>3</td>\n",
              "      <td>1</td>\n",
              "      <td>48</td>\n",
              "      <td>1</td>\n",
              "      <td>39</td>\n",
              "      <td>0.027465</td>\n",
              "      <td>1</td>\n",
              "      <td>0</td>\n",
              "      <td>0</td>\n",
              "    </tr>\n",
              "    <tr>\n",
              "      <th>19</th>\n",
              "      <td>2</td>\n",
              "      <td>4</td>\n",
              "      <td>0</td>\n",
              "      <td>1</td>\n",
              "      <td>45</td>\n",
              "      <td>2</td>\n",
              "      <td>39</td>\n",
              "      <td>0.027465</td>\n",
              "      <td>1</td>\n",
              "      <td>0</td>\n",
              "      <td>1</td>\n",
              "    </tr>\n",
              "    <tr>\n",
              "      <th>28</th>\n",
              "      <td>2</td>\n",
              "      <td>4</td>\n",
              "      <td>0</td>\n",
              "      <td>1</td>\n",
              "      <td>45</td>\n",
              "      <td>2</td>\n",
              "      <td>39</td>\n",
              "      <td>0.027465</td>\n",
              "      <td>1</td>\n",
              "      <td>1</td>\n",
              "      <td>0</td>\n",
              "    </tr>\n",
              "    <tr>\n",
              "      <th>40</th>\n",
              "      <td>0</td>\n",
              "      <td>2</td>\n",
              "      <td>0</td>\n",
              "      <td>0</td>\n",
              "      <td>40</td>\n",
              "      <td>2</td>\n",
              "      <td>39</td>\n",
              "      <td>0.027465</td>\n",
              "      <td>1</td>\n",
              "      <td>1</td>\n",
              "      <td>0</td>\n",
              "    </tr>\n",
              "  </tbody>\n",
              "</table>\n",
              "</div>"
            ],
            "text/plain": [
              "    realtionship_status  industry  ...  money_back_guarantee  netgain\n",
              "10                    4         5  ...                     0        0\n",
              "13                    4         5  ...                     0        0\n",
              "19                    2         4  ...                     0        1\n",
              "28                    2         4  ...                     1        0\n",
              "40                    0         2  ...                     1        0\n",
              "\n",
              "[5 rows x 11 columns]"
            ]
          },
          "metadata": {
            "tags": []
          },
          "execution_count": 18
        }
      ]
    },
    {
      "cell_type": "markdown",
      "metadata": {
        "id": "xRqpiRiWiaLj",
        "colab_type": "text"
      },
      "source": [
        "<a id=section205></a>\n",
        "### 2.5 Split Features from Labels\n",
        "\n",
        "- Separate the target value, or \"label\", from the features.\n",
        "\n",
        "- This label is the value that we will train the model to predict."
      ]
    },
    {
      "cell_type": "code",
      "metadata": {
        "id": "l5E0LP3ViaLj",
        "colab_type": "code",
        "colab": {}
      },
      "source": [
        "train_labels = train_dataset.pop('netgain')"
      ],
      "execution_count": 22,
      "outputs": []
    },
    {
      "cell_type": "code",
      "metadata": {
        "id": "sM7ejVH9iaLl",
        "colab_type": "code",
        "colab": {}
      },
      "source": [
        "test_labels = test_dataset.pop('netgain')"
      ],
      "execution_count": 23,
      "outputs": []
    },
    {
      "cell_type": "markdown",
      "metadata": {
        "id": "33XHphQkiaLn",
        "colab_type": "text"
      },
      "source": [
        "<a id=section206></a>\n",
        "### 2.6 Normalize the Data\n",
        "\n",
        "- Look again at the `train_stats` block above and note how different the ranges of each feature are."
      ]
    },
    {
      "cell_type": "code",
      "metadata": {
        "id": "s9vkUkDLiaLn",
        "colab_type": "code",
        "colab": {}
      },
      "source": [
        "def norm(x):\n",
        "    return (x - train_stats['mean']) / train_stats['std']"
      ],
      "execution_count": 24,
      "outputs": []
    },
    {
      "cell_type": "code",
      "metadata": {
        "id": "N-v-pa2aiaLp",
        "colab_type": "code",
        "colab": {}
      },
      "source": [
        "normed_train_data = norm(train_dataset)\n",
        "normed_test_data = norm(test_dataset)"
      ],
      "execution_count": 25,
      "outputs": []
    },
    {
      "cell_type": "markdown",
      "metadata": {
        "id": "a4Th1vwBiaLs",
        "colab_type": "text"
      },
      "source": [
        "<a id=section3></a>\n",
        "## 3. The Model"
      ]
    },
    {
      "cell_type": "markdown",
      "metadata": {
        "id": "xi7EwdQSiaLt",
        "colab_type": "text"
      },
      "source": [
        "<a id=section301></a>\n",
        "### 3.1 Build the Model\n",
        "\n",
        "- Let's build our model.\n",
        "\n",
        "- Here, we'll use a `Sequential` model with two densely connected hidden layers, and an output layer that returns a single, continuous value.\n",
        "  \n",
        "  - Previously, we use the `model.add()` method to **add layers** to our sequential model.\n",
        "\n",
        "  - Here, we will directly **pass** all our *model layers* as **list items**.\n",
        "\n",
        "  - We achive same result in both ways.\n",
        "\n",
        "- The model building steps are wrapped in a function, `build_model`, since we'll create a second model, later on."
      ]
    },
    {
      "cell_type": "code",
      "metadata": {
        "id": "ZYPbaJamiaLt",
        "colab_type": "code",
        "colab": {}
      },
      "source": [
        "def build_model():\n",
        "      model = keras.Sequential([layers.Dense(64, activation='relu', input_shape=[len(train_dataset.keys())]),\n",
        "                                layers.Dense(64, activation='relu'),\n",
        "                                layers.Dense(1, activation='sigmoid')])\n",
        "      # Defining the optimizer with a specific learning rate of 0.001\n",
        "      optimizer = tf.keras.optimizers.Adam()\n",
        "\n",
        "      # Compiling the model\n",
        "      model.compile(loss='binary_crossentropy', optimizer=optimizer, metrics=['accuracy'])\n",
        "      return model"
      ],
      "execution_count": null,
      "outputs": []
    },
    {
      "cell_type": "code",
      "metadata": {
        "id": "3YwVmYCNiaLv",
        "colab_type": "code",
        "colab": {}
      },
      "source": [
        "model = build_model()"
      ],
      "execution_count": null,
      "outputs": []
    },
    {
      "cell_type": "markdown",
      "metadata": {
        "id": "jOc3Q96riaLx",
        "colab_type": "text"
      },
      "source": [
        "<a id=section302></a>\n",
        "### 3.2 Inspect the Model\n",
        "\n",
        "- Using the `.summary` method to print a simple description of the model"
      ]
    },
    {
      "cell_type": "code",
      "metadata": {
        "id": "i2k4FA6KiaLx",
        "colab_type": "code",
        "colab": {
          "base_uri": "https://localhost:8080/",
          "height": 255
        },
        "outputId": "228b319d-ba69-4031-fd1d-9fc749523f13"
      },
      "source": [
        "model.summary()"
      ],
      "execution_count": null,
      "outputs": [
        {
          "output_type": "stream",
          "text": [
            "Model: \"sequential_1\"\n",
            "_________________________________________________________________\n",
            "Layer (type)                 Output Shape              Param #   \n",
            "=================================================================\n",
            "dense_3 (Dense)              (None, 64)                704       \n",
            "_________________________________________________________________\n",
            "dense_4 (Dense)              (None, 64)                4160      \n",
            "_________________________________________________________________\n",
            "dense_5 (Dense)              (None, 1)                 65        \n",
            "=================================================================\n",
            "Total params: 4,929\n",
            "Trainable params: 4,929\n",
            "Non-trainable params: 0\n",
            "_________________________________________________________________\n"
          ],
          "name": "stdout"
        }
      ]
    },
    {
      "cell_type": "markdown",
      "metadata": {
        "id": "2Xw0Mzq-iaL0",
        "colab_type": "text"
      },
      "source": [
        "- Now let's try out the model.\n",
        "\n",
        "- Taking a batch of `10` examples from the training data and calling `model.predict` on it."
      ]
    },
    {
      "cell_type": "code",
      "metadata": {
        "id": "pQIXjW-_iaL0",
        "colab_type": "code",
        "colab": {
          "base_uri": "https://localhost:8080/",
          "height": 187
        },
        "outputId": "07340303-b100-4566-b4a4-9d99b8f5142d"
      },
      "source": [
        "example_batch = normed_train_data[:10]\n",
        "example_result = model.predict(example_batch)\n",
        "example_result"
      ],
      "execution_count": null,
      "outputs": [
        {
          "output_type": "execute_result",
          "data": {
            "text/plain": [
              "array([[0.5839382 ],\n",
              "       [0.3821943 ],\n",
              "       [0.4520072 ],\n",
              "       [0.43876714],\n",
              "       [0.49732053],\n",
              "       [0.47833616],\n",
              "       [0.4348208 ],\n",
              "       [0.389011  ],\n",
              "       [0.49187675],\n",
              "       [0.48103335]], dtype=float32)"
            ]
          },
          "metadata": {
            "tags": []
          },
          "execution_count": 61
        }
      ]
    },
    {
      "cell_type": "markdown",
      "metadata": {
        "id": "tUmn3DCfiaL2",
        "colab_type": "text"
      },
      "source": [
        "<a id=section303></a>\n",
        "### 3.3 Train the Model\n",
        "\n",
        "- Training the model for 1000 epochs, and recording the training and validation accuracy in the `history` object.\n",
        "\n",
        "- We are using `tfdocs.modeling.EpochDots()` callback to print a \".\" every epoch, with reports after each 100 epochs.\n",
        "\n",
        "  - These print settings are the default values, i. e. printing a \".\" after each epoch and a report after 100 epochs.\n",
        "\n",
        "  - We can change these as per our requirements in the callback."
      ]
    },
    {
      "cell_type": "code",
      "metadata": {
        "id": "UF24Qr0viaL5",
        "colab_type": "code",
        "colab": {
          "base_uri": "https://localhost:8080/",
          "height": 68
        },
        "outputId": "b3929162-9709-4c2b-da91-0574e8a3daef"
      },
      "source": [
        "history = model.fit(normed_train_data, train_labels, epochs=100, validation_split=0.2,\n",
        "                    verbose=0, callbacks=[tfdocs.modeling.EpochDots()])"
      ],
      "execution_count": null,
      "outputs": [
        {
          "output_type": "stream",
          "text": [
            "\n",
            "Epoch: 0, accuracy:0.7979,  loss:0.4211,  val_accuracy:0.8013,  val_loss:0.4001,  \n",
            "...................................................................................................."
          ],
          "name": "stdout"
        }
      ]
    },
    {
      "cell_type": "code",
      "metadata": {
        "id": "KtGlb9VwiaL7",
        "colab_type": "code",
        "colab": {
          "base_uri": "https://localhost:8080/",
          "height": 204
        },
        "outputId": "9211d23d-1b54-432a-a7a2-c01dd982ef88"
      },
      "source": [
        "hist = pd.DataFrame(history.history)\n",
        "hist['epoch'] = history.epoch\n",
        "hist.tail()"
      ],
      "execution_count": null,
      "outputs": [
        {
          "output_type": "execute_result",
          "data": {
            "text/html": [
              "<div>\n",
              "<style scoped>\n",
              "    .dataframe tbody tr th:only-of-type {\n",
              "        vertical-align: middle;\n",
              "    }\n",
              "\n",
              "    .dataframe tbody tr th {\n",
              "        vertical-align: top;\n",
              "    }\n",
              "\n",
              "    .dataframe thead th {\n",
              "        text-align: right;\n",
              "    }\n",
              "</style>\n",
              "<table border=\"1\" class=\"dataframe\">\n",
              "  <thead>\n",
              "    <tr style=\"text-align: right;\">\n",
              "      <th></th>\n",
              "      <th>loss</th>\n",
              "      <th>accuracy</th>\n",
              "      <th>val_loss</th>\n",
              "      <th>val_accuracy</th>\n",
              "      <th>epoch</th>\n",
              "    </tr>\n",
              "  </thead>\n",
              "  <tbody>\n",
              "    <tr>\n",
              "      <th>95</th>\n",
              "      <td>0.330088</td>\n",
              "      <td>0.827654</td>\n",
              "      <td>0.406575</td>\n",
              "      <td>0.811900</td>\n",
              "      <td>95</td>\n",
              "    </tr>\n",
              "    <tr>\n",
              "      <th>96</th>\n",
              "      <td>0.328345</td>\n",
              "      <td>0.828014</td>\n",
              "      <td>0.403050</td>\n",
              "      <td>0.810941</td>\n",
              "      <td>96</td>\n",
              "    </tr>\n",
              "    <tr>\n",
              "      <th>97</th>\n",
              "      <td>0.329406</td>\n",
              "      <td>0.828134</td>\n",
              "      <td>0.407340</td>\n",
              "      <td>0.813580</td>\n",
              "      <td>97</td>\n",
              "    </tr>\n",
              "    <tr>\n",
              "      <th>98</th>\n",
              "      <td>0.328936</td>\n",
              "      <td>0.828314</td>\n",
              "      <td>0.407916</td>\n",
              "      <td>0.805902</td>\n",
              "      <td>98</td>\n",
              "    </tr>\n",
              "    <tr>\n",
              "      <th>99</th>\n",
              "      <td>0.328149</td>\n",
              "      <td>0.827175</td>\n",
              "      <td>0.414228</td>\n",
              "      <td>0.804942</td>\n",
              "      <td>99</td>\n",
              "    </tr>\n",
              "  </tbody>\n",
              "</table>\n",
              "</div>"
            ],
            "text/plain": [
              "        loss  accuracy  val_loss  val_accuracy  epoch\n",
              "95  0.330088  0.827654  0.406575      0.811900     95\n",
              "96  0.328345  0.828014  0.403050      0.810941     96\n",
              "97  0.329406  0.828134  0.407340      0.813580     97\n",
              "98  0.328936  0.828314  0.407916      0.805902     98\n",
              "99  0.328149  0.827175  0.414228      0.804942     99"
            ]
          },
          "metadata": {
            "tags": []
          },
          "execution_count": 64
        }
      ]
    },
    {
      "cell_type": "code",
      "metadata": {
        "id": "5XmaRUX4iaL-",
        "colab_type": "code",
        "colab": {}
      },
      "source": [
        "plotter = tfdocs.plots.HistoryPlotter(smoothing_std=2)"
      ],
      "execution_count": null,
      "outputs": []
    },
    {
      "cell_type": "code",
      "metadata": {
        "id": "J96fMishiaMB",
        "colab_type": "code",
        "colab": {
          "base_uri": "https://localhost:8080/",
          "height": 562
        },
        "outputId": "97daa7b8-b9d3-465a-8e0e-38763de26abf"
      },
      "source": [
        "# -----------------------------------------------------------\n",
        "# Retrieve a list of list results on training and test data\n",
        "# sets for each training epoch\n",
        "# -----------------------------------------------------------\n",
        "acc = history.history['accuracy']\n",
        "val_acc = history.history['val_accuracy']\n",
        "loss = history.history['loss']\n",
        "val_loss = history.history['val_loss']\n",
        "\n",
        "epochs = range(len(acc))  # Get number of epochs\n",
        "\n",
        "# ------------------------------------------------\n",
        "# Plot training and validation accuracy per epoch\n",
        "# ------------------------------------------------\n",
        "plt.plot(epochs, acc, 'r', label='Training accuracy')\n",
        "plt.plot(epochs, val_acc, 'b', label='Validation accuracy')\n",
        "plt.title('Training and validation accuracy')\n",
        "plt.figure()\n",
        "\n",
        "# ------------------------------------------------\n",
        "# Plot training and validation loss per epoch\n",
        "# ------------------------------------------------\n",
        "plt.plot(epochs, loss, 'r', label='Training Loss')\n",
        "plt.plot(epochs, val_loss, 'b', label='Validation Loss')\n",
        "plt.title('Training and validation loss')"
      ],
      "execution_count": null,
      "outputs": [
        {
          "output_type": "execute_result",
          "data": {
            "text/plain": [
              "Text(0.5, 1.0, 'Training and validation loss')"
            ]
          },
          "metadata": {
            "tags": []
          },
          "execution_count": 66
        },
        {
          "output_type": "display_data",
          "data": {
            "image/png": "[encoded data removed]",
            "text/plain": [
              "<Figure size 432x288 with 1 Axes>"
            ]
          },
          "metadata": {
            "tags": [],
            "needs_background": "light"
          }
        },
        {
          "output_type": "display_data",
          "data": {
            "image/png": "[encoded data removed]",
            "text/plain": [
              "<Figure size 432x288 with 1 Axes>"
            ]
          },
          "metadata": {
            "tags": [],
            "needs_background": "light"
          }
        }
      ]
    },
    {
      "cell_type": "markdown",
      "metadata": {
        "id": "rUpH0ABgiaMD",
        "colab_type": "text"
      },
      "source": [
        "<a id=section304></a>\n",
        "### 3.4 Make Predictions\n",
        "\n",
        "- Finally, **predict netgaion** values using data in the testing set:"
      ]
    },
    {
      "cell_type": "code",
      "metadata": {
        "id": "s3S93fW_iaME",
        "colab_type": "code",
        "colab": {}
      },
      "source": [
        "test_predictions = model.predict(normed_test_data).flatten()"
      ],
      "execution_count": null,
      "outputs": []
    },
    {
      "cell_type": "code",
      "metadata": {
        "id": "ZS7yYvNuxr_s",
        "colab_type": "code",
        "colab": {}
      },
      "source": [
        "result = model.predict(normed_test_data)"
      ],
      "execution_count": null,
      "outputs": []
    },
    {
      "cell_type": "code",
      "metadata": {
        "id": "4TVyC8RIxuDm",
        "colab_type": "code",
        "colab": {
          "base_uri": "https://localhost:8080/",
          "height": 51
        },
        "outputId": "8c1c331d-abea-4761-9096-2d57915352dc"
      },
      "source": [
        "loss, accuracy = model.evaluate(normed_test_data, test_labels, verbose=0)\n",
        "\n",
        "print(\"Testing set Accuracy: {:5.2f} netgain\".format(accuracy))\n",
        "print(\"Testing set Loss: {:5.2f} netgain\".format(loss))"
      ],
      "execution_count": null,
      "outputs": [
        {
          "output_type": "stream",
          "text": [
            "163/163 - 0s - loss: 0.4043 - accuracy: 0.8021\n"
          ],
          "name": "stdout"
        },
        {
          "output_type": "execute_result",
          "data": {
            "text/plain": [
              "[0.4042535722255707, 0.8021113276481628]"
            ]
          },
          "metadata": {
            "tags": []
          },
          "execution_count": 69
        }
      ]
    },
    {
      "cell_type": "markdown",
      "metadata": {
        "id": "Yw7sv5FpiaMI",
        "colab_type": "text"
      },
      "source": [
        "<a id=section4></a>\n",
        "## 4. Model Tuning"
      ]
    },
    {
      "cell_type": "markdown",
      "metadata": {
        "id": "Zj0qrh8BiaMI",
        "colab_type": "text"
      },
      "source": [
        "- We have already achieved very good result on our test set.\n",
        "\n",
        "- If we train the model for too long, the model will start to overfit and learn patterns from the training data that don't generalize to the test data.\n",
        "\n",
        "  - We need to strike a balance.\n",
        "  \n",
        "  - We have already learned how to train for an appropriate number of epochs using the **Early Stopping** callback.\n",
        "\n",
        "- And, now we will experiment some additional methods to **improve** the model **performance** and reduce overfitting.\n",
        "\n",
        "  - These methods will all be applied during model building."
      ]
    },
    {
      "cell_type": "markdown",
      "metadata": {
        "id": "jxdIe2mpiaMJ",
        "colab_type": "text"
      },
      "source": [
        "<a id=section401></a>\n",
        "\n",
        "1.   List item\n",
        "2.   List item\n",
        "\n",
        "\n",
        "### 4.1 Increasing the Number of Hidden Layers and Hidden Units"
      ]
    },
    {
      "cell_type": "markdown",
      "metadata": {
        "id": "yOZl-C7IiaMJ",
        "colab_type": "text"
      },
      "source": [
        "- We can improve model performance by increasing the number of hidden layers and hidden units in the model.\n",
        "\n",
        "  - But this can result in overfitting.\n",
        "\n",
        "- Here, we are increasing the number of **hidden layers** from 2 to **4** i. e. adding 2 additional layers.\n",
        "\n",
        "- Next, we are using **256 hidden units** instead of 64."
      ]
    },
    {
      "cell_type": "code",
      "metadata": {
        "id": "MJL_ANyjaqcO",
        "colab_type": "code",
        "colab": {}
      },
      "source": [
        "model = keras.Sequential([layers.Dense(256, activation='relu', input_shape=[len(train_dataset.keys())]),\n",
        "                          layers.Dense(256, activation='relu'),\n",
        "                          layers.Dense(256, activation='relu'),\n",
        "                          layers.Dense(256, activation='relu'),\n",
        "                          layers.Dense(1, activation='sigmoid')])"
      ],
      "execution_count": null,
      "outputs": []
    },
    {
      "cell_type": "code",
      "metadata": {
        "id": "6OBqYw6aazb_",
        "colab_type": "code",
        "colab": {
          "base_uri": "https://localhost:8080/",
          "height": 323
        },
        "outputId": "861bbef7-2df4-4700-d30c-b9a58f050ca3"
      },
      "source": [
        "model.summary()"
      ],
      "execution_count": null,
      "outputs": [
        {
          "output_type": "stream",
          "text": [
            "Model: \"sequential_3\"\n",
            "_________________________________________________________________\n",
            "Layer (type)                 Output Shape              Param #   \n",
            "=================================================================\n",
            "dense_11 (Dense)             (None, 256)               2816      \n",
            "_________________________________________________________________\n",
            "dense_12 (Dense)             (None, 256)               65792     \n",
            "_________________________________________________________________\n",
            "dense_13 (Dense)             (None, 256)               65792     \n",
            "_________________________________________________________________\n",
            "dense_14 (Dense)             (None, 256)               65792     \n",
            "_________________________________________________________________\n",
            "dense_15 (Dense)             (None, 1)                 257       \n",
            "=================================================================\n",
            "Total params: 200,449\n",
            "Trainable params: 200,449\n",
            "Non-trainable params: 0\n",
            "_________________________________________________________________\n"
          ],
          "name": "stdout"
        }
      ]
    },
    {
      "cell_type": "code",
      "metadata": {
        "id": "pnsD8G4za3pO",
        "colab_type": "code",
        "colab": {}
      },
      "source": [
        "# Defining the optimizer with a specific learning rate of 0.001\n",
        "optimizer = tf.keras.optimizers.Adam()\n",
        "\n",
        "# Compiling the model\n",
        "model.compile(loss='binary_crossentropy', optimizer=optimizer, metrics=['accuracy'])\n"
      ],
      "execution_count": null,
      "outputs": []
    },
    {
      "cell_type": "code",
      "metadata": {
        "id": "yFyYIarYbED3",
        "colab_type": "code",
        "colab": {
          "base_uri": "https://localhost:8080/",
          "height": 68
        },
        "outputId": "8d9f6e6f-c573-42c2-b361-d1e3b5963a64"
      },
      "source": [
        "history_large = model.fit(normed_train_data, train_labels, epochs=100, validation_split=0.2,\n",
        "                          verbose=0, callbacks=[tfdocs.modeling.EpochDots()])"
      ],
      "execution_count": null,
      "outputs": [
        {
          "output_type": "stream",
          "text": [
            "\n",
            "Epoch: 0, accuracy:0.8026,  loss:0.4042,  val_accuracy:0.8059,  val_loss:0.3976,  \n",
            "...................................................................................................."
          ],
          "name": "stdout"
        }
      ]
    },
    {
      "cell_type": "code",
      "metadata": {
        "id": "o7WmoKL9bNrb",
        "colab_type": "code",
        "colab": {
          "base_uri": "https://localhost:8080/",
          "height": 204
        },
        "outputId": "a562ed62-9aae-47ce-d7e5-15f9818dac48"
      },
      "source": [
        "hist_large = pd.DataFrame(history_large.history)\n",
        "hist_large['epoch'] = history_large.epoch\n",
        "hist_large.tail()"
      ],
      "execution_count": null,
      "outputs": [
        {
          "output_type": "execute_result",
          "data": {
            "text/html": [
              "<div>\n",
              "<style scoped>\n",
              "    .dataframe tbody tr th:only-of-type {\n",
              "        vertical-align: middle;\n",
              "    }\n",
              "\n",
              "    .dataframe tbody tr th {\n",
              "        vertical-align: top;\n",
              "    }\n",
              "\n",
              "    .dataframe thead th {\n",
              "        text-align: right;\n",
              "    }\n",
              "</style>\n",
              "<table border=\"1\" class=\"dataframe\">\n",
              "  <thead>\n",
              "    <tr style=\"text-align: right;\">\n",
              "      <th></th>\n",
              "      <th>loss</th>\n",
              "      <th>accuracy</th>\n",
              "      <th>val_loss</th>\n",
              "      <th>val_accuracy</th>\n",
              "      <th>epoch</th>\n",
              "    </tr>\n",
              "  </thead>\n",
              "  <tbody>\n",
              "    <tr>\n",
              "      <th>95</th>\n",
              "      <td>0.299088</td>\n",
              "      <td>0.841212</td>\n",
              "      <td>0.689874</td>\n",
              "      <td>0.809261</td>\n",
              "      <td>95</td>\n",
              "    </tr>\n",
              "    <tr>\n",
              "      <th>96</th>\n",
              "      <td>0.295328</td>\n",
              "      <td>0.841272</td>\n",
              "      <td>0.672155</td>\n",
              "      <td>0.803503</td>\n",
              "      <td>96</td>\n",
              "    </tr>\n",
              "    <tr>\n",
              "      <th>97</th>\n",
              "      <td>0.293957</td>\n",
              "      <td>0.840972</td>\n",
              "      <td>0.721501</td>\n",
              "      <td>0.806862</td>\n",
              "      <td>97</td>\n",
              "    </tr>\n",
              "    <tr>\n",
              "      <th>98</th>\n",
              "      <td>0.299753</td>\n",
              "      <td>0.840792</td>\n",
              "      <td>0.750631</td>\n",
              "      <td>0.804223</td>\n",
              "      <td>98</td>\n",
              "    </tr>\n",
              "    <tr>\n",
              "      <th>99</th>\n",
              "      <td>0.300392</td>\n",
              "      <td>0.839292</td>\n",
              "      <td>0.690217</td>\n",
              "      <td>0.802303</td>\n",
              "      <td>99</td>\n",
              "    </tr>\n",
              "  </tbody>\n",
              "</table>\n",
              "</div>"
            ],
            "text/plain": [
              "        loss  accuracy  val_loss  val_accuracy  epoch\n",
              "95  0.299088  0.841212  0.689874      0.809261     95\n",
              "96  0.295328  0.841272  0.672155      0.803503     96\n",
              "97  0.293957  0.840972  0.721501      0.806862     97\n",
              "98  0.299753  0.840792  0.750631      0.804223     98\n",
              "99  0.300392  0.839292  0.690217      0.802303     99"
            ]
          },
          "metadata": {
            "tags": []
          },
          "execution_count": 77
        }
      ]
    },
    {
      "cell_type": "code",
      "metadata": {
        "id": "kn3fAxifb1AO",
        "colab_type": "code",
        "colab": {
          "base_uri": "https://localhost:8080/",
          "height": 562
        },
        "outputId": "88df18aa-6797-42bc-c2c7-bb1010617a64"
      },
      "source": [
        "# -----------------------------------------------------------\n",
        "# Retrieve a list of list results on training and test data\n",
        "# sets for each training epoch\n",
        "# -----------------------------------------------------------\n",
        "acc = history_large.history['accuracy']\n",
        "val_acc = history_large.history['val_accuracy']\n",
        "loss = history_large.history['loss']\n",
        "val_loss = history_large.history['val_loss']\n",
        "\n",
        "epochs = range(len(acc))  # Get number of epochs\n",
        "\n",
        "# ------------------------------------------------\n",
        "# Plot training and validation accuracy per epoch\n",
        "# ------------------------------------------------\n",
        "plt.plot(epochs, acc, 'r', label='Training accuracy')\n",
        "plt.plot(epochs, val_acc, 'b', label='Validation accuracy')\n",
        "plt.title('Training and validation accuracy')\n",
        "plt.figure()\n",
        "\n",
        "# ------------------------------------------------\n",
        "# Plot training and validation loss per epoch\n",
        "# ------------------------------------------------\n",
        "plt.plot(epochs, loss, 'r', label='Training Loss')\n",
        "plt.plot(epochs, val_loss, 'b', label='Validation Loss')\n",
        "plt.title('Training and validation loss')"
      ],
      "execution_count": null,
      "outputs": [
        {
          "output_type": "execute_result",
          "data": {
            "text/plain": [
              "Text(0.5, 1.0, 'Training and validation loss')"
            ]
          },
          "metadata": {
            "tags": []
          },
          "execution_count": 79
        },
        {
          "output_type": "display_data",
          "data": {
            "image/png": "[encoded data removed]",
            "text/plain": [
              "<Figure size 432x288 with 1 Axes>"
            ]
          },
          "metadata": {
            "tags": [],
            "needs_background": "light"
          }
        },
        {
          "output_type": "display_data",
          "data": {
            "image/png": "[encoded data removed]",
            "text/plain": [
              "<Figure size 432x288 with 1 Axes>"
            ]
          },
          "metadata": {
            "tags": [],
            "needs_background": "light"
          }
        }
      ]
    },
    {
      "cell_type": "code",
      "metadata": {
        "id": "IPs_QxK2bUwL",
        "colab_type": "code",
        "colab": {
          "base_uri": "https://localhost:8080/",
          "height": 68
        },
        "outputId": "e9956212-2027-465a-94f4-f0398d6d8f5f"
      },
      "source": [
        "loss, accuracy = model.evaluate(normed_test_data, test_labels, verbose=0)\n",
        "\n",
        "print(\"Testing set Accuracy: {:5.2f} netgain\".format(accuracy))\n",
        "print(\"Testing set Loss: {:5.2f} netgain\".format(loss))"
      ],
      "execution_count": null,
      "outputs": [
        {
          "output_type": "stream",
          "text": [
            "163/163 - 0s - loss: 0.6535 - accuracy: 0.8025\n",
            "Testing set Accuracy:  0.80 netgain\n",
            "Testing set Loss:  0.65 netgain\n"
          ],
          "name": "stdout"
        }
      ]
    },
    {
      "cell_type": "markdown",
      "metadata": {
        "id": "7Vzr-PQaiaMK",
        "colab_type": "text"
      },
      "source": [
        "<a id=section402></a>\n",
        "### 4.2 Weight Regularization"
      ]
    },
    {
      "cell_type": "markdown",
      "metadata": {
        "id": "55uZnyKeiaML",
        "colab_type": "text"
      },
      "source": [
        "- Regularization places **constraints** on the quantity and type of information the model can store.\n",
        "\n",
        "- If a network can only afford to memorize a small number of patterns, the optimization process will force it to focus on the most prominent patterns, which have a better chance of generalizing well."
      ]
    },
    {
      "cell_type": "markdown",
      "metadata": {
        "id": "cgWLIgMNiaML",
        "colab_type": "text"
      },
      "source": [
        "- We can put constraints on the complexity of a network by forcing its weights only to take small values, which makes the distribution of weight values more \"regular\".\n",
        "\n",
        "- This is called \"**weight regularization**\", and it is done by adding to the loss function of the network a cost associated with having large weights."
      ]
    },
    {
      "cell_type": "markdown",
      "metadata": {
        "id": "ShSiKrkIiaMM",
        "colab_type": "text"
      },
      "source": [
        "- This cost comes in two flavors:\n",
        "\n",
        "  - L1 regularization, where the cost added is proportional to the absolute value of the weights coefficients (i.e. to what is called the \"L1 norm\" of the weights).\n",
        "\n",
        "  - L2 regularization, where the cost added is proportional to the square of the value of the weights coefficients (i.e. to what is called the squared \"L2 norm\" of the weights).\n",
        "    - L2 regularization is also called weight decay in the context of neural networks.\n",
        "    \n",
        "    - Don't let the different name confuse you: weight decay is mathematically the exact same as L2 regularization."
      ]
    },
    {
      "cell_type": "markdown",
      "metadata": {
        "id": "2HmAlEsdiaMM",
        "colab_type": "text"
      },
      "source": [
        "- L1 regularization pushes weights towards exactly zero encouraging a sparse model.\n",
        "\n",
        "- L2 regularization will penalize the weights parameters without making them sparse since the penalty goes to zero for small weights.\n",
        "\n",
        "  - One reason why L2 is more common.\n",
        "\n",
        "- In `tf.keras`, weight regularization is added by passing weight regularizer instances to layers as keyword arguments.\n",
        "\n",
        "- Let's add L2 weight regularization to the model."
      ]
    },
    {
      "cell_type": "code",
      "metadata": {
        "id": "YueqWfmtcPP_",
        "colab_type": "code",
        "colab": {}
      },
      "source": [
        "from tensorflow.keras import regularizers"
      ],
      "execution_count": 6,
      "outputs": []
    },
    {
      "cell_type": "code",
      "metadata": {
        "id": "t3eigte1cQ_f",
        "colab_type": "code",
        "colab": {}
      },
      "source": [
        "model = keras.Sequential([layers.Dense(256, activation='relu', kernel_regularizer=regularizers.l2(0.001), input_shape=[len(train_dataset.keys())]),\n",
        "                          layers.Dense(256, activation='relu', kernel_regularizer=regularizers.l2(0.001)),\n",
        "                          layers.Dense(256, activation='relu', kernel_regularizer=regularizers.l2(0.001)),\n",
        "                          layers.Dense(256, activation='relu', kernel_regularizer=regularizers.l2(0.001)),\n",
        "                          layers.Dense(1, activation='sigmoid')])"
      ],
      "execution_count": null,
      "outputs": []
    },
    {
      "cell_type": "code",
      "metadata": {
        "id": "1WmwGWiBcX3G",
        "colab_type": "code",
        "colab": {
          "base_uri": "https://localhost:8080/",
          "height": 323
        },
        "outputId": "5a5616d6-adab-4fbd-d7f1-7dc2464ffa49"
      },
      "source": [
        "model.summary()"
      ],
      "execution_count": null,
      "outputs": [
        {
          "output_type": "stream",
          "text": [
            "Model: \"sequential_4\"\n",
            "_________________________________________________________________\n",
            "Layer (type)                 Output Shape              Param #   \n",
            "=================================================================\n",
            "dense_16 (Dense)             (None, 256)               2816      \n",
            "_________________________________________________________________\n",
            "dense_17 (Dense)             (None, 256)               65792     \n",
            "_________________________________________________________________\n",
            "dense_18 (Dense)             (None, 256)               65792     \n",
            "_________________________________________________________________\n",
            "dense_19 (Dense)             (None, 256)               65792     \n",
            "_________________________________________________________________\n",
            "dense_20 (Dense)             (None, 1)                 257       \n",
            "=================================================================\n",
            "Total params: 200,449\n",
            "Trainable params: 200,449\n",
            "Non-trainable params: 0\n",
            "_________________________________________________________________\n"
          ],
          "name": "stdout"
        }
      ]
    },
    {
      "cell_type": "code",
      "metadata": {
        "id": "xD3oi9_EciwQ",
        "colab_type": "code",
        "colab": {}
      },
      "source": [
        "# Defining the optimizer with a specific learning rate of 0.001\n",
        "optimizer = tf.keras.optimizers.Adam()\n",
        "\n",
        "# Compiling the model\n",
        "model.compile(loss='binary_crossentropy', optimizer=optimizer, metrics=['accuracy'])\n"
      ],
      "execution_count": null,
      "outputs": []
    },
    {
      "cell_type": "code",
      "metadata": {
        "id": "itSxytwhcllX",
        "colab_type": "code",
        "colab": {
          "base_uri": "https://localhost:8080/",
          "height": 68
        },
        "outputId": "9c42b28d-2a88-4d58-9a94-418b1a70840e"
      },
      "source": [
        "history_l2 = model.fit(normed_train_data, train_labels, epochs=100, validation_split=0.2,\n",
        "                          verbose=0, callbacks=[tfdocs.modeling.EpochDots()])"
      ],
      "execution_count": null,
      "outputs": [
        {
          "output_type": "stream",
          "text": [
            "\n",
            "Epoch: 0, accuracy:0.8001,  loss:0.6094,  val_accuracy:0.7999,  val_loss:0.4595,  \n",
            "...................................................................................................."
          ],
          "name": "stdout"
        }
      ]
    },
    {
      "cell_type": "code",
      "metadata": {
        "id": "sZGLtraucq9c",
        "colab_type": "code",
        "colab": {
          "base_uri": "https://localhost:8080/",
          "height": 204
        },
        "outputId": "5232d4d4-2b87-4819-e409-2effa7cff8a2"
      },
      "source": [
        "hist_l2 = pd.DataFrame(history_l2.history)\n",
        "hist_l2['epoch'] = history_l2.epoch\n",
        "hist_l2.tail()"
      ],
      "execution_count": null,
      "outputs": [
        {
          "output_type": "execute_result",
          "data": {
            "text/html": [
              "<div>\n",
              "<style scoped>\n",
              "    .dataframe tbody tr th:only-of-type {\n",
              "        vertical-align: middle;\n",
              "    }\n",
              "\n",
              "    .dataframe tbody tr th {\n",
              "        vertical-align: top;\n",
              "    }\n",
              "\n",
              "    .dataframe thead th {\n",
              "        text-align: right;\n",
              "    }\n",
              "</style>\n",
              "<table border=\"1\" class=\"dataframe\">\n",
              "  <thead>\n",
              "    <tr style=\"text-align: right;\">\n",
              "      <th></th>\n",
              "      <th>loss</th>\n",
              "      <th>accuracy</th>\n",
              "      <th>val_loss</th>\n",
              "      <th>val_accuracy</th>\n",
              "      <th>epoch</th>\n",
              "    </tr>\n",
              "  </thead>\n",
              "  <tbody>\n",
              "    <tr>\n",
              "      <th>95</th>\n",
              "      <td>0.373051</td>\n",
              "      <td>0.814157</td>\n",
              "      <td>0.390454</td>\n",
              "      <td>0.816459</td>\n",
              "      <td>95</td>\n",
              "    </tr>\n",
              "    <tr>\n",
              "      <th>96</th>\n",
              "      <td>0.372436</td>\n",
              "      <td>0.818236</td>\n",
              "      <td>0.391861</td>\n",
              "      <td>0.812380</td>\n",
              "      <td>96</td>\n",
              "    </tr>\n",
              "    <tr>\n",
              "      <th>97</th>\n",
              "      <td>0.371965</td>\n",
              "      <td>0.814937</td>\n",
              "      <td>0.389955</td>\n",
              "      <td>0.811180</td>\n",
              "      <td>97</td>\n",
              "    </tr>\n",
              "    <tr>\n",
              "      <th>98</th>\n",
              "      <td>0.371796</td>\n",
              "      <td>0.814937</td>\n",
              "      <td>0.390307</td>\n",
              "      <td>0.815739</td>\n",
              "      <td>98</td>\n",
              "    </tr>\n",
              "    <tr>\n",
              "      <th>99</th>\n",
              "      <td>0.372405</td>\n",
              "      <td>0.816197</td>\n",
              "      <td>0.391252</td>\n",
              "      <td>0.812380</td>\n",
              "      <td>99</td>\n",
              "    </tr>\n",
              "  </tbody>\n",
              "</table>\n",
              "</div>"
            ],
            "text/plain": [
              "        loss  accuracy  val_loss  val_accuracy  epoch\n",
              "95  0.373051  0.814157  0.390454      0.816459     95\n",
              "96  0.372436  0.818236  0.391861      0.812380     96\n",
              "97  0.371965  0.814937  0.389955      0.811180     97\n",
              "98  0.371796  0.814937  0.390307      0.815739     98\n",
              "99  0.372405  0.816197  0.391252      0.812380     99"
            ]
          },
          "metadata": {
            "tags": []
          },
          "execution_count": 86
        }
      ]
    },
    {
      "cell_type": "code",
      "metadata": {
        "id": "pGMQoRFocwUI",
        "colab_type": "code",
        "colab": {
          "base_uri": "https://localhost:8080/",
          "height": 562
        },
        "outputId": "ce91b2e6-7219-4dd4-95e5-539af6332c8f"
      },
      "source": [
        "# -----------------------------------------------------------\n",
        "# Retrieve a list of list results on training and test data\n",
        "# sets for each training epoch\n",
        "# -----------------------------------------------------------\n",
        "acc = history_l2.history['accuracy']\n",
        "val_acc = history_l2.history['val_accuracy']\n",
        "loss = history_l2.history['loss']\n",
        "val_loss = history_l2.history['val_loss']\n",
        "\n",
        "epochs = range(len(acc))  # Get number of epochs\n",
        "\n",
        "# ------------------------------------------------\n",
        "# Plot training and validation accuracy per epoch\n",
        "# ------------------------------------------------\n",
        "plt.plot(epochs, acc, 'r', label='Training accuracy')\n",
        "plt.plot(epochs, val_acc, 'b', label='Validation accuracy')\n",
        "plt.title('Training and validation accuracy')\n",
        "plt.figure()\n",
        "\n",
        "# ------------------------------------------------\n",
        "# Plot training and validation loss per epoch\n",
        "# ------------------------------------------------\n",
        "plt.plot(epochs, loss, 'r', label='Training Loss')\n",
        "plt.plot(epochs, val_loss, 'b', label='Validation Loss')\n",
        "plt.title('Training and validation loss')"
      ],
      "execution_count": null,
      "outputs": [
        {
          "output_type": "execute_result",
          "data": {
            "text/plain": [
              "Text(0.5, 1.0, 'Training and validation loss')"
            ]
          },
          "metadata": {
            "tags": []
          },
          "execution_count": 87
        },
        {
          "output_type": "display_data",
          "data": {
            "image/png": "[encoded data removed]",
            "text/plain": [
              "<Figure size 432x288 with 1 Axes>"
            ]
          },
          "metadata": {
            "tags": [],
            "needs_background": "light"
          }
        },
        {
          "output_type": "display_data",
          "data": {
            "image/png": "[encoded data removed]",
            "text/plain": [
              "<Figure size 432x288 with 1 Axes>"
            ]
          },
          "metadata": {
            "tags": [],
            "needs_background": "light"
          }
        }
      ]
    },
    {
      "cell_type": "code",
      "metadata": {
        "id": "C2YPBk8FculQ",
        "colab_type": "code",
        "colab": {
          "base_uri": "https://localhost:8080/",
          "height": 68
        },
        "outputId": "595d2926-0363-4c17-a2a5-ad6e57af9fd0"
      },
      "source": [
        "loss, accuracy = model.evaluate(normed_test_data, test_labels, verbose=0)\n",
        "\n",
        "print(\"Testing set Accuracy: {:5.2f} netgain\".format(accuracy))\n",
        "print(\"Testing set Loss: {:5.2f} netgain\".format(loss))"
      ],
      "execution_count": null,
      "outputs": [
        {
          "output_type": "stream",
          "text": [
            "163/163 - 0s - loss: 0.3911 - accuracy: 0.8113\n",
            "Testing set Accuracy:  0.81 netgain\n",
            "Testing set Loss:  0.39 netgain\n"
          ],
          "name": "stdout"
        }
      ]
    },
    {
      "cell_type": "markdown",
      "metadata": {
        "id": "zX-B8PdJiaMN",
        "colab_type": "text"
      },
      "source": [
        "<a id=section403></a>\n",
        "### 4.3 Dropout"
      ]
    },
    {
      "cell_type": "markdown",
      "metadata": {
        "id": "Fv3L__DWiaMN",
        "colab_type": "text"
      },
      "source": [
        "- Dropout is one of the **most effective** and **most commonly used** regularization techniques for neural networks, developed by Hinton and his students at the University of Toronto.\n",
        "\n",
        "- The intuitive explanation for dropout is that because individual nodes in the network cannot rely on the output of the others, each node must output features that are useful on their own.\n",
        "\n",
        "- Dropout, applied to a layer, consists of **randomly** \"**dropping out**\" (i.e. set to zero) a number of **output features** of the layer during training.\n",
        "\n",
        "  - Let's say a given layer would normally have returned a vector [0.2, 0.5, 1.3, 0.8, 1.1] for a given input sample during training.\n",
        "  \n",
        "  - After applying dropout, this vector will have a few zero entries distributed at random, e.g. [0, 0.5, 1.3, 0, 1.1].\n",
        "\n",
        "- The \"**dropout rate**\" is the fraction of the features that are being zeroed-out; it is usually set between **0.2** and **0.5**.\n",
        "\n",
        "- *At test time*, **no units are dropped out**, and instead the layer's output values are scaled down by a factor equal to the dropout rate, so as to balance for the fact that more units are active than at training time."
      ]
    },
    {
      "cell_type": "markdown",
      "metadata": {
        "id": "7TQHAAwSiaMN",
        "colab_type": "text"
      },
      "source": [
        "- In `tf.keras` we can introduce dropout in a network via the Dropout layer, which gets applied to the output of layer right before.\n",
        "\n",
        "- Let's add Dropout layers in our network to see how well they do at reducing overfitting."
      ]
    },
    {
      "cell_type": "code",
      "metadata": {
        "id": "nbSEvsrqdbWg",
        "colab_type": "code",
        "colab": {}
      },
      "source": [
        "model = keras.Sequential([layers.Dense(256, activation='relu', input_shape=[len(train_dataset.keys())]),\n",
        "                          layers.Dropout(0.2),\n",
        "                          layers.Dense(256, activation='relu'),\n",
        "                          layers.Dropout(0.2),\n",
        "                          layers.Dense(256, activation='relu'),\n",
        "                          layers.Dropout(0.2),\n",
        "                          layers.Dense(256, activation='relu'),\n",
        "                          layers.Dropout(0.2),\n",
        "                          layers.Dense(1, activation='sigmoid')])"
      ],
      "execution_count": null,
      "outputs": []
    },
    {
      "cell_type": "code",
      "metadata": {
        "id": "ihMsPaVWdg3Y",
        "colab_type": "code",
        "colab": {
          "base_uri": "https://localhost:8080/",
          "height": 459
        },
        "outputId": "fb212a42-c916-44cd-a73b-eae1b6805972"
      },
      "source": [
        "model.summary()"
      ],
      "execution_count": null,
      "outputs": [
        {
          "output_type": "stream",
          "text": [
            "Model: \"sequential_6\"\n",
            "_________________________________________________________________\n",
            "Layer (type)                 Output Shape              Param #   \n",
            "=================================================================\n",
            "dense_26 (Dense)             (None, 256)               2816      \n",
            "_________________________________________________________________\n",
            "dropout_4 (Dropout)          (None, 256)               0         \n",
            "_________________________________________________________________\n",
            "dense_27 (Dense)             (None, 256)               65792     \n",
            "_________________________________________________________________\n",
            "dropout_5 (Dropout)          (None, 256)               0         \n",
            "_________________________________________________________________\n",
            "dense_28 (Dense)             (None, 256)               65792     \n",
            "_________________________________________________________________\n",
            "dropout_6 (Dropout)          (None, 256)               0         \n",
            "_________________________________________________________________\n",
            "dense_29 (Dense)             (None, 256)               65792     \n",
            "_________________________________________________________________\n",
            "dropout_7 (Dropout)          (None, 256)               0         \n",
            "_________________________________________________________________\n",
            "dense_30 (Dense)             (None, 1)                 257       \n",
            "=================================================================\n",
            "Total params: 200,449\n",
            "Trainable params: 200,449\n",
            "Non-trainable params: 0\n",
            "_________________________________________________________________\n"
          ],
          "name": "stdout"
        }
      ]
    },
    {
      "cell_type": "code",
      "metadata": {
        "id": "2Qp6GgIFdkmF",
        "colab_type": "code",
        "colab": {}
      },
      "source": [
        "# Defining the optimizer with a specific learning rate of 0.001\n",
        "optimizer = tf.keras.optimizers.Adam()\n",
        "\n",
        "# Compiling the model\n",
        "model.compile(loss='binary_crossentropy', optimizer=optimizer, metrics=['accuracy'])\n"
      ],
      "execution_count": null,
      "outputs": []
    },
    {
      "cell_type": "code",
      "metadata": {
        "id": "IuPLg6LZdpIl",
        "colab_type": "code",
        "colab": {
          "base_uri": "https://localhost:8080/",
          "height": 68
        },
        "outputId": "72573493-9a14-40de-8071-9f658664627b"
      },
      "source": [
        "history_dropout = model.fit(normed_train_data, train_labels, epochs=100, validation_split=0.2,\n",
        "                          verbose=0, callbacks=[tfdocs.modeling.EpochDots()])"
      ],
      "execution_count": null,
      "outputs": [
        {
          "output_type": "stream",
          "text": [
            "\n",
            "Epoch: 0, accuracy:0.7984,  loss:0.4178,  val_accuracy:0.8009,  val_loss:0.3991,  \n",
            "...................................................................................................."
          ],
          "name": "stdout"
        }
      ]
    },
    {
      "cell_type": "code",
      "metadata": {
        "id": "8HpPIC7vdsIl",
        "colab_type": "code",
        "colab": {
          "base_uri": "https://localhost:8080/",
          "height": 204
        },
        "outputId": "6638ff5a-7037-4c95-ca7e-d82b5272e227"
      },
      "source": [
        "hist_dropout = pd.DataFrame(history_dropout.history)\n",
        "hist_dropout['epoch'] = history_dropout.epoch\n",
        "hist_dropout.tail()"
      ],
      "execution_count": null,
      "outputs": [
        {
          "output_type": "execute_result",
          "data": {
            "text/html": [
              "<div>\n",
              "<style scoped>\n",
              "    .dataframe tbody tr th:only-of-type {\n",
              "        vertical-align: middle;\n",
              "    }\n",
              "\n",
              "    .dataframe tbody tr th {\n",
              "        vertical-align: top;\n",
              "    }\n",
              "\n",
              "    .dataframe thead th {\n",
              "        text-align: right;\n",
              "    }\n",
              "</style>\n",
              "<table border=\"1\" class=\"dataframe\">\n",
              "  <thead>\n",
              "    <tr style=\"text-align: right;\">\n",
              "      <th></th>\n",
              "      <th>loss</th>\n",
              "      <th>accuracy</th>\n",
              "      <th>val_loss</th>\n",
              "      <th>val_accuracy</th>\n",
              "      <th>epoch</th>\n",
              "    </tr>\n",
              "  </thead>\n",
              "  <tbody>\n",
              "    <tr>\n",
              "      <th>95</th>\n",
              "      <td>0.336539</td>\n",
              "      <td>0.825315</td>\n",
              "      <td>0.429100</td>\n",
              "      <td>0.811660</td>\n",
              "      <td>95</td>\n",
              "    </tr>\n",
              "    <tr>\n",
              "      <th>96</th>\n",
              "      <td>0.334819</td>\n",
              "      <td>0.824895</td>\n",
              "      <td>0.439794</td>\n",
              "      <td>0.809981</td>\n",
              "      <td>96</td>\n",
              "    </tr>\n",
              "    <tr>\n",
              "      <th>97</th>\n",
              "      <td>0.334299</td>\n",
              "      <td>0.822795</td>\n",
              "      <td>0.435585</td>\n",
              "      <td>0.813340</td>\n",
              "      <td>97</td>\n",
              "    </tr>\n",
              "    <tr>\n",
              "      <th>98</th>\n",
              "      <td>0.334299</td>\n",
              "      <td>0.824415</td>\n",
              "      <td>0.436373</td>\n",
              "      <td>0.813580</td>\n",
              "      <td>98</td>\n",
              "    </tr>\n",
              "    <tr>\n",
              "      <th>99</th>\n",
              "      <td>0.333286</td>\n",
              "      <td>0.824475</td>\n",
              "      <td>0.431985</td>\n",
              "      <td>0.813340</td>\n",
              "      <td>99</td>\n",
              "    </tr>\n",
              "  </tbody>\n",
              "</table>\n",
              "</div>"
            ],
            "text/plain": [
              "        loss  accuracy  val_loss  val_accuracy  epoch\n",
              "95  0.336539  0.825315  0.429100      0.811660     95\n",
              "96  0.334819  0.824895  0.439794      0.809981     96\n",
              "97  0.334299  0.822795  0.435585      0.813340     97\n",
              "98  0.334299  0.824415  0.436373      0.813580     98\n",
              "99  0.333286  0.824475  0.431985      0.813340     99"
            ]
          },
          "metadata": {
            "tags": []
          },
          "execution_count": 94
        }
      ]
    },
    {
      "cell_type": "code",
      "metadata": {
        "id": "B7ECgjDadvse",
        "colab_type": "code",
        "colab": {
          "base_uri": "https://localhost:8080/",
          "height": 562
        },
        "outputId": "9eaf4fd8-2a15-4588-e8bb-ec7b2bd587c8"
      },
      "source": [
        "# -----------------------------------------------------------\n",
        "# Retrieve a list of list results on training and test data\n",
        "# sets for each training epoch\n",
        "# -----------------------------------------------------------\n",
        "acc = history_dropout.history['accuracy']\n",
        "val_acc = history_dropout.history['val_accuracy']\n",
        "loss = history_dropout.history['loss']\n",
        "val_loss = history_dropout.history['val_loss']\n",
        "\n",
        "epochs = range(len(acc))  # Get number of epochs\n",
        "\n",
        "# ------------------------------------------------\n",
        "# Plot training and validation accuracy per epoch\n",
        "# ------------------------------------------------\n",
        "plt.plot(epochs, acc, 'r', label='Training accuracy')\n",
        "plt.plot(epochs, val_acc, 'b', label='Validation accuracy')\n",
        "plt.title('Training and validation accuracy')\n",
        "plt.figure()\n",
        "\n",
        "# ------------------------------------------------\n",
        "# Plot training and validation loss per epoch\n",
        "# ------------------------------------------------\n",
        "plt.plot(epochs, loss, 'r', label='Training Loss')\n",
        "plt.plot(epochs, val_loss, 'b', label='Validation Loss')\n",
        "plt.title('Training and validation loss')"
      ],
      "execution_count": null,
      "outputs": [
        {
          "output_type": "execute_result",
          "data": {
            "text/plain": [
              "Text(0.5, 1.0, 'Training and validation loss')"
            ]
          },
          "metadata": {
            "tags": []
          },
          "execution_count": 95
        },
        {
          "output_type": "display_data",
          "data": {
            "image/png": "[encoded data removed]",
            "text/plain": [
              "<Figure size 432x288 with 1 Axes>"
            ]
          },
          "metadata": {
            "tags": [],
            "needs_background": "light"
          }
        },
        {
          "output_type": "display_data",
          "data": {
            "image/png": "[encoded data removed]",
            "text/plain": [
              "<Figure size 432x288 with 1 Axes>"
            ]
          },
          "metadata": {
            "tags": [],
            "needs_background": "light"
          }
        }
      ]
    },
    {
      "cell_type": "code",
      "metadata": {
        "id": "_v7lmXFXdzsB",
        "colab_type": "code",
        "colab": {
          "base_uri": "https://localhost:8080/",
          "height": 68
        },
        "outputId": "9148ecdc-b5fd-4682-fddd-946153f37aea"
      },
      "source": [
        "loss, accuracy = model.evaluate(normed_test_data, test_labels, verbose=0)\n",
        "\n",
        "print(\"Testing set Accuracy: {:5.2f} netgain\".format(accuracy))\n",
        "print(\"Testing set Loss: {:5.2f} netgain\".format(loss))"
      ],
      "execution_count": null,
      "outputs": [
        {
          "output_type": "stream",
          "text": [
            "163/163 - 0s - loss: 0.4138 - accuracy: 0.8104\n",
            "Testing set Accuracy:  0.81 netgain\n",
            "Testing set Loss:  0.41 netgain\n"
          ],
          "name": "stdout"
        }
      ]
    },
    {
      "cell_type": "markdown",
      "metadata": {
        "id": "Wu4R1BtDiaMO",
        "colab_type": "text"
      },
      "source": [
        "<a id=section404></a>\n",
        "### 4.4 Combined L2 + Dropout"
      ]
    },
    {
      "cell_type": "markdown",
      "metadata": {
        "id": "QE-vNKkMiaMP",
        "colab_type": "text"
      },
      "source": [
        "- We can also combine both L2 regularization and Dropout in a single model."
      ]
    },
    {
      "cell_type": "code",
      "metadata": {
        "id": "648HOqBKe0CN",
        "colab_type": "code",
        "colab": {}
      },
      "source": [
        "model = keras.Sequential([layers.Dense(256, activation='relu', kernel_regularizer=regularizers.l2(0.001), input_shape=[len(train_dataset.keys())]),\n",
        "                          layers.Dropout(0.2),\n",
        "                          layers.Dense(256, activation='relu', kernel_regularizer=regularizers.l2(0.001)),\n",
        "                          layers.Dropout(0.2),\n",
        "                          layers.Dense(256, activation='relu', kernel_regularizer=regularizers.l2(0.001)),\n",
        "                          layers.Dropout(0.2),\n",
        "                          layers.Dense(256, activation='relu', kernel_regularizer=regularizers.l2(0.001)),\n",
        "                          layers.Dropout(0.2),\n",
        "                          layers.Dense(1, activation='sigmoid')])"
      ],
      "execution_count": null,
      "outputs": []
    },
    {
      "cell_type": "code",
      "metadata": {
        "id": "xqhjitFVe9DA",
        "colab_type": "code",
        "colab": {
          "base_uri": "https://localhost:8080/",
          "height": 459
        },
        "outputId": "7c8a3ce3-d778-4643-85be-b93dc757a515"
      },
      "source": [
        "model.summary()"
      ],
      "execution_count": null,
      "outputs": [
        {
          "output_type": "stream",
          "text": [
            "Model: \"sequential_7\"\n",
            "_________________________________________________________________\n",
            "Layer (type)                 Output Shape              Param #   \n",
            "=================================================================\n",
            "dense_31 (Dense)             (None, 256)               2816      \n",
            "_________________________________________________________________\n",
            "dropout_8 (Dropout)          (None, 256)               0         \n",
            "_________________________________________________________________\n",
            "dense_32 (Dense)             (None, 256)               65792     \n",
            "_________________________________________________________________\n",
            "dropout_9 (Dropout)          (None, 256)               0         \n",
            "_________________________________________________________________\n",
            "dense_33 (Dense)             (None, 256)               65792     \n",
            "_________________________________________________________________\n",
            "dropout_10 (Dropout)         (None, 256)               0         \n",
            "_________________________________________________________________\n",
            "dense_34 (Dense)             (None, 256)               65792     \n",
            "_________________________________________________________________\n",
            "dropout_11 (Dropout)         (None, 256)               0         \n",
            "_________________________________________________________________\n",
            "dense_35 (Dense)             (None, 1)                 257       \n",
            "=================================================================\n",
            "Total params: 200,449\n",
            "Trainable params: 200,449\n",
            "Non-trainable params: 0\n",
            "_________________________________________________________________\n"
          ],
          "name": "stdout"
        }
      ]
    },
    {
      "cell_type": "code",
      "metadata": {
        "id": "kMtzbfA2fGXW",
        "colab_type": "code",
        "colab": {}
      },
      "source": [
        "# Defining the optimizer with a specific learning rate of 0.001\n",
        "optimizer = tf.keras.optimizers.Adam()\n",
        "\n",
        "# Compiling the model\n",
        "model.compile(loss='binary_crossentropy', optimizer=optimizer, metrics=['accuracy'])\n"
      ],
      "execution_count": null,
      "outputs": []
    },
    {
      "cell_type": "code",
      "metadata": {
        "id": "FMjAv59EfBm1",
        "colab_type": "code",
        "colab": {
          "base_uri": "https://localhost:8080/",
          "height": 68
        },
        "outputId": "e08b561a-0b24-433a-d6c0-9646f17bfd84"
      },
      "source": [
        "history_l2_dropout = model.fit(normed_train_data, train_labels, epochs=100, validation_split=0.2,\n",
        "                          verbose=0, callbacks=[tfdocs.modeling.EpochDots()])"
      ],
      "execution_count": null,
      "outputs": [
        {
          "output_type": "stream",
          "text": [
            "\n",
            "Epoch: 0, accuracy:0.7978,  loss:0.6749,  val_accuracy:0.7980,  val_loss:0.4883,  \n",
            "...................................................................................................."
          ],
          "name": "stdout"
        }
      ]
    },
    {
      "cell_type": "code",
      "metadata": {
        "id": "Q4bAkQq4fOfk",
        "colab_type": "code",
        "colab": {
          "base_uri": "https://localhost:8080/",
          "height": 204
        },
        "outputId": "20796153-c804-4390-9fe1-df97aa733491"
      },
      "source": [
        "hist_l2_dropout = pd.DataFrame(history_l2_dropout.history)\n",
        "hist_l2_dropout['epoch'] = history_l2_dropout.epoch\n",
        "hist_l2_dropout.tail()"
      ],
      "execution_count": null,
      "outputs": [
        {
          "output_type": "execute_result",
          "data": {
            "text/html": [
              "<div>\n",
              "<style scoped>\n",
              "    .dataframe tbody tr th:only-of-type {\n",
              "        vertical-align: middle;\n",
              "    }\n",
              "\n",
              "    .dataframe tbody tr th {\n",
              "        vertical-align: top;\n",
              "    }\n",
              "\n",
              "    .dataframe thead th {\n",
              "        text-align: right;\n",
              "    }\n",
              "</style>\n",
              "<table border=\"1\" class=\"dataframe\">\n",
              "  <thead>\n",
              "    <tr style=\"text-align: right;\">\n",
              "      <th></th>\n",
              "      <th>loss</th>\n",
              "      <th>accuracy</th>\n",
              "      <th>val_loss</th>\n",
              "      <th>val_accuracy</th>\n",
              "      <th>epoch</th>\n",
              "    </tr>\n",
              "  </thead>\n",
              "  <tbody>\n",
              "    <tr>\n",
              "      <th>95</th>\n",
              "      <td>0.394828</td>\n",
              "      <td>0.805939</td>\n",
              "      <td>0.397474</td>\n",
              "      <td>0.810701</td>\n",
              "      <td>95</td>\n",
              "    </tr>\n",
              "    <tr>\n",
              "      <th>96</th>\n",
              "      <td>0.394481</td>\n",
              "      <td>0.808218</td>\n",
              "      <td>0.399012</td>\n",
              "      <td>0.808541</td>\n",
              "      <td>96</td>\n",
              "    </tr>\n",
              "    <tr>\n",
              "      <th>97</th>\n",
              "      <td>0.391020</td>\n",
              "      <td>0.807858</td>\n",
              "      <td>0.398542</td>\n",
              "      <td>0.809501</td>\n",
              "      <td>97</td>\n",
              "    </tr>\n",
              "    <tr>\n",
              "      <th>98</th>\n",
              "      <td>0.391507</td>\n",
              "      <td>0.809118</td>\n",
              "      <td>0.396723</td>\n",
              "      <td>0.808061</td>\n",
              "      <td>98</td>\n",
              "    </tr>\n",
              "    <tr>\n",
              "      <th>99</th>\n",
              "      <td>0.391334</td>\n",
              "      <td>0.808158</td>\n",
              "      <td>0.398497</td>\n",
              "      <td>0.815499</td>\n",
              "      <td>99</td>\n",
              "    </tr>\n",
              "  </tbody>\n",
              "</table>\n",
              "</div>"
            ],
            "text/plain": [
              "        loss  accuracy  val_loss  val_accuracy  epoch\n",
              "95  0.394828  0.805939  0.397474      0.810701     95\n",
              "96  0.394481  0.808218  0.399012      0.808541     96\n",
              "97  0.391020  0.807858  0.398542      0.809501     97\n",
              "98  0.391507  0.809118  0.396723      0.808061     98\n",
              "99  0.391334  0.808158  0.398497      0.815499     99"
            ]
          },
          "metadata": {
            "tags": []
          },
          "execution_count": 102
        }
      ]
    },
    {
      "cell_type": "code",
      "metadata": {
        "colab_type": "code",
        "id": "d2h0xsAJfVqB",
        "colab": {
          "base_uri": "https://localhost:8080/",
          "height": 562
        },
        "outputId": "e6e6cefd-7b00-44e4-8f1d-0693251c6dff"
      },
      "source": [
        "# -----------------------------------------------------------\n",
        "# Retrieve a list of list results on training and test data\n",
        "# sets for each training epoch\n",
        "# -----------------------------------------------------------\n",
        "acc = history_l2_dropout.history['accuracy']\n",
        "val_acc = history_l2_dropout.history['val_accuracy']\n",
        "loss = history_l2_dropout.history['loss']\n",
        "val_loss = history_l2_dropout.history['val_loss']\n",
        "\n",
        "epochs = range(len(acc))  # Get number of epochs\n",
        "\n",
        "# ------------------------------------------------\n",
        "# Plot training and validation accuracy per epoch\n",
        "# ------------------------------------------------\n",
        "plt.plot(epochs, acc, 'r', label='Training accuracy')\n",
        "plt.plot(epochs, val_acc, 'b', label='Validation accuracy')\n",
        "plt.title('Training and validation accuracy')\n",
        "plt.figure()\n",
        "\n",
        "# ------------------------------------------------\n",
        "# Plot training and validation loss per epoch\n",
        "# ------------------------------------------------\n",
        "plt.plot(epochs, loss, 'r', label='Training Loss')\n",
        "plt.plot(epochs, val_loss, 'b', label='Validation Loss')\n",
        "plt.title('Training and validation loss')"
      ],
      "execution_count": null,
      "outputs": [
        {
          "output_type": "execute_result",
          "data": {
            "text/plain": [
              "Text(0.5, 1.0, 'Training and validation loss')"
            ]
          },
          "metadata": {
            "tags": []
          },
          "execution_count": 104
        },
        {
          "output_type": "display_data",
          "data": {
            "image/png": "[encoded data removed]",
            "text/plain": [
              "<Figure size 432x288 with 1 Axes>"
            ]
          },
          "metadata": {
            "tags": [],
            "needs_background": "light"
          }
        },
        {
          "output_type": "display_data",
          "data": {
            "image/png": "[encoded data removed]",
            "text/plain": [
              "<Figure size 432x288 with 1 Axes>"
            ]
          },
          "metadata": {
            "tags": [],
            "needs_background": "light"
          }
        }
      ]
    },
    {
      "cell_type": "code",
      "metadata": {
        "colab_type": "code",
        "id": "IINa1_wLfVqF",
        "colab": {
          "base_uri": "https://localhost:8080/",
          "height": 51
        },
        "outputId": "df87c8d3-a3b3-4642-8688-2f0627a4a657"
      },
      "source": [
        "loss, accuracy = model.evaluate(normed_test_data, test_labels, verbose=0)\n",
        "\n",
        "print(\"Testing set Accuracy: {:5.3f} netgain\".format(accuracy))\n",
        "print(\"Testing set Loss: {:5.3f} netgain\".format(loss))"
      ],
      "execution_count": null,
      "outputs": [
        {
          "output_type": "stream",
          "text": [
            "Testing set Accuracy: 0.807 netgain\n",
            "Testing set Loss: 0.396 netgain\n"
          ],
          "name": "stdout"
        }
      ]
    },
    {
      "cell_type": "markdown",
      "metadata": {
        "id": "rGY-k4aPiaMP",
        "colab_type": "text"
      },
      "source": [
        "<a id=section405></a>\n",
        "### 4.5 Batch Normalization"
      ]
    },
    {
      "cell_type": "markdown",
      "metadata": {
        "id": "jzvf01xLiaMQ",
        "colab_type": "text"
      },
      "source": [
        "- Batch normalization is a technique for training very deep neural networks.\n",
        "\n",
        "    - It **normalizes** the **activations** of the previous layer at each batch.\n",
        "\n",
        "    - It applies a transformation that maintains the mean activation close to 0 and the activation standard deviation close to 1.\n",
        "\n",
        "- This has the effect of stabilizing the learning process and dramatically reducing the number of training epochs required to train deep networks."
      ]
    },
    {
      "cell_type": "markdown",
      "metadata": {
        "id": "sIWA4tUniaMQ",
        "colab_type": "text"
      },
      "source": [
        "- Batch normalization may be used on the inputs to the layer before or after the activation function in the previous layer.\n",
        "\n",
        "- It may be more appropriate **after** the activation function for **s-shaped** functions like the **hyperbolic tangent** and **logistic** function.\n",
        "\n",
        "- It may be more appropriate **before** the activation function for activations that may result in **non-Gaussian** distributions like the **rectified linear** activation function, the modern default for most network types."
      ]
    },
    {
      "cell_type": "markdown",
      "metadata": {
        "id": "SQr4Uo89iaMR",
        "colab_type": "text"
      },
      "source": [
        "- Since we are using **ReLU** activation function in our model, we will use the Batch Normalization layer **prior** to the ReLU layer."
      ]
    },
    {
      "cell_type": "code",
      "metadata": {
        "id": "1uaBGPCEgThL",
        "colab_type": "code",
        "colab": {}
      },
      "source": [
        "model = keras.Sequential([layers.Dense(256, input_shape=[len(train_dataset.keys())]),\n",
        "                          layers.BatchNormalization(),\n",
        "                          layers.ReLU(),\n",
        "                          layers.Dense(256),\n",
        "                          layers.BatchNormalization(),\n",
        "                          layers.ReLU(),\n",
        "                          layers.Dense(256),\n",
        "                          layers.BatchNormalization(),\n",
        "                          layers.ReLU(),\n",
        "                          layers.Dense(256),\n",
        "                          layers.BatchNormalization(),\n",
        "                          layers.ReLU(),\n",
        "                          layers.Dense(1, activation='sigmoid')])"
      ],
      "execution_count": null,
      "outputs": []
    },
    {
      "cell_type": "code",
      "metadata": {
        "id": "qbByDwjIgZbL",
        "colab_type": "code",
        "colab": {
          "base_uri": "https://localhost:8080/",
          "height": 595
        },
        "outputId": "80eefbdc-1678-4986-ef45-9ae9816c6acd"
      },
      "source": [
        "model.summary()"
      ],
      "execution_count": null,
      "outputs": [
        {
          "output_type": "stream",
          "text": [
            "Model: \"sequential_8\"\n",
            "_________________________________________________________________\n",
            "Layer (type)                 Output Shape              Param #   \n",
            "=================================================================\n",
            "dense_36 (Dense)             (None, 256)               2816      \n",
            "_________________________________________________________________\n",
            "batch_normalization (BatchNo (None, 256)               1024      \n",
            "_________________________________________________________________\n",
            "re_lu (ReLU)                 (None, 256)               0         \n",
            "_________________________________________________________________\n",
            "dense_37 (Dense)             (None, 256)               65792     \n",
            "_________________________________________________________________\n",
            "batch_normalization_1 (Batch (None, 256)               1024      \n",
            "_________________________________________________________________\n",
            "re_lu_1 (ReLU)               (None, 256)               0         \n",
            "_________________________________________________________________\n",
            "dense_38 (Dense)             (None, 256)               65792     \n",
            "_________________________________________________________________\n",
            "batch_normalization_2 (Batch (None, 256)               1024      \n",
            "_________________________________________________________________\n",
            "re_lu_2 (ReLU)               (None, 256)               0         \n",
            "_________________________________________________________________\n",
            "dense_39 (Dense)             (None, 256)               65792     \n",
            "_________________________________________________________________\n",
            "batch_normalization_3 (Batch (None, 256)               1024      \n",
            "_________________________________________________________________\n",
            "re_lu_3 (ReLU)               (None, 256)               0         \n",
            "_________________________________________________________________\n",
            "dense_40 (Dense)             (None, 1)                 257       \n",
            "=================================================================\n",
            "Total params: 204,545\n",
            "Trainable params: 202,497\n",
            "Non-trainable params: 2,048\n",
            "_________________________________________________________________\n"
          ],
          "name": "stdout"
        }
      ]
    },
    {
      "cell_type": "code",
      "metadata": {
        "id": "FKJw9a9wgb-o",
        "colab_type": "code",
        "colab": {}
      },
      "source": [
        "# Defining the optimizer with a specific learning rate of 0.001\n",
        "optimizer = tf.keras.optimizers.Adam()\n",
        "\n",
        "# Compiling the model\n",
        "model.compile(loss='binary_crossentropy', optimizer=optimizer, metrics=['accuracy'])\n"
      ],
      "execution_count": null,
      "outputs": []
    },
    {
      "cell_type": "code",
      "metadata": {
        "id": "oin2o5R0ghaL",
        "colab_type": "code",
        "colab": {
          "base_uri": "https://localhost:8080/",
          "height": 68
        },
        "outputId": "a2319bbc-32a7-4450-c7c7-3b4b417c0d3a"
      },
      "source": [
        "history_batch_norm = model.fit(normed_train_data, train_labels, epochs=100, validation_split=0.2,\n",
        "                          verbose=0, callbacks=[tfdocs.modeling.EpochDots()])"
      ],
      "execution_count": null,
      "outputs": [
        {
          "output_type": "stream",
          "text": [
            "\n",
            "Epoch: 0, accuracy:0.7947,  loss:0.4195,  val_accuracy:0.7898,  val_loss:0.4046,  \n",
            "...................................................................................................."
          ],
          "name": "stdout"
        }
      ]
    },
    {
      "cell_type": "code",
      "metadata": {
        "id": "tF2XgK9ogjaW",
        "colab_type": "code",
        "colab": {
          "base_uri": "https://localhost:8080/",
          "height": 204
        },
        "outputId": "80bb73a3-7737-432c-f175-146c4ebb9bc4"
      },
      "source": [
        "hist_batch_norm = pd.DataFrame(history_batch_norm.history)\n",
        "hist_batch_norm['epoch'] = history_batch_norm.epoch\n",
        "hist_batch_norm.tail()"
      ],
      "execution_count": null,
      "outputs": [
        {
          "output_type": "execute_result",
          "data": {
            "text/html": [
              "<div>\n",
              "<style scoped>\n",
              "    .dataframe tbody tr th:only-of-type {\n",
              "        vertical-align: middle;\n",
              "    }\n",
              "\n",
              "    .dataframe tbody tr th {\n",
              "        vertical-align: top;\n",
              "    }\n",
              "\n",
              "    .dataframe thead th {\n",
              "        text-align: right;\n",
              "    }\n",
              "</style>\n",
              "<table border=\"1\" class=\"dataframe\">\n",
              "  <thead>\n",
              "    <tr style=\"text-align: right;\">\n",
              "      <th></th>\n",
              "      <th>loss</th>\n",
              "      <th>accuracy</th>\n",
              "      <th>val_loss</th>\n",
              "      <th>val_accuracy</th>\n",
              "      <th>epoch</th>\n",
              "    </tr>\n",
              "  </thead>\n",
              "  <tbody>\n",
              "    <tr>\n",
              "      <th>95</th>\n",
              "      <td>0.330612</td>\n",
              "      <td>0.826095</td>\n",
              "      <td>0.420546</td>\n",
              "      <td>0.811180</td>\n",
              "      <td>95</td>\n",
              "    </tr>\n",
              "    <tr>\n",
              "      <th>96</th>\n",
              "      <td>0.330914</td>\n",
              "      <td>0.825735</td>\n",
              "      <td>0.419148</td>\n",
              "      <td>0.809501</td>\n",
              "      <td>96</td>\n",
              "    </tr>\n",
              "    <tr>\n",
              "      <th>97</th>\n",
              "      <td>0.331203</td>\n",
              "      <td>0.824115</td>\n",
              "      <td>0.421506</td>\n",
              "      <td>0.814779</td>\n",
              "      <td>97</td>\n",
              "    </tr>\n",
              "    <tr>\n",
              "      <th>98</th>\n",
              "      <td>0.330726</td>\n",
              "      <td>0.826335</td>\n",
              "      <td>0.428634</td>\n",
              "      <td>0.811660</td>\n",
              "      <td>98</td>\n",
              "    </tr>\n",
              "    <tr>\n",
              "      <th>99</th>\n",
              "      <td>0.330496</td>\n",
              "      <td>0.823635</td>\n",
              "      <td>0.429253</td>\n",
              "      <td>0.809981</td>\n",
              "      <td>99</td>\n",
              "    </tr>\n",
              "  </tbody>\n",
              "</table>\n",
              "</div>"
            ],
            "text/plain": [
              "        loss  accuracy  val_loss  val_accuracy  epoch\n",
              "95  0.330612  0.826095  0.420546      0.811180     95\n",
              "96  0.330914  0.825735  0.419148      0.809501     96\n",
              "97  0.331203  0.824115  0.421506      0.814779     97\n",
              "98  0.330726  0.826335  0.428634      0.811660     98\n",
              "99  0.330496  0.823635  0.429253      0.809981     99"
            ]
          },
          "metadata": {
            "tags": []
          },
          "execution_count": 111
        }
      ]
    },
    {
      "cell_type": "code",
      "metadata": {
        "colab_type": "code",
        "id": "074aEy6sglxg",
        "colab": {
          "base_uri": "https://localhost:8080/",
          "height": 562
        },
        "outputId": "8a7a4ef5-b540-4380-8250-52e7af00c652"
      },
      "source": [
        "# -----------------------------------------------------------\n",
        "# Retrieve a list of list results on training and test data\n",
        "# sets for each training epoch\n",
        "# -----------------------------------------------------------\n",
        "acc = history_batch_norm.history['accuracy']\n",
        "val_acc = history_batch_norm.history['val_accuracy']\n",
        "loss = history_batch_norm.history['loss']\n",
        "val_loss = history_batch_norm.history['val_loss']\n",
        "\n",
        "epochs = range(len(acc))  # Get number of epochs\n",
        "\n",
        "# ------------------------------------------------\n",
        "# Plot training and validation accuracy per epoch\n",
        "# ------------------------------------------------\n",
        "plt.plot(epochs, acc, 'r', label='Training accuracy')\n",
        "plt.plot(epochs, val_acc, 'b', label='Validation accuracy')\n",
        "plt.title('Training and validation accuracy')\n",
        "plt.figure()\n",
        "\n",
        "# ------------------------------------------------\n",
        "# Plot training and validation loss per epoch\n",
        "# ------------------------------------------------\n",
        "plt.plot(epochs, loss, 'r', label='Training Loss')\n",
        "plt.plot(epochs, val_loss, 'b', label='Validation Loss')\n",
        "plt.title('Training and validation loss')"
      ],
      "execution_count": null,
      "outputs": [
        {
          "output_type": "execute_result",
          "data": {
            "text/plain": [
              "Text(0.5, 1.0, 'Training and validation loss')"
            ]
          },
          "metadata": {
            "tags": []
          },
          "execution_count": 113
        },
        {
          "output_type": "display_data",
          "data": {
            "image/png": "[encoded data removed]",
            "text/plain": [
              "<Figure size 432x288 with 1 Axes>"
            ]
          },
          "metadata": {
            "tags": [],
            "needs_background": "light"
          }
        },
        {
          "output_type": "display_data",
          "data": {
            "image/png": "[encoded data removed]",
            "text/plain": [
              "<Figure size 432x288 with 1 Axes>"
            ]
          },
          "metadata": {
            "tags": [],
            "needs_background": "light"
          }
        }
      ]
    },
    {
      "cell_type": "code",
      "metadata": {
        "colab_type": "code",
        "id": "pAY-EX4Iglxk",
        "colab": {
          "base_uri": "https://localhost:8080/",
          "height": 51
        },
        "outputId": "31e1271b-379c-4836-ed24-a2202bdf1b84"
      },
      "source": [
        "loss, accuracy = model.evaluate(normed_test_data, test_labels, verbose=0)\n",
        "\n",
        "print(\"Testing set Accuracy: {:5.3f} netgain\".format(accuracy))\n",
        "print(\"Testing set Loss: {:5.3f} netgain\".format(loss))"
      ],
      "execution_count": null,
      "outputs": [
        {
          "output_type": "stream",
          "text": [
            "Testing set Accuracy: 0.805 netgain\n",
            "Testing set Loss: 0.420 netgain\n"
          ],
          "name": "stdout"
        }
      ]
    },
    {
      "cell_type": "markdown",
      "metadata": {
        "id": "rQ_-EgJbLzXf",
        "colab_type": "text"
      },
      "source": [
        "<a id=section4></a>\n",
        "## 5. KerasTuner"
      ]
    },
    {
      "cell_type": "code",
      "metadata": {
        "id": "nn6gjhiDL5GY",
        "colab_type": "code",
        "colab": {
          "base_uri": "https://localhost:8080/",
          "height": 510
        },
        "outputId": "dfca1296-03d6-4035-de57-7636a49f53ac"
      },
      "source": [
        "!pip install -q keras-tuner\n"
      ],
      "execution_count": 1,
      "outputs": [
        {
          "output_type": "stream",
          "text": [
            "Collecting keras-tuner\n",
            "\u001b[?25l  Downloading https://files.pythonhosted.org/packages/a7/f7/4b41b6832abf4c9bef71a664dc563adb25afc5812831667c6db572b1a261/keras-tuner-1.0.1.tar.gz (54kB)\n",
            "\r\u001b[K     |██████                          | 10kB 21.6MB/s eta 0:00:01\r\u001b[K     |████████████                    | 20kB 27.5MB/s eta 0:00:01\r\u001b[K     |██████████████████              | 30kB 22.5MB/s eta 0:00:01\r\u001b[K     |████████████████████████        | 40kB 11.5MB/s eta 0:00:01\r\u001b[K     |██████████████████████████████  | 51kB 10.7MB/s eta 0:00:01\r\u001b[K     |████████████████████████████████| 61kB 5.9MB/s \n",
            "\u001b[?25hRequirement already satisfied, skipping upgrade: future in /usr/local/lib/python3.6/dist-packages (from keras-tuner) (0.16.0)\n",
            "Requirement already satisfied, skipping upgrade: numpy in /usr/local/lib/python3.6/dist-packages (from keras-tuner) (1.18.5)\n",
            "Requirement already satisfied, skipping upgrade: tabulate in /usr/local/lib/python3.6/dist-packages (from keras-tuner) (0.8.7)\n",
            "Collecting terminaltables\n",
            "  Downloading https://files.pythonhosted.org/packages/9b/c4/4a21174f32f8a7e1104798c445dacdc1d4df86f2f26722767034e4de4bff/terminaltables-3.1.0.tar.gz\n",
            "Collecting colorama\n",
            "  Downloading https://files.pythonhosted.org/packages/c9/dc/45cdef1b4d119eb96316b3117e6d5708a08029992b2fee2c143c7a0a5cc5/colorama-0.4.3-py2.py3-none-any.whl\n",
            "Requirement already satisfied, skipping upgrade: tqdm in /usr/local/lib/python3.6/dist-packages (from keras-tuner) (4.41.1)\n",
            "Requirement already satisfied, skipping upgrade: requests in /usr/local/lib/python3.6/dist-packages (from keras-tuner) (2.23.0)\n",
            "Requirement already satisfied, skipping upgrade: scipy in /usr/local/lib/python3.6/dist-packages (from keras-tuner) (1.4.1)\n",
            "Requirement already satisfied, skipping upgrade: scikit-learn in /usr/local/lib/python3.6/dist-packages (from keras-tuner) (0.22.2.post1)\n",
            "Requirement already satisfied, skipping upgrade: certifi>=2017.4.17 in /usr/local/lib/python3.6/dist-packages (from requests->keras-tuner) (2020.6.20)\n",
            "Requirement already satisfied, skipping upgrade: urllib3!=1.25.0,!=1.25.1,<1.26,>=1.21.1 in /usr/local/lib/python3.6/dist-packages (from requests->keras-tuner) (1.24.3)\n",
            "Requirement already satisfied, skipping upgrade: idna<3,>=2.5 in /usr/local/lib/python3.6/dist-packages (from requests->keras-tuner) (2.10)\n",
            "Requirement already satisfied, skipping upgrade: chardet<4,>=3.0.2 in /usr/local/lib/python3.6/dist-packages (from requests->keras-tuner) (3.0.4)\n",
            "Requirement already satisfied, skipping upgrade: joblib>=0.11 in /usr/local/lib/python3.6/dist-packages (from scikit-learn->keras-tuner) (0.16.0)\n",
            "Building wheels for collected packages: keras-tuner, terminaltables\n",
            "  Building wheel for keras-tuner (setup.py) ... \u001b[?25l\u001b[?25hdone\n",
            "  Created wheel for keras-tuner: filename=keras_tuner-1.0.1-cp36-none-any.whl size=73200 sha256=5f5fd4e8ff8c555227314ba298b32efe2c6374493e41e6a1314d0ef0076feeda\n",
            "  Stored in directory: /root/.cache/pip/wheels/b9/cc/62/52716b70dd90f3db12519233c3a93a5360bc672da1a10ded43\n",
            "  Building wheel for terminaltables (setup.py) ... \u001b[?25l\u001b[?25hdone\n",
            "  Created wheel for terminaltables: filename=terminaltables-3.1.0-cp36-none-any.whl size=15356 sha256=b62093a0873dc84ed2906d7f88d97319c411e42faec8dfc9b1e0986f655fb5b0\n",
            "  Stored in directory: /root/.cache/pip/wheels/30/6b/50/6c75775b681fb36cdfac7f19799888ef9d8813aff9e379663e\n",
            "Successfully built keras-tuner terminaltables\n",
            "Installing collected packages: terminaltables, colorama, keras-tuner\n",
            "Successfully installed colorama-0.4.3 keras-tuner-1.0.1 terminaltables-3.1.0\n"
          ],
          "name": "stdout"
        }
      ]
    },
    {
      "cell_type": "code",
      "metadata": {
        "id": "ur0m-bdaMUKr",
        "colab_type": "code",
        "colab": {}
      },
      "source": [
        "from tensorflow import keras\n",
        "from tensorflow.keras import layers\n",
        "from kerastuner.tuners import RandomSearch\n",
        "\n",
        "\n",
        "def build_model(hp):\n",
        "    model = keras.Sequential()\n",
        "    model.add(layers.Dense(256, activation='relu', kernel_regularizer=regularizers.l2(0.001), input_shape=[len(train_dataset.keys())]))\n",
        "    model.add(layers.Dense(1, activation='sigmoid'))\n",
        "    for i in range(hp.Int('num_layers', 2, 20)):\n",
        "      model.add(layers.Dense(units=hp.Int('units_' + str(i),\n",
        "                                        min_value=32,\n",
        "                                        max_value=512,\n",
        "                                        step=32),\n",
        "                           activation='relu',\n",
        "                           kernel_regularizer=regularizers.l2(0.001)))\n",
        "      model.add(layers.Dropout(0.2))\n",
        "    model.add(layers.Dense(1, activation='sigmoid'))\n",
        "    model.compile(\n",
        "        optimizer=keras.optimizers.Adam(\n",
        "            hp.Choice('learning_rate',\n",
        "                      values=[1e-2, 1e-3, 1e-4])),\n",
        "        loss='binary_crossentropy',\n",
        "        metrics=['accuracy'])\n",
        "    return model\n"
      ],
      "execution_count": 4,
      "outputs": []
    },
    {
      "cell_type": "code",
      "metadata": {
        "id": "pzZlMC3_NUNC",
        "colab_type": "code",
        "colab": {}
      },
      "source": [
        "tuner = RandomSearch(\n",
        "    build_model,\n",
        "    objective='val_accuracy',\n",
        "    max_trials=5,\n",
        "    executions_per_trial=3,\n",
        "    directory='my_dir',\n",
        "    project_name='helloworld')\n"
      ],
      "execution_count": 19,
      "outputs": []
    },
    {
      "cell_type": "code",
      "metadata": {
        "id": "uDVtD8NYPLWK",
        "colab_type": "code",
        "colab": {
          "base_uri": "https://localhost:8080/",
          "height": 523
        },
        "outputId": "d347a2ee-c469-4271-c74e-041401126b66"
      },
      "source": [
        "tuner.search_space_summary()\n"
      ],
      "execution_count": 20,
      "outputs": [
        {
          "output_type": "display_data",
          "data": {
            "text/html": [
              "<span style=\"color:#4527A0\"><h1 style=\"font-size:18px\">Search space summary</h1></span>"
            ],
            "text/plain": [
              "<IPython.core.display.HTML object>"
            ]
          },
          "metadata": {
            "tags": []
          }
        },
        {
          "output_type": "display_data",
          "data": {
            "text/html": [
              "<span style=\"color:cyan\"> |-Default search space size: 4</span>"
            ],
            "text/plain": [
              "<IPython.core.display.HTML object>"
            ]
          },
          "metadata": {
            "tags": []
          }
        },
        {
          "output_type": "display_data",
          "data": {
            "text/html": [
              "<span style=\"color:#7E57C2\"><h2 style=\"font-size:16px\">num_layers (Int)</h2></span>"
            ],
            "text/plain": [
              "<IPython.core.display.HTML object>"
            ]
          },
          "metadata": {
            "tags": []
          }
        },
        {
          "output_type": "display_data",
          "data": {
            "text/html": [
              "<span style=\"color:cyan\"> |-default: None</span>"
            ],
            "text/plain": [
              "<IPython.core.display.HTML object>"
            ]
          },
          "metadata": {
            "tags": []
          }
        },
        {
          "output_type": "display_data",
          "data": {
            "text/html": [
              "<span style=\"color:blue\"> |-max_value: 20</span>"
            ],
            "text/plain": [
              "<IPython.core.display.HTML object>"
            ]
          },
          "metadata": {
            "tags": []
          }
        },
        {
          "output_type": "display_data",
          "data": {
            "text/html": [
              "<span style=\"color:cyan\"> |-min_value: 2</span>"
            ],
            "text/plain": [
              "<IPython.core.display.HTML object>"
            ]
          },
          "metadata": {
            "tags": []
          }
        },
        {
          "output_type": "display_data",
          "data": {
            "text/html": [
              "<span style=\"color:blue\"> |-sampling: None</span>"
            ],
            "text/plain": [
              "<IPython.core.display.HTML object>"
            ]
          },
          "metadata": {
            "tags": []
          }
        },
        {
          "output_type": "display_data",
          "data": {
            "text/html": [
              "<span style=\"color:cyan\"> |-step: 1</span>"
            ],
            "text/plain": [
              "<IPython.core.display.HTML object>"
            ]
          },
          "metadata": {
            "tags": []
          }
        },
        {
          "output_type": "display_data",
          "data": {
            "text/html": [
              "<span style=\"color:#7E57C2\"><h2 style=\"font-size:16px\">units_0 (Int)</h2></span>"
            ],
            "text/plain": [
              "<IPython.core.display.HTML object>"
            ]
          },
          "metadata": {
            "tags": []
          }
        },
        {
          "output_type": "display_data",
          "data": {
            "text/html": [
              "<span style=\"color:cyan\"> |-default: None</span>"
            ],
            "text/plain": [
              "<IPython.core.display.HTML object>"
            ]
          },
          "metadata": {
            "tags": []
          }
        },
        {
          "output_type": "display_data",
          "data": {
            "text/html": [
              "<span style=\"color:blue\"> |-max_value: 512</span>"
            ],
            "text/plain": [
              "<IPython.core.display.HTML object>"
            ]
          },
          "metadata": {
            "tags": []
          }
        },
        {
          "output_type": "display_data",
          "data": {
            "text/html": [
              "<span style=\"color:cyan\"> |-min_value: 32</span>"
            ],
            "text/plain": [
              "<IPython.core.display.HTML object>"
            ]
          },
          "metadata": {
            "tags": []
          }
        },
        {
          "output_type": "display_data",
          "data": {
            "text/html": [
              "<span style=\"color:blue\"> |-sampling: None</span>"
            ],
            "text/plain": [
              "<IPython.core.display.HTML object>"
            ]
          },
          "metadata": {
            "tags": []
          }
        },
        {
          "output_type": "display_data",
          "data": {
            "text/html": [
              "<span style=\"color:cyan\"> |-step: 32</span>"
            ],
            "text/plain": [
              "<IPython.core.display.HTML object>"
            ]
          },
          "metadata": {
            "tags": []
          }
        },
        {
          "output_type": "display_data",
          "data": {
            "text/html": [
              "<span style=\"color:#7E57C2\"><h2 style=\"font-size:16px\">units_1 (Int)</h2></span>"
            ],
            "text/plain": [
              "<IPython.core.display.HTML object>"
            ]
          },
          "metadata": {
            "tags": []
          }
        },
        {
          "output_type": "display_data",
          "data": {
            "text/html": [
              "<span style=\"color:cyan\"> |-default: None</span>"
            ],
            "text/plain": [
              "<IPython.core.display.HTML object>"
            ]
          },
          "metadata": {
            "tags": []
          }
        },
        {
          "output_type": "display_data",
          "data": {
            "text/html": [
              "<span style=\"color:blue\"> |-max_value: 512</span>"
            ],
            "text/plain": [
              "<IPython.core.display.HTML object>"
            ]
          },
          "metadata": {
            "tags": []
          }
        },
        {
          "output_type": "display_data",
          "data": {
            "text/html": [
              "<span style=\"color:cyan\"> |-min_value: 32</span>"
            ],
            "text/plain": [
              "<IPython.core.display.HTML object>"
            ]
          },
          "metadata": {
            "tags": []
          }
        },
        {
          "output_type": "display_data",
          "data": {
            "text/html": [
              "<span style=\"color:blue\"> |-sampling: None</span>"
            ],
            "text/plain": [
              "<IPython.core.display.HTML object>"
            ]
          },
          "metadata": {
            "tags": []
          }
        },
        {
          "output_type": "display_data",
          "data": {
            "text/html": [
              "<span style=\"color:cyan\"> |-step: 32</span>"
            ],
            "text/plain": [
              "<IPython.core.display.HTML object>"
            ]
          },
          "metadata": {
            "tags": []
          }
        },
        {
          "output_type": "display_data",
          "data": {
            "text/html": [
              "<span style=\"color:#7E57C2\"><h2 style=\"font-size:16px\">learning_rate (Choice)</h2></span>"
            ],
            "text/plain": [
              "<IPython.core.display.HTML object>"
            ]
          },
          "metadata": {
            "tags": []
          }
        },
        {
          "output_type": "display_data",
          "data": {
            "text/html": [
              "<span style=\"color:cyan\"> |-default: 0.01</span>"
            ],
            "text/plain": [
              "<IPython.core.display.HTML object>"
            ]
          },
          "metadata": {
            "tags": []
          }
        },
        {
          "output_type": "display_data",
          "data": {
            "text/html": [
              "<span style=\"color:blue\"> |-ordered: True</span>"
            ],
            "text/plain": [
              "<IPython.core.display.HTML object>"
            ]
          },
          "metadata": {
            "tags": []
          }
        },
        {
          "output_type": "display_data",
          "data": {
            "text/html": [
              "<span style=\"color:cyan\"> |-values: [0.01, 0.001, 0.0001]</span>"
            ],
            "text/plain": [
              "<IPython.core.display.HTML object>"
            ]
          },
          "metadata": {
            "tags": []
          }
        }
      ]
    },
    {
      "cell_type": "code",
      "metadata": {
        "id": "Lqce1u2oPR8V",
        "colab_type": "code",
        "colab": {}
      },
      "source": [
        "tuner.search(normed_train_data, train_labels,\n",
        "             epochs=100,\n",
        "             validation_split=0.2)\n"
      ],
      "execution_count": null,
      "outputs": []
    },
    {
      "cell_type": "code",
      "metadata": {
        "id": "5zzrJwziPvuI",
        "colab_type": "code",
        "colab": {}
      },
      "source": [
        "models = tuner.get_best_models(num_models=2)\n"
      ],
      "execution_count": 27,
      "outputs": []
    },
    {
      "cell_type": "code",
      "metadata": {
        "id": "IXj9u-r6PxrW",
        "colab_type": "code",
        "colab": {
          "base_uri": "https://localhost:8080/",
          "height": 1000
        },
        "outputId": "4579f062-82df-4233-ac3f-15f4cb04ebb5"
      },
      "source": [
        "tuner.results_summary()\n"
      ],
      "execution_count": 28,
      "outputs": [
        {
          "output_type": "display_data",
          "data": {
            "text/html": [
              "<span style=\"color:#4527A0\"><h1 style=\"font-size:18px\">Results summary</h1></span>"
            ],
            "text/plain": [
              "<IPython.core.display.HTML object>"
            ]
          },
          "metadata": {
            "tags": []
          }
        },
        {
          "output_type": "display_data",
          "data": {
            "text/html": [
              "<span style=\"color:cyan\"> |-Results in my_dir/helloworld</span>"
            ],
            "text/plain": [
              "<IPython.core.display.HTML object>"
            ]
          },
          "metadata": {
            "tags": []
          }
        },
        {
          "output_type": "display_data",
          "data": {
            "text/html": [
              "<span style=\"color:cyan\"> |-Showing 10 best trials</span>"
            ],
            "text/plain": [
              "<IPython.core.display.HTML object>"
            ]
          },
          "metadata": {
            "tags": []
          }
        },
        {
          "output_type": "display_data",
          "data": {
            "text/html": [
              "<span style=\"color:cyan\"> |-Objective(name='val_accuracy', direction='max')</span>"
            ],
            "text/plain": [
              "<IPython.core.display.HTML object>"
            ]
          },
          "metadata": {
            "tags": []
          }
        },
        {
          "output_type": "display_data",
          "data": {
            "text/html": [
              "<span style=\"color:#4527A0\"><h1 style=\"font-size:18px\">Trial summary</h1></span>"
            ],
            "text/plain": [
              "<IPython.core.display.HTML object>"
            ]
          },
          "metadata": {
            "tags": []
          }
        },
        {
          "output_type": "display_data",
          "data": {
            "text/html": [
              "<span style=\"color:cyan\"> |-Trial ID: 2ea86de507a8a2f55426612fad036b22</span>"
            ],
            "text/plain": [
              "<IPython.core.display.HTML object>"
            ]
          },
          "metadata": {
            "tags": []
          }
        },
        {
          "output_type": "display_data",
          "data": {
            "text/html": [
              "<span style=\"color:cyan\"> |-Score: 0.8182981411616007</span>"
            ],
            "text/plain": [
              "<IPython.core.display.HTML object>"
            ]
          },
          "metadata": {
            "tags": []
          }
        },
        {
          "output_type": "display_data",
          "data": {
            "text/html": [
              "<span style=\"color:cyan\"> |-Best step: 0</span>"
            ],
            "text/plain": [
              "<IPython.core.display.HTML object>"
            ]
          },
          "metadata": {
            "tags": []
          }
        },
        {
          "output_type": "display_data",
          "data": {
            "text/html": [
              "<span style=\"color:#7E57C2\"><h2 style=\"font-size:16px\">Hyperparameters:</h2></span>"
            ],
            "text/plain": [
              "<IPython.core.display.HTML object>"
            ]
          },
          "metadata": {
            "tags": []
          }
        },
        {
          "output_type": "display_data",
          "data": {
            "text/html": [
              "<span style=\"color:cyan\"> |-learning_rate: 0.001</span>"
            ],
            "text/plain": [
              "<IPython.core.display.HTML object>"
            ]
          },
          "metadata": {
            "tags": []
          }
        },
        {
          "output_type": "display_data",
          "data": {
            "text/html": [
              "<span style=\"color:blue\"> |-num_layers: 5</span>"
            ],
            "text/plain": [
              "<IPython.core.display.HTML object>"
            ]
          },
          "metadata": {
            "tags": []
          }
        },
        {
          "output_type": "display_data",
          "data": {
            "text/html": [
              "<span style=\"color:cyan\"> |-units_0: 256</span>"
            ],
            "text/plain": [
              "<IPython.core.display.HTML object>"
            ]
          },
          "metadata": {
            "tags": []
          }
        },
        {
          "output_type": "display_data",
          "data": {
            "text/html": [
              "<span style=\"color:blue\"> |-units_1: 480</span>"
            ],
            "text/plain": [
              "<IPython.core.display.HTML object>"
            ]
          },
          "metadata": {
            "tags": []
          }
        },
        {
          "output_type": "display_data",
          "data": {
            "text/html": [
              "<span style=\"color:cyan\"> |-units_10: 384</span>"
            ],
            "text/plain": [
              "<IPython.core.display.HTML object>"
            ]
          },
          "metadata": {
            "tags": []
          }
        },
        {
          "output_type": "display_data",
          "data": {
            "text/html": [
              "<span style=\"color:blue\"> |-units_11: 288</span>"
            ],
            "text/plain": [
              "<IPython.core.display.HTML object>"
            ]
          },
          "metadata": {
            "tags": []
          }
        },
        {
          "output_type": "display_data",
          "data": {
            "text/html": [
              "<span style=\"color:cyan\"> |-units_12: 224</span>"
            ],
            "text/plain": [
              "<IPython.core.display.HTML object>"
            ]
          },
          "metadata": {
            "tags": []
          }
        },
        {
          "output_type": "display_data",
          "data": {
            "text/html": [
              "<span style=\"color:blue\"> |-units_13: 128</span>"
            ],
            "text/plain": [
              "<IPython.core.display.HTML object>"
            ]
          },
          "metadata": {
            "tags": []
          }
        },
        {
          "output_type": "display_data",
          "data": {
            "text/html": [
              "<span style=\"color:cyan\"> |-units_2: 64</span>"
            ],
            "text/plain": [
              "<IPython.core.display.HTML object>"
            ]
          },
          "metadata": {
            "tags": []
          }
        },
        {
          "output_type": "display_data",
          "data": {
            "text/html": [
              "<span style=\"color:blue\"> |-units_3: 96</span>"
            ],
            "text/plain": [
              "<IPython.core.display.HTML object>"
            ]
          },
          "metadata": {
            "tags": []
          }
        },
        {
          "output_type": "display_data",
          "data": {
            "text/html": [
              "<span style=\"color:cyan\"> |-units_4: 416</span>"
            ],
            "text/plain": [
              "<IPython.core.display.HTML object>"
            ]
          },
          "metadata": {
            "tags": []
          }
        },
        {
          "output_type": "display_data",
          "data": {
            "text/html": [
              "<span style=\"color:blue\"> |-units_5: 352</span>"
            ],
            "text/plain": [
              "<IPython.core.display.HTML object>"
            ]
          },
          "metadata": {
            "tags": []
          }
        },
        {
          "output_type": "display_data",
          "data": {
            "text/html": [
              "<span style=\"color:cyan\"> |-units_6: 416</span>"
            ],
            "text/plain": [
              "<IPython.core.display.HTML object>"
            ]
          },
          "metadata": {
            "tags": []
          }
        },
        {
          "output_type": "display_data",
          "data": {
            "text/html": [
              "<span style=\"color:blue\"> |-units_7: 320</span>"
            ],
            "text/plain": [
              "<IPython.core.display.HTML object>"
            ]
          },
          "metadata": {
            "tags": []
          }
        },
        {
          "output_type": "display_data",
          "data": {
            "text/html": [
              "<span style=\"color:cyan\"> |-units_8: 448</span>"
            ],
            "text/plain": [
              "<IPython.core.display.HTML object>"
            ]
          },
          "metadata": {
            "tags": []
          }
        },
        {
          "output_type": "display_data",
          "data": {
            "text/html": [
              "<span style=\"color:blue\"> |-units_9: 64</span>"
            ],
            "text/plain": [
              "<IPython.core.display.HTML object>"
            ]
          },
          "metadata": {
            "tags": []
          }
        },
        {
          "output_type": "display_data",
          "data": {
            "text/html": [
              "<span style=\"color:#4527A0\"><h1 style=\"font-size:18px\">Trial summary</h1></span>"
            ],
            "text/plain": [
              "<IPython.core.display.HTML object>"
            ]
          },
          "metadata": {
            "tags": []
          }
        },
        {
          "output_type": "display_data",
          "data": {
            "text/html": [
              "<span style=\"color:cyan\"> |-Trial ID: 53cd3881efee19ec391ed7b899089310</span>"
            ],
            "text/plain": [
              "<IPython.core.display.HTML object>"
            ]
          },
          "metadata": {
            "tags": []
          }
        },
        {
          "output_type": "display_data",
          "data": {
            "text/html": [
              "<span style=\"color:cyan\"> |-Score: 0.8174983859062195</span>"
            ],
            "text/plain": [
              "<IPython.core.display.HTML object>"
            ]
          },
          "metadata": {
            "tags": []
          }
        },
        {
          "output_type": "display_data",
          "data": {
            "text/html": [
              "<span style=\"color:cyan\"> |-Best step: 0</span>"
            ],
            "text/plain": [
              "<IPython.core.display.HTML object>"
            ]
          },
          "metadata": {
            "tags": []
          }
        },
        {
          "output_type": "display_data",
          "data": {
            "text/html": [
              "<span style=\"color:#7E57C2\"><h2 style=\"font-size:16px\">Hyperparameters:</h2></span>"
            ],
            "text/plain": [
              "<IPython.core.display.HTML object>"
            ]
          },
          "metadata": {
            "tags": []
          }
        },
        {
          "output_type": "display_data",
          "data": {
            "text/html": [
              "<span style=\"color:cyan\"> |-learning_rate: 0.0001</span>"
            ],
            "text/plain": [
              "<IPython.core.display.HTML object>"
            ]
          },
          "metadata": {
            "tags": []
          }
        },
        {
          "output_type": "display_data",
          "data": {
            "text/html": [
              "<span style=\"color:blue\"> |-num_layers: 6</span>"
            ],
            "text/plain": [
              "<IPython.core.display.HTML object>"
            ]
          },
          "metadata": {
            "tags": []
          }
        },
        {
          "output_type": "display_data",
          "data": {
            "text/html": [
              "<span style=\"color:cyan\"> |-units_0: 160</span>"
            ],
            "text/plain": [
              "<IPython.core.display.HTML object>"
            ]
          },
          "metadata": {
            "tags": []
          }
        },
        {
          "output_type": "display_data",
          "data": {
            "text/html": [
              "<span style=\"color:blue\"> |-units_1: 32</span>"
            ],
            "text/plain": [
              "<IPython.core.display.HTML object>"
            ]
          },
          "metadata": {
            "tags": []
          }
        },
        {
          "output_type": "display_data",
          "data": {
            "text/html": [
              "<span style=\"color:cyan\"> |-units_10: 160</span>"
            ],
            "text/plain": [
              "<IPython.core.display.HTML object>"
            ]
          },
          "metadata": {
            "tags": []
          }
        },
        {
          "output_type": "display_data",
          "data": {
            "text/html": [
              "<span style=\"color:blue\"> |-units_11: 480</span>"
            ],
            "text/plain": [
              "<IPython.core.display.HTML object>"
            ]
          },
          "metadata": {
            "tags": []
          }
        },
        {
          "output_type": "display_data",
          "data": {
            "text/html": [
              "<span style=\"color:cyan\"> |-units_12: 96</span>"
            ],
            "text/plain": [
              "<IPython.core.display.HTML object>"
            ]
          },
          "metadata": {
            "tags": []
          }
        },
        {
          "output_type": "display_data",
          "data": {
            "text/html": [
              "<span style=\"color:blue\"> |-units_13: 160</span>"
            ],
            "text/plain": [
              "<IPython.core.display.HTML object>"
            ]
          },
          "metadata": {
            "tags": []
          }
        },
        {
          "output_type": "display_data",
          "data": {
            "text/html": [
              "<span style=\"color:cyan\"> |-units_2: 160</span>"
            ],
            "text/plain": [
              "<IPython.core.display.HTML object>"
            ]
          },
          "metadata": {
            "tags": []
          }
        },
        {
          "output_type": "display_data",
          "data": {
            "text/html": [
              "<span style=\"color:blue\"> |-units_3: 416</span>"
            ],
            "text/plain": [
              "<IPython.core.display.HTML object>"
            ]
          },
          "metadata": {
            "tags": []
          }
        },
        {
          "output_type": "display_data",
          "data": {
            "text/html": [
              "<span style=\"color:cyan\"> |-units_4: 256</span>"
            ],
            "text/plain": [
              "<IPython.core.display.HTML object>"
            ]
          },
          "metadata": {
            "tags": []
          }
        },
        {
          "output_type": "display_data",
          "data": {
            "text/html": [
              "<span style=\"color:blue\"> |-units_5: 128</span>"
            ],
            "text/plain": [
              "<IPython.core.display.HTML object>"
            ]
          },
          "metadata": {
            "tags": []
          }
        },
        {
          "output_type": "display_data",
          "data": {
            "text/html": [
              "<span style=\"color:cyan\"> |-units_6: 64</span>"
            ],
            "text/plain": [
              "<IPython.core.display.HTML object>"
            ]
          },
          "metadata": {
            "tags": []
          }
        },
        {
          "output_type": "display_data",
          "data": {
            "text/html": [
              "<span style=\"color:blue\"> |-units_7: 320</span>"
            ],
            "text/plain": [
              "<IPython.core.display.HTML object>"
            ]
          },
          "metadata": {
            "tags": []
          }
        },
        {
          "output_type": "display_data",
          "data": {
            "text/html": [
              "<span style=\"color:cyan\"> |-units_8: 320</span>"
            ],
            "text/plain": [
              "<IPython.core.display.HTML object>"
            ]
          },
          "metadata": {
            "tags": []
          }
        },
        {
          "output_type": "display_data",
          "data": {
            "text/html": [
              "<span style=\"color:blue\"> |-units_9: 256</span>"
            ],
            "text/plain": [
              "<IPython.core.display.HTML object>"
            ]
          },
          "metadata": {
            "tags": []
          }
        },
        {
          "output_type": "display_data",
          "data": {
            "text/html": [
              "<span style=\"color:#4527A0\"><h1 style=\"font-size:18px\">Trial summary</h1></span>"
            ],
            "text/plain": [
              "<IPython.core.display.HTML object>"
            ]
          },
          "metadata": {
            "tags": []
          }
        },
        {
          "output_type": "display_data",
          "data": {
            "text/html": [
              "<span style=\"color:cyan\"> |-Trial ID: c154aa512b725e8f041fe39428e8a91e</span>"
            ],
            "text/plain": [
              "<IPython.core.display.HTML object>"
            ]
          },
          "metadata": {
            "tags": []
          }
        },
        {
          "output_type": "display_data",
          "data": {
            "text/html": [
              "<span style=\"color:cyan\"> |-Score: 0.81717848777771</span>"
            ],
            "text/plain": [
              "<IPython.core.display.HTML object>"
            ]
          },
          "metadata": {
            "tags": []
          }
        },
        {
          "output_type": "display_data",
          "data": {
            "text/html": [
              "<span style=\"color:cyan\"> |-Best step: 0</span>"
            ],
            "text/plain": [
              "<IPython.core.display.HTML object>"
            ]
          },
          "metadata": {
            "tags": []
          }
        },
        {
          "output_type": "display_data",
          "data": {
            "text/html": [
              "<span style=\"color:#7E57C2\"><h2 style=\"font-size:16px\">Hyperparameters:</h2></span>"
            ],
            "text/plain": [
              "<IPython.core.display.HTML object>"
            ]
          },
          "metadata": {
            "tags": []
          }
        },
        {
          "output_type": "display_data",
          "data": {
            "text/html": [
              "<span style=\"color:cyan\"> |-learning_rate: 0.0001</span>"
            ],
            "text/plain": [
              "<IPython.core.display.HTML object>"
            ]
          },
          "metadata": {
            "tags": []
          }
        },
        {
          "output_type": "display_data",
          "data": {
            "text/html": [
              "<span style=\"color:blue\"> |-num_layers: 11</span>"
            ],
            "text/plain": [
              "<IPython.core.display.HTML object>"
            ]
          },
          "metadata": {
            "tags": []
          }
        },
        {
          "output_type": "display_data",
          "data": {
            "text/html": [
              "<span style=\"color:cyan\"> |-units_0: 64</span>"
            ],
            "text/plain": [
              "<IPython.core.display.HTML object>"
            ]
          },
          "metadata": {
            "tags": []
          }
        },
        {
          "output_type": "display_data",
          "data": {
            "text/html": [
              "<span style=\"color:blue\"> |-units_1: 448</span>"
            ],
            "text/plain": [
              "<IPython.core.display.HTML object>"
            ]
          },
          "metadata": {
            "tags": []
          }
        },
        {
          "output_type": "display_data",
          "data": {
            "text/html": [
              "<span style=\"color:cyan\"> |-units_10: 448</span>"
            ],
            "text/plain": [
              "<IPython.core.display.HTML object>"
            ]
          },
          "metadata": {
            "tags": []
          }
        },
        {
          "output_type": "display_data",
          "data": {
            "text/html": [
              "<span style=\"color:blue\"> |-units_11: 480</span>"
            ],
            "text/plain": [
              "<IPython.core.display.HTML object>"
            ]
          },
          "metadata": {
            "tags": []
          }
        },
        {
          "output_type": "display_data",
          "data": {
            "text/html": [
              "<span style=\"color:cyan\"> |-units_12: 224</span>"
            ],
            "text/plain": [
              "<IPython.core.display.HTML object>"
            ]
          },
          "metadata": {
            "tags": []
          }
        },
        {
          "output_type": "display_data",
          "data": {
            "text/html": [
              "<span style=\"color:blue\"> |-units_13: 64</span>"
            ],
            "text/plain": [
              "<IPython.core.display.HTML object>"
            ]
          },
          "metadata": {
            "tags": []
          }
        },
        {
          "output_type": "display_data",
          "data": {
            "text/html": [
              "<span style=\"color:cyan\"> |-units_2: 480</span>"
            ],
            "text/plain": [
              "<IPython.core.display.HTML object>"
            ]
          },
          "metadata": {
            "tags": []
          }
        },
        {
          "output_type": "display_data",
          "data": {
            "text/html": [
              "<span style=\"color:blue\"> |-units_3: 288</span>"
            ],
            "text/plain": [
              "<IPython.core.display.HTML object>"
            ]
          },
          "metadata": {
            "tags": []
          }
        },
        {
          "output_type": "display_data",
          "data": {
            "text/html": [
              "<span style=\"color:cyan\"> |-units_4: 224</span>"
            ],
            "text/plain": [
              "<IPython.core.display.HTML object>"
            ]
          },
          "metadata": {
            "tags": []
          }
        },
        {
          "output_type": "display_data",
          "data": {
            "text/html": [
              "<span style=\"color:blue\"> |-units_5: 512</span>"
            ],
            "text/plain": [
              "<IPython.core.display.HTML object>"
            ]
          },
          "metadata": {
            "tags": []
          }
        },
        {
          "output_type": "display_data",
          "data": {
            "text/html": [
              "<span style=\"color:cyan\"> |-units_6: 288</span>"
            ],
            "text/plain": [
              "<IPython.core.display.HTML object>"
            ]
          },
          "metadata": {
            "tags": []
          }
        },
        {
          "output_type": "display_data",
          "data": {
            "text/html": [
              "<span style=\"color:blue\"> |-units_7: 32</span>"
            ],
            "text/plain": [
              "<IPython.core.display.HTML object>"
            ]
          },
          "metadata": {
            "tags": []
          }
        },
        {
          "output_type": "display_data",
          "data": {
            "text/html": [
              "<span style=\"color:cyan\"> |-units_8: 224</span>"
            ],
            "text/plain": [
              "<IPython.core.display.HTML object>"
            ]
          },
          "metadata": {
            "tags": []
          }
        },
        {
          "output_type": "display_data",
          "data": {
            "text/html": [
              "<span style=\"color:blue\"> |-units_9: 160</span>"
            ],
            "text/plain": [
              "<IPython.core.display.HTML object>"
            ]
          },
          "metadata": {
            "tags": []
          }
        },
        {
          "output_type": "display_data",
          "data": {
            "text/html": [
              "<span style=\"color:#4527A0\"><h1 style=\"font-size:18px\">Trial summary</h1></span>"
            ],
            "text/plain": [
              "<IPython.core.display.HTML object>"
            ]
          },
          "metadata": {
            "tags": []
          }
        },
        {
          "output_type": "display_data",
          "data": {
            "text/html": [
              "<span style=\"color:cyan\"> |-Trial ID: 04ff0728ea5a0fff961b7cd9246986eb</span>"
            ],
            "text/plain": [
              "<IPython.core.display.HTML object>"
            ]
          },
          "metadata": {
            "tags": []
          }
        },
        {
          "output_type": "display_data",
          "data": {
            "text/html": [
              "<span style=\"color:cyan\"> |-Score: 0.800463855266571</span>"
            ],
            "text/plain": [
              "<IPython.core.display.HTML object>"
            ]
          },
          "metadata": {
            "tags": []
          }
        },
        {
          "output_type": "display_data",
          "data": {
            "text/html": [
              "<span style=\"color:cyan\"> |-Best step: 0</span>"
            ],
            "text/plain": [
              "<IPython.core.display.HTML object>"
            ]
          },
          "metadata": {
            "tags": []
          }
        },
        {
          "output_type": "display_data",
          "data": {
            "text/html": [
              "<span style=\"color:#7E57C2\"><h2 style=\"font-size:16px\">Hyperparameters:</h2></span>"
            ],
            "text/plain": [
              "<IPython.core.display.HTML object>"
            ]
          },
          "metadata": {
            "tags": []
          }
        },
        {
          "output_type": "display_data",
          "data": {
            "text/html": [
              "<span style=\"color:cyan\"> |-learning_rate: 0.0001</span>"
            ],
            "text/plain": [
              "<IPython.core.display.HTML object>"
            ]
          },
          "metadata": {
            "tags": []
          }
        },
        {
          "output_type": "display_data",
          "data": {
            "text/html": [
              "<span style=\"color:blue\"> |-num_layers: 14</span>"
            ],
            "text/plain": [
              "<IPython.core.display.HTML object>"
            ]
          },
          "metadata": {
            "tags": []
          }
        },
        {
          "output_type": "display_data",
          "data": {
            "text/html": [
              "<span style=\"color:cyan\"> |-units_0: 288</span>"
            ],
            "text/plain": [
              "<IPython.core.display.HTML object>"
            ]
          },
          "metadata": {
            "tags": []
          }
        },
        {
          "output_type": "display_data",
          "data": {
            "text/html": [
              "<span style=\"color:blue\"> |-units_1: 128</span>"
            ],
            "text/plain": [
              "<IPython.core.display.HTML object>"
            ]
          },
          "metadata": {
            "tags": []
          }
        },
        {
          "output_type": "display_data",
          "data": {
            "text/html": [
              "<span style=\"color:cyan\"> |-units_10: 128</span>"
            ],
            "text/plain": [
              "<IPython.core.display.HTML object>"
            ]
          },
          "metadata": {
            "tags": []
          }
        },
        {
          "output_type": "display_data",
          "data": {
            "text/html": [
              "<span style=\"color:blue\"> |-units_11: 320</span>"
            ],
            "text/plain": [
              "<IPython.core.display.HTML object>"
            ]
          },
          "metadata": {
            "tags": []
          }
        },
        {
          "output_type": "display_data",
          "data": {
            "text/html": [
              "<span style=\"color:cyan\"> |-units_12: 320</span>"
            ],
            "text/plain": [
              "<IPython.core.display.HTML object>"
            ]
          },
          "metadata": {
            "tags": []
          }
        },
        {
          "output_type": "display_data",
          "data": {
            "text/html": [
              "<span style=\"color:blue\"> |-units_13: 384</span>"
            ],
            "text/plain": [
              "<IPython.core.display.HTML object>"
            ]
          },
          "metadata": {
            "tags": []
          }
        },
        {
          "output_type": "display_data",
          "data": {
            "text/html": [
              "<span style=\"color:cyan\"> |-units_2: 448</span>"
            ],
            "text/plain": [
              "<IPython.core.display.HTML object>"
            ]
          },
          "metadata": {
            "tags": []
          }
        },
        {
          "output_type": "display_data",
          "data": {
            "text/html": [
              "<span style=\"color:blue\"> |-units_3: 256</span>"
            ],
            "text/plain": [
              "<IPython.core.display.HTML object>"
            ]
          },
          "metadata": {
            "tags": []
          }
        },
        {
          "output_type": "display_data",
          "data": {
            "text/html": [
              "<span style=\"color:cyan\"> |-units_4: 320</span>"
            ],
            "text/plain": [
              "<IPython.core.display.HTML object>"
            ]
          },
          "metadata": {
            "tags": []
          }
        },
        {
          "output_type": "display_data",
          "data": {
            "text/html": [
              "<span style=\"color:blue\"> |-units_5: 96</span>"
            ],
            "text/plain": [
              "<IPython.core.display.HTML object>"
            ]
          },
          "metadata": {
            "tags": []
          }
        },
        {
          "output_type": "display_data",
          "data": {
            "text/html": [
              "<span style=\"color:cyan\"> |-units_6: 96</span>"
            ],
            "text/plain": [
              "<IPython.core.display.HTML object>"
            ]
          },
          "metadata": {
            "tags": []
          }
        },
        {
          "output_type": "display_data",
          "data": {
            "text/html": [
              "<span style=\"color:blue\"> |-units_7: 288</span>"
            ],
            "text/plain": [
              "<IPython.core.display.HTML object>"
            ]
          },
          "metadata": {
            "tags": []
          }
        },
        {
          "output_type": "display_data",
          "data": {
            "text/html": [
              "<span style=\"color:cyan\"> |-units_8: 64</span>"
            ],
            "text/plain": [
              "<IPython.core.display.HTML object>"
            ]
          },
          "metadata": {
            "tags": []
          }
        },
        {
          "output_type": "display_data",
          "data": {
            "text/html": [
              "<span style=\"color:blue\"> |-units_9: 512</span>"
            ],
            "text/plain": [
              "<IPython.core.display.HTML object>"
            ]
          },
          "metadata": {
            "tags": []
          }
        },
        {
          "output_type": "display_data",
          "data": {
            "text/html": [
              "<span style=\"color:#4527A0\"><h1 style=\"font-size:18px\">Trial summary</h1></span>"
            ],
            "text/plain": [
              "<IPython.core.display.HTML object>"
            ]
          },
          "metadata": {
            "tags": []
          }
        },
        {
          "output_type": "display_data",
          "data": {
            "text/html": [
              "<span style=\"color:cyan\"> |-Trial ID: e0cdf97251434be5e431e0a08944a169</span>"
            ],
            "text/plain": [
              "<IPython.core.display.HTML object>"
            ]
          },
          "metadata": {
            "tags": []
          }
        },
        {
          "output_type": "display_data",
          "data": {
            "text/html": [
              "<span style=\"color:cyan\"> |-Score: 0.7672744989395142</span>"
            ],
            "text/plain": [
              "<IPython.core.display.HTML object>"
            ]
          },
          "metadata": {
            "tags": []
          }
        },
        {
          "output_type": "display_data",
          "data": {
            "text/html": [
              "<span style=\"color:cyan\"> |-Best step: 0</span>"
            ],
            "text/plain": [
              "<IPython.core.display.HTML object>"
            ]
          },
          "metadata": {
            "tags": []
          }
        },
        {
          "output_type": "display_data",
          "data": {
            "text/html": [
              "<span style=\"color:#7E57C2\"><h2 style=\"font-size:16px\">Hyperparameters:</h2></span>"
            ],
            "text/plain": [
              "<IPython.core.display.HTML object>"
            ]
          },
          "metadata": {
            "tags": []
          }
        },
        {
          "output_type": "display_data",
          "data": {
            "text/html": [
              "<span style=\"color:cyan\"> |-learning_rate: 0.001</span>"
            ],
            "text/plain": [
              "<IPython.core.display.HTML object>"
            ]
          },
          "metadata": {
            "tags": []
          }
        },
        {
          "output_type": "display_data",
          "data": {
            "text/html": [
              "<span style=\"color:blue\"> |-num_layers: 14</span>"
            ],
            "text/plain": [
              "<IPython.core.display.HTML object>"
            ]
          },
          "metadata": {
            "tags": []
          }
        },
        {
          "output_type": "display_data",
          "data": {
            "text/html": [
              "<span style=\"color:cyan\"> |-units_0: 160</span>"
            ],
            "text/plain": [
              "<IPython.core.display.HTML object>"
            ]
          },
          "metadata": {
            "tags": []
          }
        },
        {
          "output_type": "display_data",
          "data": {
            "text/html": [
              "<span style=\"color:blue\"> |-units_1: 224</span>"
            ],
            "text/plain": [
              "<IPython.core.display.HTML object>"
            ]
          },
          "metadata": {
            "tags": []
          }
        },
        {
          "output_type": "display_data",
          "data": {
            "text/html": [
              "<span style=\"color:cyan\"> |-units_10: 32</span>"
            ],
            "text/plain": [
              "<IPython.core.display.HTML object>"
            ]
          },
          "metadata": {
            "tags": []
          }
        },
        {
          "output_type": "display_data",
          "data": {
            "text/html": [
              "<span style=\"color:blue\"> |-units_11: 32</span>"
            ],
            "text/plain": [
              "<IPython.core.display.HTML object>"
            ]
          },
          "metadata": {
            "tags": []
          }
        },
        {
          "output_type": "display_data",
          "data": {
            "text/html": [
              "<span style=\"color:cyan\"> |-units_12: 32</span>"
            ],
            "text/plain": [
              "<IPython.core.display.HTML object>"
            ]
          },
          "metadata": {
            "tags": []
          }
        },
        {
          "output_type": "display_data",
          "data": {
            "text/html": [
              "<span style=\"color:blue\"> |-units_13: 32</span>"
            ],
            "text/plain": [
              "<IPython.core.display.HTML object>"
            ]
          },
          "metadata": {
            "tags": []
          }
        },
        {
          "output_type": "display_data",
          "data": {
            "text/html": [
              "<span style=\"color:cyan\"> |-units_2: 32</span>"
            ],
            "text/plain": [
              "<IPython.core.display.HTML object>"
            ]
          },
          "metadata": {
            "tags": []
          }
        },
        {
          "output_type": "display_data",
          "data": {
            "text/html": [
              "<span style=\"color:blue\"> |-units_3: 32</span>"
            ],
            "text/plain": [
              "<IPython.core.display.HTML object>"
            ]
          },
          "metadata": {
            "tags": []
          }
        },
        {
          "output_type": "display_data",
          "data": {
            "text/html": [
              "<span style=\"color:cyan\"> |-units_4: 32</span>"
            ],
            "text/plain": [
              "<IPython.core.display.HTML object>"
            ]
          },
          "metadata": {
            "tags": []
          }
        },
        {
          "output_type": "display_data",
          "data": {
            "text/html": [
              "<span style=\"color:blue\"> |-units_5: 32</span>"
            ],
            "text/plain": [
              "<IPython.core.display.HTML object>"
            ]
          },
          "metadata": {
            "tags": []
          }
        },
        {
          "output_type": "display_data",
          "data": {
            "text/html": [
              "<span style=\"color:cyan\"> |-units_6: 32</span>"
            ],
            "text/plain": [
              "<IPython.core.display.HTML object>"
            ]
          },
          "metadata": {
            "tags": []
          }
        },
        {
          "output_type": "display_data",
          "data": {
            "text/html": [
              "<span style=\"color:blue\"> |-units_7: 32</span>"
            ],
            "text/plain": [
              "<IPython.core.display.HTML object>"
            ]
          },
          "metadata": {
            "tags": []
          }
        },
        {
          "output_type": "display_data",
          "data": {
            "text/html": [
              "<span style=\"color:cyan\"> |-units_8: 32</span>"
            ],
            "text/plain": [
              "<IPython.core.display.HTML object>"
            ]
          },
          "metadata": {
            "tags": []
          }
        },
        {
          "output_type": "display_data",
          "data": {
            "text/html": [
              "<span style=\"color:blue\"> |-units_9: 32</span>"
            ],
            "text/plain": [
              "<IPython.core.display.HTML object>"
            ]
          },
          "metadata": {
            "tags": []
          }
        }
      ]
    },
    {
      "cell_type": "markdown",
      "metadata": {
        "id": "Aw8onN2NLHd5",
        "colab_type": "text"
      },
      "source": [
        "<a id=section4></a>\n",
        "## 6. PyCaret Approach"
      ]
    },
    {
      "cell_type": "code",
      "metadata": {
        "id": "zaFAfUv_yFih",
        "colab_type": "code",
        "colab": {
          "base_uri": "https://localhost:8080/",
          "height": 765
        },
        "outputId": "eab58266-b267-4dd0-fdca-3a427d367ce9"
      },
      "source": [
        "!pip install -q pycaret"
      ],
      "execution_count": 49,
      "outputs": [
        {
          "output_type": "stream",
          "text": [
            "\u001b[K     |████████████████████████████████| 256kB 8.9MB/s \n",
            "\u001b[K     |████████████████████████████████| 266kB 17.3MB/s \n",
            "\u001b[K     |████████████████████████████████| 266kB 21.7MB/s \n",
            "\u001b[K     |████████████████████████████████| 102kB 10.2MB/s \n",
            "\u001b[K     |████████████████████████████████| 66.1MB 49kB/s \n",
            "\u001b[K     |████████████████████████████████| 174kB 61.9MB/s \n",
            "\u001b[K     |████████████████████████████████| 13.9MB 244kB/s \n",
            "\u001b[K     |████████████████████████████████| 1.6MB 55.7MB/s \n",
            "\u001b[K     |████████████████████████████████| 6.8MB 43.2MB/s \n",
            "\u001b[K     |████████████████████████████████| 1.8MB 57.9MB/s \n",
            "\u001b[K     |████████████████████████████████| 71kB 9.9MB/s \n",
            "\u001b[K     |████████████████████████████████| 61kB 8.8MB/s \n",
            "\u001b[K     |████████████████████████████████| 604kB 48.7MB/s \n",
            "\u001b[K     |████████████████████████████████| 71kB 6.6MB/s \n",
            "\u001b[K     |████████████████████████████████| 3.1MB 51.1MB/s \n",
            "\u001b[K     |████████████████████████████████| 2.1MB 48.6MB/s \n",
            "\u001b[K     |████████████████████████████████| 163kB 55.7MB/s \n",
            "\u001b[K     |████████████████████████████████| 153kB 63.3MB/s \n",
            "\u001b[K     |████████████████████████████████| 327kB 56.6MB/s \n",
            "\u001b[K     |████████████████████████████████| 1.1MB 51.7MB/s \n",
            "\u001b[K     |████████████████████████████████| 81kB 9.8MB/s \n",
            "\u001b[K     |████████████████████████████████| 6.0MB 37.8MB/s \n",
            "\u001b[K     |████████████████████████████████| 51kB 7.2MB/s \n",
            "\u001b[K     |████████████████████████████████| 552kB 45.9MB/s \n",
            "\u001b[K     |████████████████████████████████| 296kB 57.1MB/s \n",
            "\u001b[K     |████████████████████████████████| 71kB 9.8MB/s \n",
            "\u001b[K     |████████████████████████████████| 204kB 46.3MB/s \n",
            "\u001b[K     |████████████████████████████████| 2.6MB 47.1MB/s \n",
            "\u001b[K     |████████████████████████████████| 92kB 11.5MB/s \n",
            "\u001b[K     |████████████████████████████████| 122kB 57.0MB/s \n",
            "\u001b[K     |████████████████████████████████| 81kB 10.4MB/s \n",
            "\u001b[K     |████████████████████████████████| 51kB 7.6MB/s \n",
            "\u001b[?25h  Building wheel for pyod (setup.py) ... \u001b[?25l\u001b[?25hdone\n",
            "  Building wheel for pyLDAvis (setup.py) ... \u001b[?25l\u001b[?25hdone\n",
            "  Building wheel for htmlmin (setup.py) ... \u001b[?25l\u001b[?25hdone\n",
            "  Building wheel for combo (setup.py) ... \u001b[?25l\u001b[?25hdone\n",
            "  Building wheel for suod (setup.py) ... \u001b[?25l\u001b[?25hdone\n",
            "  Building wheel for prometheus-flask-exporter (setup.py) ... \u001b[?25l\u001b[?25hdone\n",
            "  Building wheel for alembic (setup.py) ... \u001b[?25l\u001b[?25hdone\n",
            "  Building wheel for querystring-parser (setup.py) ... \u001b[?25l\u001b[?25hdone\n",
            "  Building wheel for sqlalchemy (setup.py) ... \u001b[?25l\u001b[?25hdone\n",
            "  Building wheel for databricks-cli (setup.py) ... \u001b[?25l\u001b[?25hdone\n",
            "  Building wheel for funcy (setup.py) ... \u001b[?25l\u001b[?25hdone\n",
            "  Building wheel for imagehash (setup.py) ... \u001b[?25l\u001b[?25hdone\n"
          ],
          "name": "stdout"
        }
      ]
    },
    {
      "cell_type": "code",
      "metadata": {
        "id": "VFvco6GRysoS",
        "colab_type": "code",
        "colab": {}
      },
      "source": [
        "import pandas as pd\n",
        "dataset = pd.read_csv(\"/content/drive/My Drive/TensorFlow/advertisement_success.csv\")"
      ],
      "execution_count": 10,
      "outputs": []
    },
    {
      "cell_type": "code",
      "metadata": {
        "id": "dVF7-o38yxJP",
        "colab_type": "code",
        "colab": {
          "base_uri": "https://localhost:8080/",
          "height": 51
        },
        "outputId": "9156e30a-6b86-4e08-e9c2-2af5963f6341"
      },
      "source": [
        "data = dataset.sample(frac=0.95, random_state=786)\n",
        "data_unseen = dataset.drop(data.index)\n",
        "data.reset_index(inplace=True, drop=True)\n",
        "data_unseen.reset_index(inplace=True, drop=True)\n",
        "print('Data for Modeling: ' + str(data.shape))\n",
        "print('Unseen Data For Predictions: ' + str(data_unseen.shape))"
      ],
      "execution_count": 5,
      "outputs": [
        {
          "output_type": "stream",
          "text": [
            "Data for Modeling: (24746, 12)\n",
            "Unseen Data For Predictions: (1302, 12)\n"
          ],
          "name": "stdout"
        }
      ]
    },
    {
      "cell_type": "code",
      "metadata": {
        "id": "VP_dKh9vy4MZ",
        "colab_type": "code",
        "colab": {}
      },
      "source": [
        "from pycaret.classification import *"
      ],
      "execution_count": 8,
      "outputs": []
    },
    {
      "cell_type": "code",
      "metadata": {
        "id": "UM-r7CAQzChg",
        "colab_type": "code",
        "colab": {
          "base_uri": "https://localhost:8080/",
          "height": 981,
          "referenced_widgets": [
            "1b3ad5da8bc7401dac0cee622d624b25",
            "ece4b024888945029b5283874c04464a",
            "e61e13f742754a6fb7821c9a5ecbdbf8",
            "9d8ff9dd8bdb48d28f738b8f2e0c14f7",
            "c3b2850aeeac4793aea726b036cbdfc7",
            "5b0b1f621d7340b68ab3ec1aa333c013"
          ]
        },
        "outputId": "a0ab82ee-b7d3-482c-e7a1-350ef2447c12"
      },
      "source": [
        "exp_clf101 = setup(data = data, target = 'netgain', session_id=123,\n",
        "                   fix_imbalance=True,\n",
        "                   normalize = True,\n",
        "                   transformation = True,\n",
        "                   remove_multicollinearity = True,\n",
        "                   multicollinearity_threshold = 0.95)"
      ],
      "execution_count": 9,
      "outputs": [
        {
          "output_type": "stream",
          "text": [
            "Setup Succesfully Completed!\n"
          ],
          "name": "stdout"
        },
        {
          "output_type": "display_data",
          "data": {
            "text/html": [
              "<style  type=\"text/css\" >\n",
              "    #T_3ffb2a5a_ec21_11ea_bd2a_0242ac1c0002row15_col1 {\n",
              "            background-color:  lightgreen;\n",
              "        }    #T_3ffb2a5a_ec21_11ea_bd2a_0242ac1c0002row17_col1 {\n",
              "            background-color:  lightgreen;\n",
              "        }    #T_3ffb2a5a_ec21_11ea_bd2a_0242ac1c0002row28_col1 {\n",
              "            background-color:  lightgreen;\n",
              "        }    #T_3ffb2a5a_ec21_11ea_bd2a_0242ac1c0002row42_col1 {\n",
              "            background-color:  lightgreen;\n",
              "        }</style><table id=\"T_3ffb2a5a_ec21_11ea_bd2a_0242ac1c0002\" ><thead>    <tr>        <th class=\"blank level0\" ></th>        <th class=\"col_heading level0 col0\" >Description</th>        <th class=\"col_heading level0 col1\" >Value</th>    </tr></thead><tbody>\n",
              "                <tr>\n",
              "                        <th id=\"T_3ffb2a5a_ec21_11ea_bd2a_0242ac1c0002level0_row0\" class=\"row_heading level0 row0\" >0</th>\n",
              "                        <td id=\"T_3ffb2a5a_ec21_11ea_bd2a_0242ac1c0002row0_col0\" class=\"data row0 col0\" >session_id</td>\n",
              "                        <td id=\"T_3ffb2a5a_ec21_11ea_bd2a_0242ac1c0002row0_col1\" class=\"data row0 col1\" >123</td>\n",
              "            </tr>\n",
              "            <tr>\n",
              "                        <th id=\"T_3ffb2a5a_ec21_11ea_bd2a_0242ac1c0002level0_row1\" class=\"row_heading level0 row1\" >1</th>\n",
              "                        <td id=\"T_3ffb2a5a_ec21_11ea_bd2a_0242ac1c0002row1_col0\" class=\"data row1 col0\" >Target Type</td>\n",
              "                        <td id=\"T_3ffb2a5a_ec21_11ea_bd2a_0242ac1c0002row1_col1\" class=\"data row1 col1\" >Binary</td>\n",
              "            </tr>\n",
              "            <tr>\n",
              "                        <th id=\"T_3ffb2a5a_ec21_11ea_bd2a_0242ac1c0002level0_row2\" class=\"row_heading level0 row2\" >2</th>\n",
              "                        <td id=\"T_3ffb2a5a_ec21_11ea_bd2a_0242ac1c0002row2_col0\" class=\"data row2 col0\" >Label Encoded</td>\n",
              "                        <td id=\"T_3ffb2a5a_ec21_11ea_bd2a_0242ac1c0002row2_col1\" class=\"data row2 col1\" >False: 0, True: 1</td>\n",
              "            </tr>\n",
              "            <tr>\n",
              "                        <th id=\"T_3ffb2a5a_ec21_11ea_bd2a_0242ac1c0002level0_row3\" class=\"row_heading level0 row3\" >3</th>\n",
              "                        <td id=\"T_3ffb2a5a_ec21_11ea_bd2a_0242ac1c0002row3_col0\" class=\"data row3 col0\" >Original Data</td>\n",
              "                        <td id=\"T_3ffb2a5a_ec21_11ea_bd2a_0242ac1c0002row3_col1\" class=\"data row3 col1\" >(24746, 12)</td>\n",
              "            </tr>\n",
              "            <tr>\n",
              "                        <th id=\"T_3ffb2a5a_ec21_11ea_bd2a_0242ac1c0002level0_row4\" class=\"row_heading level0 row4\" >4</th>\n",
              "                        <td id=\"T_3ffb2a5a_ec21_11ea_bd2a_0242ac1c0002row4_col0\" class=\"data row4 col0\" >Missing Values </td>\n",
              "                        <td id=\"T_3ffb2a5a_ec21_11ea_bd2a_0242ac1c0002row4_col1\" class=\"data row4 col1\" >False</td>\n",
              "            </tr>\n",
              "            <tr>\n",
              "                        <th id=\"T_3ffb2a5a_ec21_11ea_bd2a_0242ac1c0002level0_row5\" class=\"row_heading level0 row5\" >5</th>\n",
              "                        <td id=\"T_3ffb2a5a_ec21_11ea_bd2a_0242ac1c0002row5_col0\" class=\"data row5 col0\" >Numeric Features </td>\n",
              "                        <td id=\"T_3ffb2a5a_ec21_11ea_bd2a_0242ac1c0002row5_col1\" class=\"data row5 col1\" >3</td>\n",
              "            </tr>\n",
              "            <tr>\n",
              "                        <th id=\"T_3ffb2a5a_ec21_11ea_bd2a_0242ac1c0002level0_row6\" class=\"row_heading level0 row6\" >6</th>\n",
              "                        <td id=\"T_3ffb2a5a_ec21_11ea_bd2a_0242ac1c0002row6_col0\" class=\"data row6 col0\" >Categorical Features </td>\n",
              "                        <td id=\"T_3ffb2a5a_ec21_11ea_bd2a_0242ac1c0002row6_col1\" class=\"data row6 col1\" >8</td>\n",
              "            </tr>\n",
              "            <tr>\n",
              "                        <th id=\"T_3ffb2a5a_ec21_11ea_bd2a_0242ac1c0002level0_row7\" class=\"row_heading level0 row7\" >7</th>\n",
              "                        <td id=\"T_3ffb2a5a_ec21_11ea_bd2a_0242ac1c0002row7_col0\" class=\"data row7 col0\" >Ordinal Features </td>\n",
              "                        <td id=\"T_3ffb2a5a_ec21_11ea_bd2a_0242ac1c0002row7_col1\" class=\"data row7 col1\" >False</td>\n",
              "            </tr>\n",
              "            <tr>\n",
              "                        <th id=\"T_3ffb2a5a_ec21_11ea_bd2a_0242ac1c0002level0_row8\" class=\"row_heading level0 row8\" >8</th>\n",
              "                        <td id=\"T_3ffb2a5a_ec21_11ea_bd2a_0242ac1c0002row8_col0\" class=\"data row8 col0\" >High Cardinality Features </td>\n",
              "                        <td id=\"T_3ffb2a5a_ec21_11ea_bd2a_0242ac1c0002row8_col1\" class=\"data row8 col1\" >False</td>\n",
              "            </tr>\n",
              "            <tr>\n",
              "                        <th id=\"T_3ffb2a5a_ec21_11ea_bd2a_0242ac1c0002level0_row9\" class=\"row_heading level0 row9\" >9</th>\n",
              "                        <td id=\"T_3ffb2a5a_ec21_11ea_bd2a_0242ac1c0002row9_col0\" class=\"data row9 col0\" >High Cardinality Method </td>\n",
              "                        <td id=\"T_3ffb2a5a_ec21_11ea_bd2a_0242ac1c0002row9_col1\" class=\"data row9 col1\" >None</td>\n",
              "            </tr>\n",
              "            <tr>\n",
              "                        <th id=\"T_3ffb2a5a_ec21_11ea_bd2a_0242ac1c0002level0_row10\" class=\"row_heading level0 row10\" >10</th>\n",
              "                        <td id=\"T_3ffb2a5a_ec21_11ea_bd2a_0242ac1c0002row10_col0\" class=\"data row10 col0\" >Sampled Data</td>\n",
              "                        <td id=\"T_3ffb2a5a_ec21_11ea_bd2a_0242ac1c0002row10_col1\" class=\"data row10 col1\" >(24746, 12)</td>\n",
              "            </tr>\n",
              "            <tr>\n",
              "                        <th id=\"T_3ffb2a5a_ec21_11ea_bd2a_0242ac1c0002level0_row11\" class=\"row_heading level0 row11\" >11</th>\n",
              "                        <td id=\"T_3ffb2a5a_ec21_11ea_bd2a_0242ac1c0002row11_col0\" class=\"data row11 col0\" >Transformed Train Set</td>\n",
              "                        <td id=\"T_3ffb2a5a_ec21_11ea_bd2a_0242ac1c0002row11_col1\" class=\"data row11 col1\" >(17322, 70)</td>\n",
              "            </tr>\n",
              "            <tr>\n",
              "                        <th id=\"T_3ffb2a5a_ec21_11ea_bd2a_0242ac1c0002level0_row12\" class=\"row_heading level0 row12\" >12</th>\n",
              "                        <td id=\"T_3ffb2a5a_ec21_11ea_bd2a_0242ac1c0002row12_col0\" class=\"data row12 col0\" >Transformed Test Set</td>\n",
              "                        <td id=\"T_3ffb2a5a_ec21_11ea_bd2a_0242ac1c0002row12_col1\" class=\"data row12 col1\" >(7424, 70)</td>\n",
              "            </tr>\n",
              "            <tr>\n",
              "                        <th id=\"T_3ffb2a5a_ec21_11ea_bd2a_0242ac1c0002level0_row13\" class=\"row_heading level0 row13\" >13</th>\n",
              "                        <td id=\"T_3ffb2a5a_ec21_11ea_bd2a_0242ac1c0002row13_col0\" class=\"data row13 col0\" >Numeric Imputer </td>\n",
              "                        <td id=\"T_3ffb2a5a_ec21_11ea_bd2a_0242ac1c0002row13_col1\" class=\"data row13 col1\" >mean</td>\n",
              "            </tr>\n",
              "            <tr>\n",
              "                        <th id=\"T_3ffb2a5a_ec21_11ea_bd2a_0242ac1c0002level0_row14\" class=\"row_heading level0 row14\" >14</th>\n",
              "                        <td id=\"T_3ffb2a5a_ec21_11ea_bd2a_0242ac1c0002row14_col0\" class=\"data row14 col0\" >Categorical Imputer </td>\n",
              "                        <td id=\"T_3ffb2a5a_ec21_11ea_bd2a_0242ac1c0002row14_col1\" class=\"data row14 col1\" >constant</td>\n",
              "            </tr>\n",
              "            <tr>\n",
              "                        <th id=\"T_3ffb2a5a_ec21_11ea_bd2a_0242ac1c0002level0_row15\" class=\"row_heading level0 row15\" >15</th>\n",
              "                        <td id=\"T_3ffb2a5a_ec21_11ea_bd2a_0242ac1c0002row15_col0\" class=\"data row15 col0\" >Normalize </td>\n",
              "                        <td id=\"T_3ffb2a5a_ec21_11ea_bd2a_0242ac1c0002row15_col1\" class=\"data row15 col1\" >True</td>\n",
              "            </tr>\n",
              "            <tr>\n",
              "                        <th id=\"T_3ffb2a5a_ec21_11ea_bd2a_0242ac1c0002level0_row16\" class=\"row_heading level0 row16\" >16</th>\n",
              "                        <td id=\"T_3ffb2a5a_ec21_11ea_bd2a_0242ac1c0002row16_col0\" class=\"data row16 col0\" >Normalize Method </td>\n",
              "                        <td id=\"T_3ffb2a5a_ec21_11ea_bd2a_0242ac1c0002row16_col1\" class=\"data row16 col1\" >zscore</td>\n",
              "            </tr>\n",
              "            <tr>\n",
              "                        <th id=\"T_3ffb2a5a_ec21_11ea_bd2a_0242ac1c0002level0_row17\" class=\"row_heading level0 row17\" >17</th>\n",
              "                        <td id=\"T_3ffb2a5a_ec21_11ea_bd2a_0242ac1c0002row17_col0\" class=\"data row17 col0\" >Transformation </td>\n",
              "                        <td id=\"T_3ffb2a5a_ec21_11ea_bd2a_0242ac1c0002row17_col1\" class=\"data row17 col1\" >True</td>\n",
              "            </tr>\n",
              "            <tr>\n",
              "                        <th id=\"T_3ffb2a5a_ec21_11ea_bd2a_0242ac1c0002level0_row18\" class=\"row_heading level0 row18\" >18</th>\n",
              "                        <td id=\"T_3ffb2a5a_ec21_11ea_bd2a_0242ac1c0002row18_col0\" class=\"data row18 col0\" >Transformation Method </td>\n",
              "                        <td id=\"T_3ffb2a5a_ec21_11ea_bd2a_0242ac1c0002row18_col1\" class=\"data row18 col1\" >yeo-johnson</td>\n",
              "            </tr>\n",
              "            <tr>\n",
              "                        <th id=\"T_3ffb2a5a_ec21_11ea_bd2a_0242ac1c0002level0_row19\" class=\"row_heading level0 row19\" >19</th>\n",
              "                        <td id=\"T_3ffb2a5a_ec21_11ea_bd2a_0242ac1c0002row19_col0\" class=\"data row19 col0\" >PCA </td>\n",
              "                        <td id=\"T_3ffb2a5a_ec21_11ea_bd2a_0242ac1c0002row19_col1\" class=\"data row19 col1\" >False</td>\n",
              "            </tr>\n",
              "            <tr>\n",
              "                        <th id=\"T_3ffb2a5a_ec21_11ea_bd2a_0242ac1c0002level0_row20\" class=\"row_heading level0 row20\" >20</th>\n",
              "                        <td id=\"T_3ffb2a5a_ec21_11ea_bd2a_0242ac1c0002row20_col0\" class=\"data row20 col0\" >PCA Method </td>\n",
              "                        <td id=\"T_3ffb2a5a_ec21_11ea_bd2a_0242ac1c0002row20_col1\" class=\"data row20 col1\" >None</td>\n",
              "            </tr>\n",
              "            <tr>\n",
              "                        <th id=\"T_3ffb2a5a_ec21_11ea_bd2a_0242ac1c0002level0_row21\" class=\"row_heading level0 row21\" >21</th>\n",
              "                        <td id=\"T_3ffb2a5a_ec21_11ea_bd2a_0242ac1c0002row21_col0\" class=\"data row21 col0\" >PCA Components </td>\n",
              "                        <td id=\"T_3ffb2a5a_ec21_11ea_bd2a_0242ac1c0002row21_col1\" class=\"data row21 col1\" >None</td>\n",
              "            </tr>\n",
              "            <tr>\n",
              "                        <th id=\"T_3ffb2a5a_ec21_11ea_bd2a_0242ac1c0002level0_row22\" class=\"row_heading level0 row22\" >22</th>\n",
              "                        <td id=\"T_3ffb2a5a_ec21_11ea_bd2a_0242ac1c0002row22_col0\" class=\"data row22 col0\" >Ignore Low Variance </td>\n",
              "                        <td id=\"T_3ffb2a5a_ec21_11ea_bd2a_0242ac1c0002row22_col1\" class=\"data row22 col1\" >False</td>\n",
              "            </tr>\n",
              "            <tr>\n",
              "                        <th id=\"T_3ffb2a5a_ec21_11ea_bd2a_0242ac1c0002level0_row23\" class=\"row_heading level0 row23\" >23</th>\n",
              "                        <td id=\"T_3ffb2a5a_ec21_11ea_bd2a_0242ac1c0002row23_col0\" class=\"data row23 col0\" >Combine Rare Levels </td>\n",
              "                        <td id=\"T_3ffb2a5a_ec21_11ea_bd2a_0242ac1c0002row23_col1\" class=\"data row23 col1\" >False</td>\n",
              "            </tr>\n",
              "            <tr>\n",
              "                        <th id=\"T_3ffb2a5a_ec21_11ea_bd2a_0242ac1c0002level0_row24\" class=\"row_heading level0 row24\" >24</th>\n",
              "                        <td id=\"T_3ffb2a5a_ec21_11ea_bd2a_0242ac1c0002row24_col0\" class=\"data row24 col0\" >Rare Level Threshold </td>\n",
              "                        <td id=\"T_3ffb2a5a_ec21_11ea_bd2a_0242ac1c0002row24_col1\" class=\"data row24 col1\" >None</td>\n",
              "            </tr>\n",
              "            <tr>\n",
              "                        <th id=\"T_3ffb2a5a_ec21_11ea_bd2a_0242ac1c0002level0_row25\" class=\"row_heading level0 row25\" >25</th>\n",
              "                        <td id=\"T_3ffb2a5a_ec21_11ea_bd2a_0242ac1c0002row25_col0\" class=\"data row25 col0\" >Numeric Binning </td>\n",
              "                        <td id=\"T_3ffb2a5a_ec21_11ea_bd2a_0242ac1c0002row25_col1\" class=\"data row25 col1\" >False</td>\n",
              "            </tr>\n",
              "            <tr>\n",
              "                        <th id=\"T_3ffb2a5a_ec21_11ea_bd2a_0242ac1c0002level0_row26\" class=\"row_heading level0 row26\" >26</th>\n",
              "                        <td id=\"T_3ffb2a5a_ec21_11ea_bd2a_0242ac1c0002row26_col0\" class=\"data row26 col0\" >Remove Outliers </td>\n",
              "                        <td id=\"T_3ffb2a5a_ec21_11ea_bd2a_0242ac1c0002row26_col1\" class=\"data row26 col1\" >False</td>\n",
              "            </tr>\n",
              "            <tr>\n",
              "                        <th id=\"T_3ffb2a5a_ec21_11ea_bd2a_0242ac1c0002level0_row27\" class=\"row_heading level0 row27\" >27</th>\n",
              "                        <td id=\"T_3ffb2a5a_ec21_11ea_bd2a_0242ac1c0002row27_col0\" class=\"data row27 col0\" >Outliers Threshold </td>\n",
              "                        <td id=\"T_3ffb2a5a_ec21_11ea_bd2a_0242ac1c0002row27_col1\" class=\"data row27 col1\" >None</td>\n",
              "            </tr>\n",
              "            <tr>\n",
              "                        <th id=\"T_3ffb2a5a_ec21_11ea_bd2a_0242ac1c0002level0_row28\" class=\"row_heading level0 row28\" >28</th>\n",
              "                        <td id=\"T_3ffb2a5a_ec21_11ea_bd2a_0242ac1c0002row28_col0\" class=\"data row28 col0\" >Remove Multicollinearity </td>\n",
              "                        <td id=\"T_3ffb2a5a_ec21_11ea_bd2a_0242ac1c0002row28_col1\" class=\"data row28 col1\" >True</td>\n",
              "            </tr>\n",
              "            <tr>\n",
              "                        <th id=\"T_3ffb2a5a_ec21_11ea_bd2a_0242ac1c0002level0_row29\" class=\"row_heading level0 row29\" >29</th>\n",
              "                        <td id=\"T_3ffb2a5a_ec21_11ea_bd2a_0242ac1c0002row29_col0\" class=\"data row29 col0\" >Multicollinearity Threshold </td>\n",
              "                        <td id=\"T_3ffb2a5a_ec21_11ea_bd2a_0242ac1c0002row29_col1\" class=\"data row29 col1\" >0.950000</td>\n",
              "            </tr>\n",
              "            <tr>\n",
              "                        <th id=\"T_3ffb2a5a_ec21_11ea_bd2a_0242ac1c0002level0_row30\" class=\"row_heading level0 row30\" >30</th>\n",
              "                        <td id=\"T_3ffb2a5a_ec21_11ea_bd2a_0242ac1c0002row30_col0\" class=\"data row30 col0\" >Clustering </td>\n",
              "                        <td id=\"T_3ffb2a5a_ec21_11ea_bd2a_0242ac1c0002row30_col1\" class=\"data row30 col1\" >False</td>\n",
              "            </tr>\n",
              "            <tr>\n",
              "                        <th id=\"T_3ffb2a5a_ec21_11ea_bd2a_0242ac1c0002level0_row31\" class=\"row_heading level0 row31\" >31</th>\n",
              "                        <td id=\"T_3ffb2a5a_ec21_11ea_bd2a_0242ac1c0002row31_col0\" class=\"data row31 col0\" >Clustering Iteration </td>\n",
              "                        <td id=\"T_3ffb2a5a_ec21_11ea_bd2a_0242ac1c0002row31_col1\" class=\"data row31 col1\" >None</td>\n",
              "            </tr>\n",
              "            <tr>\n",
              "                        <th id=\"T_3ffb2a5a_ec21_11ea_bd2a_0242ac1c0002level0_row32\" class=\"row_heading level0 row32\" >32</th>\n",
              "                        <td id=\"T_3ffb2a5a_ec21_11ea_bd2a_0242ac1c0002row32_col0\" class=\"data row32 col0\" >Polynomial Features </td>\n",
              "                        <td id=\"T_3ffb2a5a_ec21_11ea_bd2a_0242ac1c0002row32_col1\" class=\"data row32 col1\" >False</td>\n",
              "            </tr>\n",
              "            <tr>\n",
              "                        <th id=\"T_3ffb2a5a_ec21_11ea_bd2a_0242ac1c0002level0_row33\" class=\"row_heading level0 row33\" >33</th>\n",
              "                        <td id=\"T_3ffb2a5a_ec21_11ea_bd2a_0242ac1c0002row33_col0\" class=\"data row33 col0\" >Polynomial Degree </td>\n",
              "                        <td id=\"T_3ffb2a5a_ec21_11ea_bd2a_0242ac1c0002row33_col1\" class=\"data row33 col1\" >None</td>\n",
              "            </tr>\n",
              "            <tr>\n",
              "                        <th id=\"T_3ffb2a5a_ec21_11ea_bd2a_0242ac1c0002level0_row34\" class=\"row_heading level0 row34\" >34</th>\n",
              "                        <td id=\"T_3ffb2a5a_ec21_11ea_bd2a_0242ac1c0002row34_col0\" class=\"data row34 col0\" >Trignometry Features </td>\n",
              "                        <td id=\"T_3ffb2a5a_ec21_11ea_bd2a_0242ac1c0002row34_col1\" class=\"data row34 col1\" >False</td>\n",
              "            </tr>\n",
              "            <tr>\n",
              "                        <th id=\"T_3ffb2a5a_ec21_11ea_bd2a_0242ac1c0002level0_row35\" class=\"row_heading level0 row35\" >35</th>\n",
              "                        <td id=\"T_3ffb2a5a_ec21_11ea_bd2a_0242ac1c0002row35_col0\" class=\"data row35 col0\" >Polynomial Threshold </td>\n",
              "                        <td id=\"T_3ffb2a5a_ec21_11ea_bd2a_0242ac1c0002row35_col1\" class=\"data row35 col1\" >None</td>\n",
              "            </tr>\n",
              "            <tr>\n",
              "                        <th id=\"T_3ffb2a5a_ec21_11ea_bd2a_0242ac1c0002level0_row36\" class=\"row_heading level0 row36\" >36</th>\n",
              "                        <td id=\"T_3ffb2a5a_ec21_11ea_bd2a_0242ac1c0002row36_col0\" class=\"data row36 col0\" >Group Features </td>\n",
              "                        <td id=\"T_3ffb2a5a_ec21_11ea_bd2a_0242ac1c0002row36_col1\" class=\"data row36 col1\" >False</td>\n",
              "            </tr>\n",
              "            <tr>\n",
              "                        <th id=\"T_3ffb2a5a_ec21_11ea_bd2a_0242ac1c0002level0_row37\" class=\"row_heading level0 row37\" >37</th>\n",
              "                        <td id=\"T_3ffb2a5a_ec21_11ea_bd2a_0242ac1c0002row37_col0\" class=\"data row37 col0\" >Feature Selection </td>\n",
              "                        <td id=\"T_3ffb2a5a_ec21_11ea_bd2a_0242ac1c0002row37_col1\" class=\"data row37 col1\" >False</td>\n",
              "            </tr>\n",
              "            <tr>\n",
              "                        <th id=\"T_3ffb2a5a_ec21_11ea_bd2a_0242ac1c0002level0_row38\" class=\"row_heading level0 row38\" >38</th>\n",
              "                        <td id=\"T_3ffb2a5a_ec21_11ea_bd2a_0242ac1c0002row38_col0\" class=\"data row38 col0\" >Features Selection Threshold </td>\n",
              "                        <td id=\"T_3ffb2a5a_ec21_11ea_bd2a_0242ac1c0002row38_col1\" class=\"data row38 col1\" >None</td>\n",
              "            </tr>\n",
              "            <tr>\n",
              "                        <th id=\"T_3ffb2a5a_ec21_11ea_bd2a_0242ac1c0002level0_row39\" class=\"row_heading level0 row39\" >39</th>\n",
              "                        <td id=\"T_3ffb2a5a_ec21_11ea_bd2a_0242ac1c0002row39_col0\" class=\"data row39 col0\" >Feature Interaction </td>\n",
              "                        <td id=\"T_3ffb2a5a_ec21_11ea_bd2a_0242ac1c0002row39_col1\" class=\"data row39 col1\" >False</td>\n",
              "            </tr>\n",
              "            <tr>\n",
              "                        <th id=\"T_3ffb2a5a_ec21_11ea_bd2a_0242ac1c0002level0_row40\" class=\"row_heading level0 row40\" >40</th>\n",
              "                        <td id=\"T_3ffb2a5a_ec21_11ea_bd2a_0242ac1c0002row40_col0\" class=\"data row40 col0\" >Feature Ratio </td>\n",
              "                        <td id=\"T_3ffb2a5a_ec21_11ea_bd2a_0242ac1c0002row40_col1\" class=\"data row40 col1\" >False</td>\n",
              "            </tr>\n",
              "            <tr>\n",
              "                        <th id=\"T_3ffb2a5a_ec21_11ea_bd2a_0242ac1c0002level0_row41\" class=\"row_heading level0 row41\" >41</th>\n",
              "                        <td id=\"T_3ffb2a5a_ec21_11ea_bd2a_0242ac1c0002row41_col0\" class=\"data row41 col0\" >Interaction Threshold </td>\n",
              "                        <td id=\"T_3ffb2a5a_ec21_11ea_bd2a_0242ac1c0002row41_col1\" class=\"data row41 col1\" >None</td>\n",
              "            </tr>\n",
              "            <tr>\n",
              "                        <th id=\"T_3ffb2a5a_ec21_11ea_bd2a_0242ac1c0002level0_row42\" class=\"row_heading level0 row42\" >42</th>\n",
              "                        <td id=\"T_3ffb2a5a_ec21_11ea_bd2a_0242ac1c0002row42_col0\" class=\"data row42 col0\" >Fix Imbalance</td>\n",
              "                        <td id=\"T_3ffb2a5a_ec21_11ea_bd2a_0242ac1c0002row42_col1\" class=\"data row42 col1\" >True</td>\n",
              "            </tr>\n",
              "            <tr>\n",
              "                        <th id=\"T_3ffb2a5a_ec21_11ea_bd2a_0242ac1c0002level0_row43\" class=\"row_heading level0 row43\" >43</th>\n",
              "                        <td id=\"T_3ffb2a5a_ec21_11ea_bd2a_0242ac1c0002row43_col0\" class=\"data row43 col0\" >Fix Imbalance Method</td>\n",
              "                        <td id=\"T_3ffb2a5a_ec21_11ea_bd2a_0242ac1c0002row43_col1\" class=\"data row43 col1\" >SMOTE</td>\n",
              "            </tr>\n",
              "    </tbody></table>"
            ],
            "text/plain": [
              "<pandas.io.formats.style.Styler at 0x7f2178e4d7f0>"
            ]
          },
          "metadata": {
            "tags": []
          }
        }
      ]
    },
    {
      "cell_type": "code",
      "metadata": {
        "id": "GSsaaBdFzrd8",
        "colab_type": "code",
        "colab": {
          "base_uri": "https://localhost:8080/",
          "height": 355,
          "referenced_widgets": [
            "e76a3d78edde4d289250fa9f8cf20df0",
            "628188e4509f497a9ca479572c8e8450",
            "f59b6f867fe740a094f705be36b75a33"
          ]
        },
        "outputId": "d02efafa-8828-47c6-8a2a-7fd519fe0048"
      },
      "source": [
        "best_model = compare_models()\n"
      ],
      "execution_count": 10,
      "outputs": [
        {
          "output_type": "display_data",
          "data": {
            "text/html": [
              "<style  type=\"text/css\" >\n",
              "    #T_cfc518a2_ec22_11ea_bd2a_0242ac1c0002 th {\n",
              "          text-align: left;\n",
              "    }    #T_cfc518a2_ec22_11ea_bd2a_0242ac1c0002row0_col0 {\n",
              "            text-align:  left;\n",
              "        }    #T_cfc518a2_ec22_11ea_bd2a_0242ac1c0002row0_col1 {\n",
              "            background-color:  yellow;\n",
              "            text-align:  left;\n",
              "        }    #T_cfc518a2_ec22_11ea_bd2a_0242ac1c0002row0_col2 {\n",
              "            : ;\n",
              "            text-align:  left;\n",
              "        }    #T_cfc518a2_ec22_11ea_bd2a_0242ac1c0002row0_col3 {\n",
              "            : ;\n",
              "            text-align:  left;\n",
              "        }    #T_cfc518a2_ec22_11ea_bd2a_0242ac1c0002row0_col4 {\n",
              "            background-color:  yellow;\n",
              "            text-align:  left;\n",
              "        }    #T_cfc518a2_ec22_11ea_bd2a_0242ac1c0002row0_col5 {\n",
              "            : ;\n",
              "            text-align:  left;\n",
              "        }    #T_cfc518a2_ec22_11ea_bd2a_0242ac1c0002row0_col6 {\n",
              "            background-color:  yellow;\n",
              "            text-align:  left;\n",
              "        }    #T_cfc518a2_ec22_11ea_bd2a_0242ac1c0002row0_col7 {\n",
              "            : ;\n",
              "            text-align:  left;\n",
              "        }    #T_cfc518a2_ec22_11ea_bd2a_0242ac1c0002row0_col8 {\n",
              "            background-color:  lightgrey;\n",
              "            text-align:  left;\n",
              "        }    #T_cfc518a2_ec22_11ea_bd2a_0242ac1c0002row1_col0 {\n",
              "            text-align:  left;\n",
              "        }    #T_cfc518a2_ec22_11ea_bd2a_0242ac1c0002row1_col1 {\n",
              "            : ;\n",
              "            text-align:  left;\n",
              "        }    #T_cfc518a2_ec22_11ea_bd2a_0242ac1c0002row1_col2 {\n",
              "            : ;\n",
              "            text-align:  left;\n",
              "        }    #T_cfc518a2_ec22_11ea_bd2a_0242ac1c0002row1_col3 {\n",
              "            : ;\n",
              "            text-align:  left;\n",
              "        }    #T_cfc518a2_ec22_11ea_bd2a_0242ac1c0002row1_col4 {\n",
              "            : ;\n",
              "            text-align:  left;\n",
              "        }    #T_cfc518a2_ec22_11ea_bd2a_0242ac1c0002row1_col5 {\n",
              "            : ;\n",
              "            text-align:  left;\n",
              "        }    #T_cfc518a2_ec22_11ea_bd2a_0242ac1c0002row1_col6 {\n",
              "            : ;\n",
              "            text-align:  left;\n",
              "        }    #T_cfc518a2_ec22_11ea_bd2a_0242ac1c0002row1_col7 {\n",
              "            : ;\n",
              "            text-align:  left;\n",
              "        }    #T_cfc518a2_ec22_11ea_bd2a_0242ac1c0002row1_col8 {\n",
              "            background-color:  lightgrey;\n",
              "            text-align:  left;\n",
              "        }    #T_cfc518a2_ec22_11ea_bd2a_0242ac1c0002row2_col0 {\n",
              "            text-align:  left;\n",
              "        }    #T_cfc518a2_ec22_11ea_bd2a_0242ac1c0002row2_col1 {\n",
              "            : ;\n",
              "            text-align:  left;\n",
              "        }    #T_cfc518a2_ec22_11ea_bd2a_0242ac1c0002row2_col2 {\n",
              "            : ;\n",
              "            text-align:  left;\n",
              "        }    #T_cfc518a2_ec22_11ea_bd2a_0242ac1c0002row2_col3 {\n",
              "            : ;\n",
              "            text-align:  left;\n",
              "        }    #T_cfc518a2_ec22_11ea_bd2a_0242ac1c0002row2_col4 {\n",
              "            : ;\n",
              "            text-align:  left;\n",
              "        }    #T_cfc518a2_ec22_11ea_bd2a_0242ac1c0002row2_col5 {\n",
              "            : ;\n",
              "            text-align:  left;\n",
              "        }    #T_cfc518a2_ec22_11ea_bd2a_0242ac1c0002row2_col6 {\n",
              "            : ;\n",
              "            text-align:  left;\n",
              "        }    #T_cfc518a2_ec22_11ea_bd2a_0242ac1c0002row2_col7 {\n",
              "            : ;\n",
              "            text-align:  left;\n",
              "        }    #T_cfc518a2_ec22_11ea_bd2a_0242ac1c0002row2_col8 {\n",
              "            background-color:  lightgrey;\n",
              "            text-align:  left;\n",
              "        }    #T_cfc518a2_ec22_11ea_bd2a_0242ac1c0002row3_col0 {\n",
              "            text-align:  left;\n",
              "        }    #T_cfc518a2_ec22_11ea_bd2a_0242ac1c0002row3_col1 {\n",
              "            : ;\n",
              "            text-align:  left;\n",
              "        }    #T_cfc518a2_ec22_11ea_bd2a_0242ac1c0002row3_col2 {\n",
              "            background-color:  yellow;\n",
              "            text-align:  left;\n",
              "        }    #T_cfc518a2_ec22_11ea_bd2a_0242ac1c0002row3_col3 {\n",
              "            : ;\n",
              "            text-align:  left;\n",
              "        }    #T_cfc518a2_ec22_11ea_bd2a_0242ac1c0002row3_col4 {\n",
              "            : ;\n",
              "            text-align:  left;\n",
              "        }    #T_cfc518a2_ec22_11ea_bd2a_0242ac1c0002row3_col5 {\n",
              "            background-color:  yellow;\n",
              "            text-align:  left;\n",
              "        }    #T_cfc518a2_ec22_11ea_bd2a_0242ac1c0002row3_col6 {\n",
              "            : ;\n",
              "            text-align:  left;\n",
              "        }    #T_cfc518a2_ec22_11ea_bd2a_0242ac1c0002row3_col7 {\n",
              "            background-color:  yellow;\n",
              "            text-align:  left;\n",
              "        }    #T_cfc518a2_ec22_11ea_bd2a_0242ac1c0002row3_col8 {\n",
              "            background-color:  lightgrey;\n",
              "            text-align:  left;\n",
              "        }    #T_cfc518a2_ec22_11ea_bd2a_0242ac1c0002row4_col0 {\n",
              "            text-align:  left;\n",
              "        }    #T_cfc518a2_ec22_11ea_bd2a_0242ac1c0002row4_col1 {\n",
              "            : ;\n",
              "            text-align:  left;\n",
              "        }    #T_cfc518a2_ec22_11ea_bd2a_0242ac1c0002row4_col2 {\n",
              "            background-color:  yellow;\n",
              "            text-align:  left;\n",
              "        }    #T_cfc518a2_ec22_11ea_bd2a_0242ac1c0002row4_col3 {\n",
              "            : ;\n",
              "            text-align:  left;\n",
              "        }    #T_cfc518a2_ec22_11ea_bd2a_0242ac1c0002row4_col4 {\n",
              "            : ;\n",
              "            text-align:  left;\n",
              "        }    #T_cfc518a2_ec22_11ea_bd2a_0242ac1c0002row4_col5 {\n",
              "            : ;\n",
              "            text-align:  left;\n",
              "        }    #T_cfc518a2_ec22_11ea_bd2a_0242ac1c0002row4_col6 {\n",
              "            : ;\n",
              "            text-align:  left;\n",
              "        }    #T_cfc518a2_ec22_11ea_bd2a_0242ac1c0002row4_col7 {\n",
              "            : ;\n",
              "            text-align:  left;\n",
              "        }    #T_cfc518a2_ec22_11ea_bd2a_0242ac1c0002row4_col8 {\n",
              "            background-color:  lightgrey;\n",
              "            text-align:  left;\n",
              "        }    #T_cfc518a2_ec22_11ea_bd2a_0242ac1c0002row5_col0 {\n",
              "            text-align:  left;\n",
              "        }    #T_cfc518a2_ec22_11ea_bd2a_0242ac1c0002row5_col1 {\n",
              "            : ;\n",
              "            text-align:  left;\n",
              "        }    #T_cfc518a2_ec22_11ea_bd2a_0242ac1c0002row5_col2 {\n",
              "            : ;\n",
              "            text-align:  left;\n",
              "        }    #T_cfc518a2_ec22_11ea_bd2a_0242ac1c0002row5_col3 {\n",
              "            : ;\n",
              "            text-align:  left;\n",
              "        }    #T_cfc518a2_ec22_11ea_bd2a_0242ac1c0002row5_col4 {\n",
              "            : ;\n",
              "            text-align:  left;\n",
              "        }    #T_cfc518a2_ec22_11ea_bd2a_0242ac1c0002row5_col5 {\n",
              "            : ;\n",
              "            text-align:  left;\n",
              "        }    #T_cfc518a2_ec22_11ea_bd2a_0242ac1c0002row5_col6 {\n",
              "            : ;\n",
              "            text-align:  left;\n",
              "        }    #T_cfc518a2_ec22_11ea_bd2a_0242ac1c0002row5_col7 {\n",
              "            : ;\n",
              "            text-align:  left;\n",
              "        }    #T_cfc518a2_ec22_11ea_bd2a_0242ac1c0002row5_col8 {\n",
              "            background-color:  lightgrey;\n",
              "            text-align:  left;\n",
              "        }    #T_cfc518a2_ec22_11ea_bd2a_0242ac1c0002row6_col0 {\n",
              "            text-align:  left;\n",
              "        }    #T_cfc518a2_ec22_11ea_bd2a_0242ac1c0002row6_col1 {\n",
              "            : ;\n",
              "            text-align:  left;\n",
              "        }    #T_cfc518a2_ec22_11ea_bd2a_0242ac1c0002row6_col2 {\n",
              "            : ;\n",
              "            text-align:  left;\n",
              "        }    #T_cfc518a2_ec22_11ea_bd2a_0242ac1c0002row6_col3 {\n",
              "            : ;\n",
              "            text-align:  left;\n",
              "        }    #T_cfc518a2_ec22_11ea_bd2a_0242ac1c0002row6_col4 {\n",
              "            : ;\n",
              "            text-align:  left;\n",
              "        }    #T_cfc518a2_ec22_11ea_bd2a_0242ac1c0002row6_col5 {\n",
              "            : ;\n",
              "            text-align:  left;\n",
              "        }    #T_cfc518a2_ec22_11ea_bd2a_0242ac1c0002row6_col6 {\n",
              "            : ;\n",
              "            text-align:  left;\n",
              "        }    #T_cfc518a2_ec22_11ea_bd2a_0242ac1c0002row6_col7 {\n",
              "            : ;\n",
              "            text-align:  left;\n",
              "        }    #T_cfc518a2_ec22_11ea_bd2a_0242ac1c0002row6_col8 {\n",
              "            background-color:  lightgrey;\n",
              "            text-align:  left;\n",
              "        }    #T_cfc518a2_ec22_11ea_bd2a_0242ac1c0002row7_col0 {\n",
              "            text-align:  left;\n",
              "        }    #T_cfc518a2_ec22_11ea_bd2a_0242ac1c0002row7_col1 {\n",
              "            : ;\n",
              "            text-align:  left;\n",
              "        }    #T_cfc518a2_ec22_11ea_bd2a_0242ac1c0002row7_col2 {\n",
              "            : ;\n",
              "            text-align:  left;\n",
              "        }    #T_cfc518a2_ec22_11ea_bd2a_0242ac1c0002row7_col3 {\n",
              "            : ;\n",
              "            text-align:  left;\n",
              "        }    #T_cfc518a2_ec22_11ea_bd2a_0242ac1c0002row7_col4 {\n",
              "            : ;\n",
              "            text-align:  left;\n",
              "        }    #T_cfc518a2_ec22_11ea_bd2a_0242ac1c0002row7_col5 {\n",
              "            : ;\n",
              "            text-align:  left;\n",
              "        }    #T_cfc518a2_ec22_11ea_bd2a_0242ac1c0002row7_col6 {\n",
              "            : ;\n",
              "            text-align:  left;\n",
              "        }    #T_cfc518a2_ec22_11ea_bd2a_0242ac1c0002row7_col7 {\n",
              "            : ;\n",
              "            text-align:  left;\n",
              "        }    #T_cfc518a2_ec22_11ea_bd2a_0242ac1c0002row7_col8 {\n",
              "            background-color:  lightgrey;\n",
              "            text-align:  left;\n",
              "        }    #T_cfc518a2_ec22_11ea_bd2a_0242ac1c0002row8_col0 {\n",
              "            text-align:  left;\n",
              "        }    #T_cfc518a2_ec22_11ea_bd2a_0242ac1c0002row8_col1 {\n",
              "            : ;\n",
              "            text-align:  left;\n",
              "        }    #T_cfc518a2_ec22_11ea_bd2a_0242ac1c0002row8_col2 {\n",
              "            : ;\n",
              "            text-align:  left;\n",
              "        }    #T_cfc518a2_ec22_11ea_bd2a_0242ac1c0002row8_col3 {\n",
              "            : ;\n",
              "            text-align:  left;\n",
              "        }    #T_cfc518a2_ec22_11ea_bd2a_0242ac1c0002row8_col4 {\n",
              "            : ;\n",
              "            text-align:  left;\n",
              "        }    #T_cfc518a2_ec22_11ea_bd2a_0242ac1c0002row8_col5 {\n",
              "            : ;\n",
              "            text-align:  left;\n",
              "        }    #T_cfc518a2_ec22_11ea_bd2a_0242ac1c0002row8_col6 {\n",
              "            : ;\n",
              "            text-align:  left;\n",
              "        }    #T_cfc518a2_ec22_11ea_bd2a_0242ac1c0002row8_col7 {\n",
              "            : ;\n",
              "            text-align:  left;\n",
              "        }    #T_cfc518a2_ec22_11ea_bd2a_0242ac1c0002row8_col8 {\n",
              "            background-color:  lightgrey;\n",
              "            text-align:  left;\n",
              "        }    #T_cfc518a2_ec22_11ea_bd2a_0242ac1c0002row9_col0 {\n",
              "            text-align:  left;\n",
              "        }    #T_cfc518a2_ec22_11ea_bd2a_0242ac1c0002row9_col1 {\n",
              "            : ;\n",
              "            text-align:  left;\n",
              "        }    #T_cfc518a2_ec22_11ea_bd2a_0242ac1c0002row9_col2 {\n",
              "            : ;\n",
              "            text-align:  left;\n",
              "        }    #T_cfc518a2_ec22_11ea_bd2a_0242ac1c0002row9_col3 {\n",
              "            : ;\n",
              "            text-align:  left;\n",
              "        }    #T_cfc518a2_ec22_11ea_bd2a_0242ac1c0002row9_col4 {\n",
              "            : ;\n",
              "            text-align:  left;\n",
              "        }    #T_cfc518a2_ec22_11ea_bd2a_0242ac1c0002row9_col5 {\n",
              "            : ;\n",
              "            text-align:  left;\n",
              "        }    #T_cfc518a2_ec22_11ea_bd2a_0242ac1c0002row9_col6 {\n",
              "            : ;\n",
              "            text-align:  left;\n",
              "        }    #T_cfc518a2_ec22_11ea_bd2a_0242ac1c0002row9_col7 {\n",
              "            : ;\n",
              "            text-align:  left;\n",
              "        }    #T_cfc518a2_ec22_11ea_bd2a_0242ac1c0002row9_col8 {\n",
              "            background-color:  lightgrey;\n",
              "            text-align:  left;\n",
              "        }    #T_cfc518a2_ec22_11ea_bd2a_0242ac1c0002row10_col0 {\n",
              "            text-align:  left;\n",
              "        }    #T_cfc518a2_ec22_11ea_bd2a_0242ac1c0002row10_col1 {\n",
              "            : ;\n",
              "            text-align:  left;\n",
              "        }    #T_cfc518a2_ec22_11ea_bd2a_0242ac1c0002row10_col2 {\n",
              "            : ;\n",
              "            text-align:  left;\n",
              "        }    #T_cfc518a2_ec22_11ea_bd2a_0242ac1c0002row10_col3 {\n",
              "            : ;\n",
              "            text-align:  left;\n",
              "        }    #T_cfc518a2_ec22_11ea_bd2a_0242ac1c0002row10_col4 {\n",
              "            : ;\n",
              "            text-align:  left;\n",
              "        }    #T_cfc518a2_ec22_11ea_bd2a_0242ac1c0002row10_col5 {\n",
              "            : ;\n",
              "            text-align:  left;\n",
              "        }    #T_cfc518a2_ec22_11ea_bd2a_0242ac1c0002row10_col6 {\n",
              "            : ;\n",
              "            text-align:  left;\n",
              "        }    #T_cfc518a2_ec22_11ea_bd2a_0242ac1c0002row10_col7 {\n",
              "            : ;\n",
              "            text-align:  left;\n",
              "        }    #T_cfc518a2_ec22_11ea_bd2a_0242ac1c0002row10_col8 {\n",
              "            background-color:  lightgrey;\n",
              "            text-align:  left;\n",
              "        }    #T_cfc518a2_ec22_11ea_bd2a_0242ac1c0002row11_col0 {\n",
              "            text-align:  left;\n",
              "        }    #T_cfc518a2_ec22_11ea_bd2a_0242ac1c0002row11_col1 {\n",
              "            : ;\n",
              "            text-align:  left;\n",
              "        }    #T_cfc518a2_ec22_11ea_bd2a_0242ac1c0002row11_col2 {\n",
              "            : ;\n",
              "            text-align:  left;\n",
              "        }    #T_cfc518a2_ec22_11ea_bd2a_0242ac1c0002row11_col3 {\n",
              "            : ;\n",
              "            text-align:  left;\n",
              "        }    #T_cfc518a2_ec22_11ea_bd2a_0242ac1c0002row11_col4 {\n",
              "            : ;\n",
              "            text-align:  left;\n",
              "        }    #T_cfc518a2_ec22_11ea_bd2a_0242ac1c0002row11_col5 {\n",
              "            : ;\n",
              "            text-align:  left;\n",
              "        }    #T_cfc518a2_ec22_11ea_bd2a_0242ac1c0002row11_col6 {\n",
              "            : ;\n",
              "            text-align:  left;\n",
              "        }    #T_cfc518a2_ec22_11ea_bd2a_0242ac1c0002row11_col7 {\n",
              "            : ;\n",
              "            text-align:  left;\n",
              "        }    #T_cfc518a2_ec22_11ea_bd2a_0242ac1c0002row11_col8 {\n",
              "            background-color:  lightgrey;\n",
              "            text-align:  left;\n",
              "        }    #T_cfc518a2_ec22_11ea_bd2a_0242ac1c0002row12_col0 {\n",
              "            text-align:  left;\n",
              "        }    #T_cfc518a2_ec22_11ea_bd2a_0242ac1c0002row12_col1 {\n",
              "            : ;\n",
              "            text-align:  left;\n",
              "        }    #T_cfc518a2_ec22_11ea_bd2a_0242ac1c0002row12_col2 {\n",
              "            : ;\n",
              "            text-align:  left;\n",
              "        }    #T_cfc518a2_ec22_11ea_bd2a_0242ac1c0002row12_col3 {\n",
              "            : ;\n",
              "            text-align:  left;\n",
              "        }    #T_cfc518a2_ec22_11ea_bd2a_0242ac1c0002row12_col4 {\n",
              "            : ;\n",
              "            text-align:  left;\n",
              "        }    #T_cfc518a2_ec22_11ea_bd2a_0242ac1c0002row12_col5 {\n",
              "            : ;\n",
              "            text-align:  left;\n",
              "        }    #T_cfc518a2_ec22_11ea_bd2a_0242ac1c0002row12_col6 {\n",
              "            : ;\n",
              "            text-align:  left;\n",
              "        }    #T_cfc518a2_ec22_11ea_bd2a_0242ac1c0002row12_col7 {\n",
              "            : ;\n",
              "            text-align:  left;\n",
              "        }    #T_cfc518a2_ec22_11ea_bd2a_0242ac1c0002row12_col8 {\n",
              "            background-color:  lightgrey;\n",
              "            text-align:  left;\n",
              "        }    #T_cfc518a2_ec22_11ea_bd2a_0242ac1c0002row13_col0 {\n",
              "            text-align:  left;\n",
              "        }    #T_cfc518a2_ec22_11ea_bd2a_0242ac1c0002row13_col1 {\n",
              "            : ;\n",
              "            text-align:  left;\n",
              "        }    #T_cfc518a2_ec22_11ea_bd2a_0242ac1c0002row13_col2 {\n",
              "            : ;\n",
              "            text-align:  left;\n",
              "        }    #T_cfc518a2_ec22_11ea_bd2a_0242ac1c0002row13_col3 {\n",
              "            : ;\n",
              "            text-align:  left;\n",
              "        }    #T_cfc518a2_ec22_11ea_bd2a_0242ac1c0002row13_col4 {\n",
              "            : ;\n",
              "            text-align:  left;\n",
              "        }    #T_cfc518a2_ec22_11ea_bd2a_0242ac1c0002row13_col5 {\n",
              "            : ;\n",
              "            text-align:  left;\n",
              "        }    #T_cfc518a2_ec22_11ea_bd2a_0242ac1c0002row13_col6 {\n",
              "            : ;\n",
              "            text-align:  left;\n",
              "        }    #T_cfc518a2_ec22_11ea_bd2a_0242ac1c0002row13_col7 {\n",
              "            : ;\n",
              "            text-align:  left;\n",
              "        }    #T_cfc518a2_ec22_11ea_bd2a_0242ac1c0002row13_col8 {\n",
              "            background-color:  lightgrey;\n",
              "            text-align:  left;\n",
              "        }    #T_cfc518a2_ec22_11ea_bd2a_0242ac1c0002row14_col0 {\n",
              "            text-align:  left;\n",
              "        }    #T_cfc518a2_ec22_11ea_bd2a_0242ac1c0002row14_col1 {\n",
              "            : ;\n",
              "            text-align:  left;\n",
              "        }    #T_cfc518a2_ec22_11ea_bd2a_0242ac1c0002row14_col2 {\n",
              "            : ;\n",
              "            text-align:  left;\n",
              "        }    #T_cfc518a2_ec22_11ea_bd2a_0242ac1c0002row14_col3 {\n",
              "            background-color:  yellow;\n",
              "            text-align:  left;\n",
              "        }    #T_cfc518a2_ec22_11ea_bd2a_0242ac1c0002row14_col4 {\n",
              "            : ;\n",
              "            text-align:  left;\n",
              "        }    #T_cfc518a2_ec22_11ea_bd2a_0242ac1c0002row14_col5 {\n",
              "            : ;\n",
              "            text-align:  left;\n",
              "        }    #T_cfc518a2_ec22_11ea_bd2a_0242ac1c0002row14_col6 {\n",
              "            : ;\n",
              "            text-align:  left;\n",
              "        }    #T_cfc518a2_ec22_11ea_bd2a_0242ac1c0002row14_col7 {\n",
              "            : ;\n",
              "            text-align:  left;\n",
              "        }    #T_cfc518a2_ec22_11ea_bd2a_0242ac1c0002row14_col8 {\n",
              "            background-color:  lightgrey;\n",
              "            text-align:  left;\n",
              "        }</style><table id=\"T_cfc518a2_ec22_11ea_bd2a_0242ac1c0002\" ><thead>    <tr>        <th class=\"blank level0\" ></th>        <th class=\"col_heading level0 col0\" >Model</th>        <th class=\"col_heading level0 col1\" >Accuracy</th>        <th class=\"col_heading level0 col2\" >AUC</th>        <th class=\"col_heading level0 col3\" >Recall</th>        <th class=\"col_heading level0 col4\" >Prec.</th>        <th class=\"col_heading level0 col5\" >F1</th>        <th class=\"col_heading level0 col6\" >Kappa</th>        <th class=\"col_heading level0 col7\" >MCC</th>        <th class=\"col_heading level0 col8\" >TT (Sec)</th>    </tr></thead><tbody>\n",
              "                <tr>\n",
              "                        <th id=\"T_cfc518a2_ec22_11ea_bd2a_0242ac1c0002level0_row0\" class=\"row_heading level0 row0\" >0</th>\n",
              "                        <td id=\"T_cfc518a2_ec22_11ea_bd2a_0242ac1c0002row0_col0\" class=\"data row0 col0\" >CatBoost Classifier</td>\n",
              "                        <td id=\"T_cfc518a2_ec22_11ea_bd2a_0242ac1c0002row0_col1\" class=\"data row0 col1\" >0.7861</td>\n",
              "                        <td id=\"T_cfc518a2_ec22_11ea_bd2a_0242ac1c0002row0_col2\" class=\"data row0 col2\" >0.8606</td>\n",
              "                        <td id=\"T_cfc518a2_ec22_11ea_bd2a_0242ac1c0002row0_col3\" class=\"data row0 col3\" >0.7571</td>\n",
              "                        <td id=\"T_cfc518a2_ec22_11ea_bd2a_0242ac1c0002row0_col4\" class=\"data row0 col4\" >0.5358</td>\n",
              "                        <td id=\"T_cfc518a2_ec22_11ea_bd2a_0242ac1c0002row0_col5\" class=\"data row0 col5\" >0.6273</td>\n",
              "                        <td id=\"T_cfc518a2_ec22_11ea_bd2a_0242ac1c0002row0_col6\" class=\"data row0 col6\" >0.4834</td>\n",
              "                        <td id=\"T_cfc518a2_ec22_11ea_bd2a_0242ac1c0002row0_col7\" class=\"data row0 col7\" >0.4979</td>\n",
              "                        <td id=\"T_cfc518a2_ec22_11ea_bd2a_0242ac1c0002row0_col8\" class=\"data row0 col8\" >16.6490</td>\n",
              "            </tr>\n",
              "            <tr>\n",
              "                        <th id=\"T_cfc518a2_ec22_11ea_bd2a_0242ac1c0002level0_row1\" class=\"row_heading level0 row1\" >1</th>\n",
              "                        <td id=\"T_cfc518a2_ec22_11ea_bd2a_0242ac1c0002row1_col0\" class=\"data row1 col0\" >Light Gradient Boosting Machine</td>\n",
              "                        <td id=\"T_cfc518a2_ec22_11ea_bd2a_0242ac1c0002row1_col1\" class=\"data row1 col1\" >0.7825</td>\n",
              "                        <td id=\"T_cfc518a2_ec22_11ea_bd2a_0242ac1c0002row1_col2\" class=\"data row1 col2\" >0.8606</td>\n",
              "                        <td id=\"T_cfc518a2_ec22_11ea_bd2a_0242ac1c0002row1_col3\" class=\"data row1 col3\" >0.7605</td>\n",
              "                        <td id=\"T_cfc518a2_ec22_11ea_bd2a_0242ac1c0002row1_col4\" class=\"data row1 col4\" >0.5299</td>\n",
              "                        <td id=\"T_cfc518a2_ec22_11ea_bd2a_0242ac1c0002row1_col5\" class=\"data row1 col5\" >0.6244</td>\n",
              "                        <td id=\"T_cfc518a2_ec22_11ea_bd2a_0242ac1c0002row1_col6\" class=\"data row1 col6\" >0.4782</td>\n",
              "                        <td id=\"T_cfc518a2_ec22_11ea_bd2a_0242ac1c0002row1_col7\" class=\"data row1 col7\" >0.4938</td>\n",
              "                        <td id=\"T_cfc518a2_ec22_11ea_bd2a_0242ac1c0002row1_col8\" class=\"data row1 col8\" >0.4213</td>\n",
              "            </tr>\n",
              "            <tr>\n",
              "                        <th id=\"T_cfc518a2_ec22_11ea_bd2a_0242ac1c0002level0_row2\" class=\"row_heading level0 row2\" >2</th>\n",
              "                        <td id=\"T_cfc518a2_ec22_11ea_bd2a_0242ac1c0002row2_col0\" class=\"data row2 col0\" >Random Forest Classifier</td>\n",
              "                        <td id=\"T_cfc518a2_ec22_11ea_bd2a_0242ac1c0002row2_col1\" class=\"data row2 col1\" >0.7765</td>\n",
              "                        <td id=\"T_cfc518a2_ec22_11ea_bd2a_0242ac1c0002row2_col2\" class=\"data row2 col2\" >0.7905</td>\n",
              "                        <td id=\"T_cfc518a2_ec22_11ea_bd2a_0242ac1c0002row2_col3\" class=\"data row2 col3\" >0.5604</td>\n",
              "                        <td id=\"T_cfc518a2_ec22_11ea_bd2a_0242ac1c0002row2_col4\" class=\"data row2 col4\" >0.5287</td>\n",
              "                        <td id=\"T_cfc518a2_ec22_11ea_bd2a_0242ac1c0002row2_col5\" class=\"data row2 col5\" >0.5437</td>\n",
              "                        <td id=\"T_cfc518a2_ec22_11ea_bd2a_0242ac1c0002row2_col6\" class=\"data row2 col6\" >0.3960</td>\n",
              "                        <td id=\"T_cfc518a2_ec22_11ea_bd2a_0242ac1c0002row2_col7\" class=\"data row2 col7\" >0.3965</td>\n",
              "                        <td id=\"T_cfc518a2_ec22_11ea_bd2a_0242ac1c0002row2_col8\" class=\"data row2 col8\" >0.3141</td>\n",
              "            </tr>\n",
              "            <tr>\n",
              "                        <th id=\"T_cfc518a2_ec22_11ea_bd2a_0242ac1c0002level0_row3\" class=\"row_heading level0 row3\" >3</th>\n",
              "                        <td id=\"T_cfc518a2_ec22_11ea_bd2a_0242ac1c0002row3_col0\" class=\"data row3 col0\" >Gradient Boosting Classifier</td>\n",
              "                        <td id=\"T_cfc518a2_ec22_11ea_bd2a_0242ac1c0002row3_col1\" class=\"data row3 col1\" >0.7714</td>\n",
              "                        <td id=\"T_cfc518a2_ec22_11ea_bd2a_0242ac1c0002row3_col2\" class=\"data row3 col2\" >0.8636</td>\n",
              "                        <td id=\"T_cfc518a2_ec22_11ea_bd2a_0242ac1c0002row3_col3\" class=\"data row3 col3\" >0.8156</td>\n",
              "                        <td id=\"T_cfc518a2_ec22_11ea_bd2a_0242ac1c0002row3_col4\" class=\"data row3 col4\" >0.5126</td>\n",
              "                        <td id=\"T_cfc518a2_ec22_11ea_bd2a_0242ac1c0002row3_col5\" class=\"data row3 col5\" >0.6292</td>\n",
              "                        <td id=\"T_cfc518a2_ec22_11ea_bd2a_0242ac1c0002row3_col6\" class=\"data row3 col6\" >0.4764</td>\n",
              "                        <td id=\"T_cfc518a2_ec22_11ea_bd2a_0242ac1c0002row3_col7\" class=\"data row3 col7\" >0.5035</td>\n",
              "                        <td id=\"T_cfc518a2_ec22_11ea_bd2a_0242ac1c0002row3_col8\" class=\"data row3 col8\" >4.0702</td>\n",
              "            </tr>\n",
              "            <tr>\n",
              "                        <th id=\"T_cfc518a2_ec22_11ea_bd2a_0242ac1c0002level0_row4\" class=\"row_heading level0 row4\" >4</th>\n",
              "                        <td id=\"T_cfc518a2_ec22_11ea_bd2a_0242ac1c0002row4_col0\" class=\"data row4 col0\" >Extreme Gradient Boosting</td>\n",
              "                        <td id=\"T_cfc518a2_ec22_11ea_bd2a_0242ac1c0002row4_col1\" class=\"data row4 col1\" >0.7690</td>\n",
              "                        <td id=\"T_cfc518a2_ec22_11ea_bd2a_0242ac1c0002row4_col2\" class=\"data row4 col2\" >0.8636</td>\n",
              "                        <td id=\"T_cfc518a2_ec22_11ea_bd2a_0242ac1c0002row4_col3\" class=\"data row4 col3\" >0.8212</td>\n",
              "                        <td id=\"T_cfc518a2_ec22_11ea_bd2a_0242ac1c0002row4_col4\" class=\"data row4 col4\" >0.5092</td>\n",
              "                        <td id=\"T_cfc518a2_ec22_11ea_bd2a_0242ac1c0002row4_col5\" class=\"data row4 col5\" >0.6284</td>\n",
              "                        <td id=\"T_cfc518a2_ec22_11ea_bd2a_0242ac1c0002row4_col6\" class=\"data row4 col6\" >0.4740</td>\n",
              "                        <td id=\"T_cfc518a2_ec22_11ea_bd2a_0242ac1c0002row4_col7\" class=\"data row4 col7\" >0.5027</td>\n",
              "                        <td id=\"T_cfc518a2_ec22_11ea_bd2a_0242ac1c0002row4_col8\" class=\"data row4 col8\" >2.8644</td>\n",
              "            </tr>\n",
              "            <tr>\n",
              "                        <th id=\"T_cfc518a2_ec22_11ea_bd2a_0242ac1c0002level0_row5\" class=\"row_heading level0 row5\" >5</th>\n",
              "                        <td id=\"T_cfc518a2_ec22_11ea_bd2a_0242ac1c0002row5_col0\" class=\"data row5 col0\" >Ada Boost Classifier</td>\n",
              "                        <td id=\"T_cfc518a2_ec22_11ea_bd2a_0242ac1c0002row5_col1\" class=\"data row5 col1\" >0.7680</td>\n",
              "                        <td id=\"T_cfc518a2_ec22_11ea_bd2a_0242ac1c0002row5_col2\" class=\"data row5 col2\" >0.8618</td>\n",
              "                        <td id=\"T_cfc518a2_ec22_11ea_bd2a_0242ac1c0002row5_col3\" class=\"data row5 col3\" >0.8166</td>\n",
              "                        <td id=\"T_cfc518a2_ec22_11ea_bd2a_0242ac1c0002row5_col4\" class=\"data row5 col4\" >0.5082</td>\n",
              "                        <td id=\"T_cfc518a2_ec22_11ea_bd2a_0242ac1c0002row5_col5\" class=\"data row5 col5\" >0.6261</td>\n",
              "                        <td id=\"T_cfc518a2_ec22_11ea_bd2a_0242ac1c0002row5_col6\" class=\"data row5 col6\" >0.4711</td>\n",
              "                        <td id=\"T_cfc518a2_ec22_11ea_bd2a_0242ac1c0002row5_col7\" class=\"data row5 col7\" >0.4993</td>\n",
              "                        <td id=\"T_cfc518a2_ec22_11ea_bd2a_0242ac1c0002row5_col8\" class=\"data row5 col8\" >1.2626</td>\n",
              "            </tr>\n",
              "            <tr>\n",
              "                        <th id=\"T_cfc518a2_ec22_11ea_bd2a_0242ac1c0002level0_row6\" class=\"row_heading level0 row6\" >6</th>\n",
              "                        <td id=\"T_cfc518a2_ec22_11ea_bd2a_0242ac1c0002row6_col0\" class=\"data row6 col0\" >Extra Trees Classifier</td>\n",
              "                        <td id=\"T_cfc518a2_ec22_11ea_bd2a_0242ac1c0002row6_col1\" class=\"data row6 col1\" >0.7676</td>\n",
              "                        <td id=\"T_cfc518a2_ec22_11ea_bd2a_0242ac1c0002row6_col2\" class=\"data row6 col2\" >0.7839</td>\n",
              "                        <td id=\"T_cfc518a2_ec22_11ea_bd2a_0242ac1c0002row6_col3\" class=\"data row6 col3\" >0.5630</td>\n",
              "                        <td id=\"T_cfc518a2_ec22_11ea_bd2a_0242ac1c0002row6_col4\" class=\"data row6 col4\" >0.5104</td>\n",
              "                        <td id=\"T_cfc518a2_ec22_11ea_bd2a_0242ac1c0002row6_col5\" class=\"data row6 col5\" >0.5350</td>\n",
              "                        <td id=\"T_cfc518a2_ec22_11ea_bd2a_0242ac1c0002row6_col6\" class=\"data row6 col6\" >0.3808</td>\n",
              "                        <td id=\"T_cfc518a2_ec22_11ea_bd2a_0242ac1c0002row6_col7\" class=\"data row6 col7\" >0.3818</td>\n",
              "                        <td id=\"T_cfc518a2_ec22_11ea_bd2a_0242ac1c0002row6_col8\" class=\"data row6 col8\" >2.7780</td>\n",
              "            </tr>\n",
              "            <tr>\n",
              "                        <th id=\"T_cfc518a2_ec22_11ea_bd2a_0242ac1c0002level0_row7\" class=\"row_heading level0 row7\" >7</th>\n",
              "                        <td id=\"T_cfc518a2_ec22_11ea_bd2a_0242ac1c0002row7_col0\" class=\"data row7 col0\" >Decision Tree Classifier</td>\n",
              "                        <td id=\"T_cfc518a2_ec22_11ea_bd2a_0242ac1c0002row7_col1\" class=\"data row7 col1\" >0.7547</td>\n",
              "                        <td id=\"T_cfc518a2_ec22_11ea_bd2a_0242ac1c0002row7_col2\" class=\"data row7 col2\" >0.7020</td>\n",
              "                        <td id=\"T_cfc518a2_ec22_11ea_bd2a_0242ac1c0002row7_col3\" class=\"data row7 col3\" >0.6016</td>\n",
              "                        <td id=\"T_cfc518a2_ec22_11ea_bd2a_0242ac1c0002row7_col4\" class=\"data row7 col4\" >0.4873</td>\n",
              "                        <td id=\"T_cfc518a2_ec22_11ea_bd2a_0242ac1c0002row7_col5\" class=\"data row7 col5\" >0.5381</td>\n",
              "                        <td id=\"T_cfc518a2_ec22_11ea_bd2a_0242ac1c0002row7_col6\" class=\"data row7 col6\" >0.3737</td>\n",
              "                        <td id=\"T_cfc518a2_ec22_11ea_bd2a_0242ac1c0002row7_col7\" class=\"data row7 col7\" >0.3778</td>\n",
              "                        <td id=\"T_cfc518a2_ec22_11ea_bd2a_0242ac1c0002row7_col8\" class=\"data row7 col8\" >0.1828</td>\n",
              "            </tr>\n",
              "            <tr>\n",
              "                        <th id=\"T_cfc518a2_ec22_11ea_bd2a_0242ac1c0002level0_row8\" class=\"row_heading level0 row8\" >8</th>\n",
              "                        <td id=\"T_cfc518a2_ec22_11ea_bd2a_0242ac1c0002row8_col0\" class=\"data row8 col0\" >Logistic Regression</td>\n",
              "                        <td id=\"T_cfc518a2_ec22_11ea_bd2a_0242ac1c0002row8_col1\" class=\"data row8 col1\" >0.7495</td>\n",
              "                        <td id=\"T_cfc518a2_ec22_11ea_bd2a_0242ac1c0002row8_col2\" class=\"data row8 col2\" >0.8384</td>\n",
              "                        <td id=\"T_cfc518a2_ec22_11ea_bd2a_0242ac1c0002row8_col3\" class=\"data row8 col3\" >0.8217</td>\n",
              "                        <td id=\"T_cfc518a2_ec22_11ea_bd2a_0242ac1c0002row8_col4\" class=\"data row8 col4\" >0.4844</td>\n",
              "                        <td id=\"T_cfc518a2_ec22_11ea_bd2a_0242ac1c0002row8_col5\" class=\"data row8 col5\" >0.6094</td>\n",
              "                        <td id=\"T_cfc518a2_ec22_11ea_bd2a_0242ac1c0002row8_col6\" class=\"data row8 col6\" >0.4426</td>\n",
              "                        <td id=\"T_cfc518a2_ec22_11ea_bd2a_0242ac1c0002row8_col7\" class=\"data row8 col7\" >0.4762</td>\n",
              "                        <td id=\"T_cfc518a2_ec22_11ea_bd2a_0242ac1c0002row8_col8\" class=\"data row8 col8\" >0.4962</td>\n",
              "            </tr>\n",
              "            <tr>\n",
              "                        <th id=\"T_cfc518a2_ec22_11ea_bd2a_0242ac1c0002level0_row9\" class=\"row_heading level0 row9\" >9</th>\n",
              "                        <td id=\"T_cfc518a2_ec22_11ea_bd2a_0242ac1c0002row9_col0\" class=\"data row9 col0\" >K Neighbors Classifier</td>\n",
              "                        <td id=\"T_cfc518a2_ec22_11ea_bd2a_0242ac1c0002row9_col1\" class=\"data row9 col1\" >0.7387</td>\n",
              "                        <td id=\"T_cfc518a2_ec22_11ea_bd2a_0242ac1c0002row9_col2\" class=\"data row9 col2\" >0.7978</td>\n",
              "                        <td id=\"T_cfc518a2_ec22_11ea_bd2a_0242ac1c0002row9_col3\" class=\"data row9 col3\" >0.7253</td>\n",
              "                        <td id=\"T_cfc518a2_ec22_11ea_bd2a_0242ac1c0002row9_col4\" class=\"data row9 col4\" >0.4679</td>\n",
              "                        <td id=\"T_cfc518a2_ec22_11ea_bd2a_0242ac1c0002row9_col5\" class=\"data row9 col5\" >0.5687</td>\n",
              "                        <td id=\"T_cfc518a2_ec22_11ea_bd2a_0242ac1c0002row9_col6\" class=\"data row9 col6\" >0.3935</td>\n",
              "                        <td id=\"T_cfc518a2_ec22_11ea_bd2a_0242ac1c0002row9_col7\" class=\"data row9 col7\" >0.4131</td>\n",
              "                        <td id=\"T_cfc518a2_ec22_11ea_bd2a_0242ac1c0002row9_col8\" class=\"data row9 col8\" >0.7074</td>\n",
              "            </tr>\n",
              "            <tr>\n",
              "                        <th id=\"T_cfc518a2_ec22_11ea_bd2a_0242ac1c0002level0_row10\" class=\"row_heading level0 row10\" >10</th>\n",
              "                        <td id=\"T_cfc518a2_ec22_11ea_bd2a_0242ac1c0002row10_col0\" class=\"data row10 col0\" >Ridge Classifier</td>\n",
              "                        <td id=\"T_cfc518a2_ec22_11ea_bd2a_0242ac1c0002row10_col1\" class=\"data row10 col1\" >0.7352</td>\n",
              "                        <td id=\"T_cfc518a2_ec22_11ea_bd2a_0242ac1c0002row10_col2\" class=\"data row10 col2\" >0.0000</td>\n",
              "                        <td id=\"T_cfc518a2_ec22_11ea_bd2a_0242ac1c0002row10_col3\" class=\"data row10 col3\" >0.8324</td>\n",
              "                        <td id=\"T_cfc518a2_ec22_11ea_bd2a_0242ac1c0002row10_col4\" class=\"data row10 col4\" >0.4682</td>\n",
              "                        <td id=\"T_cfc518a2_ec22_11ea_bd2a_0242ac1c0002row10_col5\" class=\"data row10 col5\" >0.5992</td>\n",
              "                        <td id=\"T_cfc518a2_ec22_11ea_bd2a_0242ac1c0002row10_col6\" class=\"data row10 col6\" >0.4239</td>\n",
              "                        <td id=\"T_cfc518a2_ec22_11ea_bd2a_0242ac1c0002row10_col7\" class=\"data row10 col7\" >0.4631</td>\n",
              "                        <td id=\"T_cfc518a2_ec22_11ea_bd2a_0242ac1c0002row10_col8\" class=\"data row10 col8\" >0.0443</td>\n",
              "            </tr>\n",
              "            <tr>\n",
              "                        <th id=\"T_cfc518a2_ec22_11ea_bd2a_0242ac1c0002level0_row11\" class=\"row_heading level0 row11\" >11</th>\n",
              "                        <td id=\"T_cfc518a2_ec22_11ea_bd2a_0242ac1c0002row11_col0\" class=\"data row11 col0\" >Linear Discriminant Analysis</td>\n",
              "                        <td id=\"T_cfc518a2_ec22_11ea_bd2a_0242ac1c0002row11_col1\" class=\"data row11 col1\" >0.7351</td>\n",
              "                        <td id=\"T_cfc518a2_ec22_11ea_bd2a_0242ac1c0002row11_col2\" class=\"data row11 col2\" >0.8374</td>\n",
              "                        <td id=\"T_cfc518a2_ec22_11ea_bd2a_0242ac1c0002row11_col3\" class=\"data row11 col3\" >0.8322</td>\n",
              "                        <td id=\"T_cfc518a2_ec22_11ea_bd2a_0242ac1c0002row11_col4\" class=\"data row11 col4\" >0.4681</td>\n",
              "                        <td id=\"T_cfc518a2_ec22_11ea_bd2a_0242ac1c0002row11_col5\" class=\"data row11 col5\" >0.5990</td>\n",
              "                        <td id=\"T_cfc518a2_ec22_11ea_bd2a_0242ac1c0002row11_col6\" class=\"data row11 col6\" >0.4236</td>\n",
              "                        <td id=\"T_cfc518a2_ec22_11ea_bd2a_0242ac1c0002row11_col7\" class=\"data row11 col7\" >0.4628</td>\n",
              "                        <td id=\"T_cfc518a2_ec22_11ea_bd2a_0242ac1c0002row11_col8\" class=\"data row11 col8\" >0.2894</td>\n",
              "            </tr>\n",
              "            <tr>\n",
              "                        <th id=\"T_cfc518a2_ec22_11ea_bd2a_0242ac1c0002level0_row12\" class=\"row_heading level0 row12\" >12</th>\n",
              "                        <td id=\"T_cfc518a2_ec22_11ea_bd2a_0242ac1c0002row12_col0\" class=\"data row12 col0\" >SVM - Linear Kernel</td>\n",
              "                        <td id=\"T_cfc518a2_ec22_11ea_bd2a_0242ac1c0002row12_col1\" class=\"data row12 col1\" >0.7225</td>\n",
              "                        <td id=\"T_cfc518a2_ec22_11ea_bd2a_0242ac1c0002row12_col2\" class=\"data row12 col2\" >0.0000</td>\n",
              "                        <td id=\"T_cfc518a2_ec22_11ea_bd2a_0242ac1c0002row12_col3\" class=\"data row12 col3\" >0.8334</td>\n",
              "                        <td id=\"T_cfc518a2_ec22_11ea_bd2a_0242ac1c0002row12_col4\" class=\"data row12 col4\" >0.4546</td>\n",
              "                        <td id=\"T_cfc518a2_ec22_11ea_bd2a_0242ac1c0002row12_col5\" class=\"data row12 col5\" >0.5882</td>\n",
              "                        <td id=\"T_cfc518a2_ec22_11ea_bd2a_0242ac1c0002row12_col6\" class=\"data row12 col6\" >0.4053</td>\n",
              "                        <td id=\"T_cfc518a2_ec22_11ea_bd2a_0242ac1c0002row12_col7\" class=\"data row12 col7\" >0.4477</td>\n",
              "                        <td id=\"T_cfc518a2_ec22_11ea_bd2a_0242ac1c0002row12_col8\" class=\"data row12 col8\" >0.2584</td>\n",
              "            </tr>\n",
              "            <tr>\n",
              "                        <th id=\"T_cfc518a2_ec22_11ea_bd2a_0242ac1c0002level0_row13\" class=\"row_heading level0 row13\" >13</th>\n",
              "                        <td id=\"T_cfc518a2_ec22_11ea_bd2a_0242ac1c0002row13_col0\" class=\"data row13 col0\" >Naive Bayes</td>\n",
              "                        <td id=\"T_cfc518a2_ec22_11ea_bd2a_0242ac1c0002row13_col1\" class=\"data row13 col1\" >0.4932</td>\n",
              "                        <td id=\"T_cfc518a2_ec22_11ea_bd2a_0242ac1c0002row13_col2\" class=\"data row13 col2\" >0.6742</td>\n",
              "                        <td id=\"T_cfc518a2_ec22_11ea_bd2a_0242ac1c0002row13_col3\" class=\"data row13 col3\" >0.9196</td>\n",
              "                        <td id=\"T_cfc518a2_ec22_11ea_bd2a_0242ac1c0002row13_col4\" class=\"data row13 col4\" >0.3096</td>\n",
              "                        <td id=\"T_cfc518a2_ec22_11ea_bd2a_0242ac1c0002row13_col5\" class=\"data row13 col5\" >0.4632</td>\n",
              "                        <td id=\"T_cfc518a2_ec22_11ea_bd2a_0242ac1c0002row13_col6\" class=\"data row13 col6\" >0.1669</td>\n",
              "                        <td id=\"T_cfc518a2_ec22_11ea_bd2a_0242ac1c0002row13_col7\" class=\"data row13 col7\" >0.2616</td>\n",
              "                        <td id=\"T_cfc518a2_ec22_11ea_bd2a_0242ac1c0002row13_col8\" class=\"data row13 col8\" >0.0218</td>\n",
              "            </tr>\n",
              "            <tr>\n",
              "                        <th id=\"T_cfc518a2_ec22_11ea_bd2a_0242ac1c0002level0_row14\" class=\"row_heading level0 row14\" >14</th>\n",
              "                        <td id=\"T_cfc518a2_ec22_11ea_bd2a_0242ac1c0002row14_col0\" class=\"data row14 col0\" >Quadratic Discriminant Analysis</td>\n",
              "                        <td id=\"T_cfc518a2_ec22_11ea_bd2a_0242ac1c0002row14_col1\" class=\"data row14 col1\" >0.2774</td>\n",
              "                        <td id=\"T_cfc518a2_ec22_11ea_bd2a_0242ac1c0002row14_col2\" class=\"data row14 col2\" >0.5209</td>\n",
              "                        <td id=\"T_cfc518a2_ec22_11ea_bd2a_0242ac1c0002row14_col3\" class=\"data row14 col3\" >0.9711</td>\n",
              "                        <td id=\"T_cfc518a2_ec22_11ea_bd2a_0242ac1c0002row14_col4\" class=\"data row14 col4\" >0.2439</td>\n",
              "                        <td id=\"T_cfc518a2_ec22_11ea_bd2a_0242ac1c0002row14_col5\" class=\"data row14 col5\" >0.3898</td>\n",
              "                        <td id=\"T_cfc518a2_ec22_11ea_bd2a_0242ac1c0002row14_col6\" class=\"data row14 col6\" >0.0160</td>\n",
              "                        <td id=\"T_cfc518a2_ec22_11ea_bd2a_0242ac1c0002row14_col7\" class=\"data row14 col7\" >0.0594</td>\n",
              "                        <td id=\"T_cfc518a2_ec22_11ea_bd2a_0242ac1c0002row14_col8\" class=\"data row14 col8\" >0.1465</td>\n",
              "            </tr>\n",
              "    </tbody></table>"
            ],
            "text/plain": [
              "<pandas.io.formats.style.Styler at 0x7f2178834a20>"
            ]
          },
          "metadata": {
            "tags": []
          }
        }
      ]
    },
    {
      "cell_type": "code",
      "metadata": {
        "id": "pRJRaQzYz8nu",
        "colab_type": "code",
        "colab": {
          "base_uri": "https://localhost:8080/",
          "height": 164
        },
        "outputId": "752bba5c-ec2e-4bc5-a448-ec035b1cd796"
      },
      "source": [
        "print(best_model)\n"
      ],
      "execution_count": 1,
      "outputs": [
        {
          "output_type": "error",
          "ename": "NameError",
          "evalue": "ignored",
          "traceback": [
            "\u001b[0;31m---------------------------------------------------------------------------\u001b[0m",
            "\u001b[0;31mNameError\u001b[0m                                 Traceback (most recent call last)",
            "\u001b[0;32m<ipython-input-1-31f1db9b5f44>\u001b[0m in \u001b[0;36m<module>\u001b[0;34m()\u001b[0m\n\u001b[0;32m----> 1\u001b[0;31m \u001b[0mprint\u001b[0m\u001b[0;34m(\u001b[0m\u001b[0mbest_model\u001b[0m\u001b[0;34m)\u001b[0m\u001b[0;34m\u001b[0m\u001b[0;34m\u001b[0m\u001b[0m\n\u001b[0m",
            "\u001b[0;31mNameError\u001b[0m: name 'best_model' is not defined"
          ]
        }
      ]
    },
    {
      "cell_type": "code",
      "metadata": {
        "id": "ZFuzvgFL3N54",
        "colab_type": "code",
        "colab": {
          "base_uri": "https://localhost:8080/",
          "height": 292,
          "referenced_widgets": [
            "4f45171227ce4bb099fb56eb4f5db2f3",
            "af5f094269fc4270a4612725673f8414",
            "d87b937c7bec4618adee2d9b4721cf6b"
          ]
        },
        "outputId": "d526d6fd-f8c7-439b-f81b-5ad6b400198a"
      },
      "source": [
        "gbc = create_model('gbc')\n"
      ],
      "execution_count": 12,
      "outputs": [
        {
          "output_type": "display_data",
          "data": {
            "text/html": [
              "<style  type=\"text/css\" >\n",
              "    #T_0376fdc8_ebbf_11ea_a4f2_0242ac1c0002row10_col0 {\n",
              "            background:  yellow;\n",
              "        }    #T_0376fdc8_ebbf_11ea_a4f2_0242ac1c0002row10_col1 {\n",
              "            background:  yellow;\n",
              "        }    #T_0376fdc8_ebbf_11ea_a4f2_0242ac1c0002row10_col2 {\n",
              "            background:  yellow;\n",
              "        }    #T_0376fdc8_ebbf_11ea_a4f2_0242ac1c0002row10_col3 {\n",
              "            background:  yellow;\n",
              "        }    #T_0376fdc8_ebbf_11ea_a4f2_0242ac1c0002row10_col4 {\n",
              "            background:  yellow;\n",
              "        }    #T_0376fdc8_ebbf_11ea_a4f2_0242ac1c0002row10_col5 {\n",
              "            background:  yellow;\n",
              "        }    #T_0376fdc8_ebbf_11ea_a4f2_0242ac1c0002row10_col6 {\n",
              "            background:  yellow;\n",
              "        }</style><table id=\"T_0376fdc8_ebbf_11ea_a4f2_0242ac1c0002\" ><thead>    <tr>        <th class=\"blank level0\" ></th>        <th class=\"col_heading level0 col0\" >Accuracy</th>        <th class=\"col_heading level0 col1\" >AUC</th>        <th class=\"col_heading level0 col2\" >Recall</th>        <th class=\"col_heading level0 col3\" >Prec.</th>        <th class=\"col_heading level0 col4\" >F1</th>        <th class=\"col_heading level0 col5\" >Kappa</th>        <th class=\"col_heading level0 col6\" >MCC</th>    </tr></thead><tbody>\n",
              "                <tr>\n",
              "                        <th id=\"T_0376fdc8_ebbf_11ea_a4f2_0242ac1c0002level0_row0\" class=\"row_heading level0 row0\" >0</th>\n",
              "                        <td id=\"T_0376fdc8_ebbf_11ea_a4f2_0242ac1c0002row0_col0\" class=\"data row0 col0\" >0.8211</td>\n",
              "                        <td id=\"T_0376fdc8_ebbf_11ea_a4f2_0242ac1c0002row0_col1\" class=\"data row0 col1\" >0.8699</td>\n",
              "                        <td id=\"T_0376fdc8_ebbf_11ea_a4f2_0242ac1c0002row0_col2\" class=\"data row0 col2\" >0.4927</td>\n",
              "                        <td id=\"T_0376fdc8_ebbf_11ea_a4f2_0242ac1c0002row0_col3\" class=\"data row0 col3\" >0.6678</td>\n",
              "                        <td id=\"T_0376fdc8_ebbf_11ea_a4f2_0242ac1c0002row0_col4\" class=\"data row0 col4\" >0.5670</td>\n",
              "                        <td id=\"T_0376fdc8_ebbf_11ea_a4f2_0242ac1c0002row0_col5\" class=\"data row0 col5\" >0.4575</td>\n",
              "                        <td id=\"T_0376fdc8_ebbf_11ea_a4f2_0242ac1c0002row0_col6\" class=\"data row0 col6\" >0.4659</td>\n",
              "            </tr>\n",
              "            <tr>\n",
              "                        <th id=\"T_0376fdc8_ebbf_11ea_a4f2_0242ac1c0002level0_row1\" class=\"row_heading level0 row1\" >1</th>\n",
              "                        <td id=\"T_0376fdc8_ebbf_11ea_a4f2_0242ac1c0002row1_col0\" class=\"data row1 col0\" >0.8223</td>\n",
              "                        <td id=\"T_0376fdc8_ebbf_11ea_a4f2_0242ac1c0002row1_col1\" class=\"data row1 col1\" >0.8728</td>\n",
              "                        <td id=\"T_0376fdc8_ebbf_11ea_a4f2_0242ac1c0002row1_col2\" class=\"data row1 col2\" >0.4320</td>\n",
              "                        <td id=\"T_0376fdc8_ebbf_11ea_a4f2_0242ac1c0002row1_col3\" class=\"data row1 col3\" >0.7063</td>\n",
              "                        <td id=\"T_0376fdc8_ebbf_11ea_a4f2_0242ac1c0002row1_col4\" class=\"data row1 col4\" >0.5361</td>\n",
              "                        <td id=\"T_0376fdc8_ebbf_11ea_a4f2_0242ac1c0002row1_col5\" class=\"data row1 col5\" >0.4340</td>\n",
              "                        <td id=\"T_0376fdc8_ebbf_11ea_a4f2_0242ac1c0002row1_col6\" class=\"data row1 col6\" >0.4541</td>\n",
              "            </tr>\n",
              "            <tr>\n",
              "                        <th id=\"T_0376fdc8_ebbf_11ea_a4f2_0242ac1c0002level0_row2\" class=\"row_heading level0 row2\" >2</th>\n",
              "                        <td id=\"T_0376fdc8_ebbf_11ea_a4f2_0242ac1c0002row2_col0\" class=\"data row2 col0\" >0.8176</td>\n",
              "                        <td id=\"T_0376fdc8_ebbf_11ea_a4f2_0242ac1c0002row2_col1\" class=\"data row2 col1\" >0.8688</td>\n",
              "                        <td id=\"T_0376fdc8_ebbf_11ea_a4f2_0242ac1c0002row2_col2\" class=\"data row2 col2\" >0.4526</td>\n",
              "                        <td id=\"T_0376fdc8_ebbf_11ea_a4f2_0242ac1c0002row2_col3\" class=\"data row2 col3\" >0.6715</td>\n",
              "                        <td id=\"T_0376fdc8_ebbf_11ea_a4f2_0242ac1c0002row2_col4\" class=\"data row2 col4\" >0.5407</td>\n",
              "                        <td id=\"T_0376fdc8_ebbf_11ea_a4f2_0242ac1c0002row2_col5\" class=\"data row2 col5\" >0.4322</td>\n",
              "                        <td id=\"T_0376fdc8_ebbf_11ea_a4f2_0242ac1c0002row2_col6\" class=\"data row2 col6\" >0.4453</td>\n",
              "            </tr>\n",
              "            <tr>\n",
              "                        <th id=\"T_0376fdc8_ebbf_11ea_a4f2_0242ac1c0002level0_row3\" class=\"row_heading level0 row3\" >3</th>\n",
              "                        <td id=\"T_0376fdc8_ebbf_11ea_a4f2_0242ac1c0002row3_col0\" class=\"data row3 col0\" >0.8112</td>\n",
              "                        <td id=\"T_0376fdc8_ebbf_11ea_a4f2_0242ac1c0002row3_col1\" class=\"data row3 col1\" >0.8560</td>\n",
              "                        <td id=\"T_0376fdc8_ebbf_11ea_a4f2_0242ac1c0002row3_col2\" class=\"data row3 col2\" >0.4209</td>\n",
              "                        <td id=\"T_0376fdc8_ebbf_11ea_a4f2_0242ac1c0002row3_col3\" class=\"data row3 col3\" >0.6603</td>\n",
              "                        <td id=\"T_0376fdc8_ebbf_11ea_a4f2_0242ac1c0002row3_col4\" class=\"data row3 col4\" >0.5141</td>\n",
              "                        <td id=\"T_0376fdc8_ebbf_11ea_a4f2_0242ac1c0002row3_col5\" class=\"data row3 col5\" >0.4040</td>\n",
              "                        <td id=\"T_0376fdc8_ebbf_11ea_a4f2_0242ac1c0002row3_col6\" class=\"data row3 col6\" >0.4198</td>\n",
              "            </tr>\n",
              "            <tr>\n",
              "                        <th id=\"T_0376fdc8_ebbf_11ea_a4f2_0242ac1c0002level0_row4\" class=\"row_heading level0 row4\" >4</th>\n",
              "                        <td id=\"T_0376fdc8_ebbf_11ea_a4f2_0242ac1c0002row4_col0\" class=\"data row4 col0\" >0.8141</td>\n",
              "                        <td id=\"T_0376fdc8_ebbf_11ea_a4f2_0242ac1c0002row4_col1\" class=\"data row4 col1\" >0.8626</td>\n",
              "                        <td id=\"T_0376fdc8_ebbf_11ea_a4f2_0242ac1c0002row4_col2\" class=\"data row4 col2\" >0.4380</td>\n",
              "                        <td id=\"T_0376fdc8_ebbf_11ea_a4f2_0242ac1c0002row4_col3\" class=\"data row4 col3\" >0.6642</td>\n",
              "                        <td id=\"T_0376fdc8_ebbf_11ea_a4f2_0242ac1c0002row4_col4\" class=\"data row4 col4\" >0.5279</td>\n",
              "                        <td id=\"T_0376fdc8_ebbf_11ea_a4f2_0242ac1c0002row4_col5\" class=\"data row4 col5\" >0.4181</td>\n",
              "                        <td id=\"T_0376fdc8_ebbf_11ea_a4f2_0242ac1c0002row4_col6\" class=\"data row4 col6\" >0.4322</td>\n",
              "            </tr>\n",
              "            <tr>\n",
              "                        <th id=\"T_0376fdc8_ebbf_11ea_a4f2_0242ac1c0002level0_row5\" class=\"row_heading level0 row5\" >5</th>\n",
              "                        <td id=\"T_0376fdc8_ebbf_11ea_a4f2_0242ac1c0002row5_col0\" class=\"data row5 col0\" >0.8262</td>\n",
              "                        <td id=\"T_0376fdc8_ebbf_11ea_a4f2_0242ac1c0002row5_col1\" class=\"data row5 col1\" >0.8658</td>\n",
              "                        <td id=\"T_0376fdc8_ebbf_11ea_a4f2_0242ac1c0002row5_col2\" class=\"data row5 col2\" >0.4563</td>\n",
              "                        <td id=\"T_0376fdc8_ebbf_11ea_a4f2_0242ac1c0002row5_col3\" class=\"data row5 col3\" >0.7094</td>\n",
              "                        <td id=\"T_0376fdc8_ebbf_11ea_a4f2_0242ac1c0002row5_col4\" class=\"data row5 col4\" >0.5554</td>\n",
              "                        <td id=\"T_0376fdc8_ebbf_11ea_a4f2_0242ac1c0002row5_col5\" class=\"data row5 col5\" >0.4536</td>\n",
              "                        <td id=\"T_0376fdc8_ebbf_11ea_a4f2_0242ac1c0002row5_col6\" class=\"data row5 col6\" >0.4707</td>\n",
              "            </tr>\n",
              "            <tr>\n",
              "                        <th id=\"T_0376fdc8_ebbf_11ea_a4f2_0242ac1c0002level0_row6\" class=\"row_heading level0 row6\" >6</th>\n",
              "                        <td id=\"T_0376fdc8_ebbf_11ea_a4f2_0242ac1c0002row6_col0\" class=\"data row6 col0\" >0.8349</td>\n",
              "                        <td id=\"T_0376fdc8_ebbf_11ea_a4f2_0242ac1c0002row6_col1\" class=\"data row6 col1\" >0.8941</td>\n",
              "                        <td id=\"T_0376fdc8_ebbf_11ea_a4f2_0242ac1c0002row6_col2\" class=\"data row6 col2\" >0.4854</td>\n",
              "                        <td id=\"T_0376fdc8_ebbf_11ea_a4f2_0242ac1c0002row6_col3\" class=\"data row6 col3\" >0.7299</td>\n",
              "                        <td id=\"T_0376fdc8_ebbf_11ea_a4f2_0242ac1c0002row6_col4\" class=\"data row6 col4\" >0.5831</td>\n",
              "                        <td id=\"T_0376fdc8_ebbf_11ea_a4f2_0242ac1c0002row6_col5\" class=\"data row6 col5\" >0.4853</td>\n",
              "                        <td id=\"T_0376fdc8_ebbf_11ea_a4f2_0242ac1c0002row6_col6\" class=\"data row6 col6\" >0.5010</td>\n",
              "            </tr>\n",
              "            <tr>\n",
              "                        <th id=\"T_0376fdc8_ebbf_11ea_a4f2_0242ac1c0002level0_row7\" class=\"row_heading level0 row7\" >7</th>\n",
              "                        <td id=\"T_0376fdc8_ebbf_11ea_a4f2_0242ac1c0002row7_col0\" class=\"data row7 col0\" >0.8129</td>\n",
              "                        <td id=\"T_0376fdc8_ebbf_11ea_a4f2_0242ac1c0002row7_col1\" class=\"data row7 col1\" >0.8666</td>\n",
              "                        <td id=\"T_0376fdc8_ebbf_11ea_a4f2_0242ac1c0002row7_col2\" class=\"data row7 col2\" >0.4417</td>\n",
              "                        <td id=\"T_0376fdc8_ebbf_11ea_a4f2_0242ac1c0002row7_col3\" class=\"data row7 col3\" >0.6594</td>\n",
              "                        <td id=\"T_0376fdc8_ebbf_11ea_a4f2_0242ac1c0002row7_col4\" class=\"data row7 col4\" >0.5291</td>\n",
              "                        <td id=\"T_0376fdc8_ebbf_11ea_a4f2_0242ac1c0002row7_col5\" class=\"data row7 col5\" >0.4180</td>\n",
              "                        <td id=\"T_0376fdc8_ebbf_11ea_a4f2_0242ac1c0002row7_col6\" class=\"data row7 col6\" >0.4311</td>\n",
              "            </tr>\n",
              "            <tr>\n",
              "                        <th id=\"T_0376fdc8_ebbf_11ea_a4f2_0242ac1c0002level0_row8\" class=\"row_heading level0 row8\" >8</th>\n",
              "                        <td id=\"T_0376fdc8_ebbf_11ea_a4f2_0242ac1c0002row8_col0\" class=\"data row8 col0\" >0.8118</td>\n",
              "                        <td id=\"T_0376fdc8_ebbf_11ea_a4f2_0242ac1c0002row8_col1\" class=\"data row8 col1\" >0.8531</td>\n",
              "                        <td id=\"T_0376fdc8_ebbf_11ea_a4f2_0242ac1c0002row8_col2\" class=\"data row8 col2\" >0.4903</td>\n",
              "                        <td id=\"T_0376fdc8_ebbf_11ea_a4f2_0242ac1c0002row8_col3\" class=\"data row8 col3\" >0.6352</td>\n",
              "                        <td id=\"T_0376fdc8_ebbf_11ea_a4f2_0242ac1c0002row8_col4\" class=\"data row8 col4\" >0.5534</td>\n",
              "                        <td id=\"T_0376fdc8_ebbf_11ea_a4f2_0242ac1c0002row8_col5\" class=\"data row8 col5\" >0.4367</td>\n",
              "                        <td id=\"T_0376fdc8_ebbf_11ea_a4f2_0242ac1c0002row8_col6\" class=\"data row8 col6\" >0.4426</td>\n",
              "            </tr>\n",
              "            <tr>\n",
              "                        <th id=\"T_0376fdc8_ebbf_11ea_a4f2_0242ac1c0002level0_row9\" class=\"row_heading level0 row9\" >9</th>\n",
              "                        <td id=\"T_0376fdc8_ebbf_11ea_a4f2_0242ac1c0002row9_col0\" class=\"data row9 col0\" >0.8152</td>\n",
              "                        <td id=\"T_0376fdc8_ebbf_11ea_a4f2_0242ac1c0002row9_col1\" class=\"data row9 col1\" >0.8615</td>\n",
              "                        <td id=\"T_0376fdc8_ebbf_11ea_a4f2_0242ac1c0002row9_col2\" class=\"data row9 col2\" >0.4587</td>\n",
              "                        <td id=\"T_0376fdc8_ebbf_11ea_a4f2_0242ac1c0002row9_col3\" class=\"data row9 col3\" >0.6608</td>\n",
              "                        <td id=\"T_0376fdc8_ebbf_11ea_a4f2_0242ac1c0002row9_col4\" class=\"data row9 col4\" >0.5415</td>\n",
              "                        <td id=\"T_0376fdc8_ebbf_11ea_a4f2_0242ac1c0002row9_col5\" class=\"data row9 col5\" >0.4305</td>\n",
              "                        <td id=\"T_0376fdc8_ebbf_11ea_a4f2_0242ac1c0002row9_col6\" class=\"data row9 col6\" >0.4418</td>\n",
              "            </tr>\n",
              "            <tr>\n",
              "                        <th id=\"T_0376fdc8_ebbf_11ea_a4f2_0242ac1c0002level0_row10\" class=\"row_heading level0 row10\" >Mean</th>\n",
              "                        <td id=\"T_0376fdc8_ebbf_11ea_a4f2_0242ac1c0002row10_col0\" class=\"data row10 col0\" >0.8187</td>\n",
              "                        <td id=\"T_0376fdc8_ebbf_11ea_a4f2_0242ac1c0002row10_col1\" class=\"data row10 col1\" >0.8671</td>\n",
              "                        <td id=\"T_0376fdc8_ebbf_11ea_a4f2_0242ac1c0002row10_col2\" class=\"data row10 col2\" >0.4569</td>\n",
              "                        <td id=\"T_0376fdc8_ebbf_11ea_a4f2_0242ac1c0002row10_col3\" class=\"data row10 col3\" >0.6765</td>\n",
              "                        <td id=\"T_0376fdc8_ebbf_11ea_a4f2_0242ac1c0002row10_col4\" class=\"data row10 col4\" >0.5448</td>\n",
              "                        <td id=\"T_0376fdc8_ebbf_11ea_a4f2_0242ac1c0002row10_col5\" class=\"data row10 col5\" >0.4370</td>\n",
              "                        <td id=\"T_0376fdc8_ebbf_11ea_a4f2_0242ac1c0002row10_col6\" class=\"data row10 col6\" >0.4504</td>\n",
              "            </tr>\n",
              "            <tr>\n",
              "                        <th id=\"T_0376fdc8_ebbf_11ea_a4f2_0242ac1c0002level0_row11\" class=\"row_heading level0 row11\" >SD</th>\n",
              "                        <td id=\"T_0376fdc8_ebbf_11ea_a4f2_0242ac1c0002row11_col0\" class=\"data row11 col0\" >0.0071</td>\n",
              "                        <td id=\"T_0376fdc8_ebbf_11ea_a4f2_0242ac1c0002row11_col1\" class=\"data row11 col1\" >0.0107</td>\n",
              "                        <td id=\"T_0376fdc8_ebbf_11ea_a4f2_0242ac1c0002row11_col2\" class=\"data row11 col2\" >0.0239</td>\n",
              "                        <td id=\"T_0376fdc8_ebbf_11ea_a4f2_0242ac1c0002row11_col3\" class=\"data row11 col3\" >0.0275</td>\n",
              "                        <td id=\"T_0376fdc8_ebbf_11ea_a4f2_0242ac1c0002row11_col4\" class=\"data row11 col4\" >0.0193</td>\n",
              "                        <td id=\"T_0376fdc8_ebbf_11ea_a4f2_0242ac1c0002row11_col5\" class=\"data row11 col5\" >0.0222</td>\n",
              "                        <td id=\"T_0376fdc8_ebbf_11ea_a4f2_0242ac1c0002row11_col6\" class=\"data row11 col6\" >0.0224</td>\n",
              "            </tr>\n",
              "    </tbody></table>"
            ],
            "text/plain": [
              "<pandas.io.formats.style.Styler at 0x7f9f9c1c8ba8>"
            ]
          },
          "metadata": {
            "tags": []
          }
        }
      ]
    },
    {
      "cell_type": "code",
      "metadata": {
        "id": "I1QV0VVG-kHD",
        "colab_type": "code",
        "colab": {
          "base_uri": "https://localhost:8080/",
          "height": 187
        },
        "outputId": "f1e3bb44-1eaa-40d4-f8fd-fb7b0c042e4f"
      },
      "source": [
        "print(gbc)"
      ],
      "execution_count": 15,
      "outputs": [
        {
          "output_type": "stream",
          "text": [
            "GradientBoostingClassifier(ccp_alpha=0.0, criterion='friedman_mse', init=None,\n",
            "                           learning_rate=0.1, loss='deviance', max_depth=3,\n",
            "                           max_features=None, max_leaf_nodes=None,\n",
            "                           min_impurity_decrease=0.0, min_impurity_split=None,\n",
            "                           min_samples_leaf=1, min_samples_split=2,\n",
            "                           min_weight_fraction_leaf=0.0, n_estimators=100,\n",
            "                           n_iter_no_change=None, presort='deprecated',\n",
            "                           random_state=123, subsample=1.0, tol=0.0001,\n",
            "                           validation_fraction=0.1, verbose=0,\n",
            "                           warm_start=False)\n"
          ],
          "name": "stdout"
        }
      ]
    },
    {
      "cell_type": "code",
      "metadata": {
        "id": "RZHsRW8Q9irD",
        "colab_type": "code",
        "colab": {
          "base_uri": "https://localhost:8080/",
          "height": 292,
          "referenced_widgets": [
            "0c7e8d8477f2478a83f26ff31b544f82",
            "47ae67f0c10648a2b8fbf85c5f44c861",
            "84731c9e9b944f94a1612002bbc340b6"
          ]
        },
        "outputId": "3092546e-e797-48fc-afde-2ced3bb1af12"
      },
      "source": [
        "tuned_gbc = tune_model(gbc)\n"
      ],
      "execution_count": 13,
      "outputs": [
        {
          "output_type": "display_data",
          "data": {
            "text/html": [
              "<style  type=\"text/css\" >\n",
              "    #T_70f5a610_ebbf_11ea_a4f2_0242ac1c0002row10_col0 {\n",
              "            background:  yellow;\n",
              "        }    #T_70f5a610_ebbf_11ea_a4f2_0242ac1c0002row10_col1 {\n",
              "            background:  yellow;\n",
              "        }    #T_70f5a610_ebbf_11ea_a4f2_0242ac1c0002row10_col2 {\n",
              "            background:  yellow;\n",
              "        }    #T_70f5a610_ebbf_11ea_a4f2_0242ac1c0002row10_col3 {\n",
              "            background:  yellow;\n",
              "        }    #T_70f5a610_ebbf_11ea_a4f2_0242ac1c0002row10_col4 {\n",
              "            background:  yellow;\n",
              "        }    #T_70f5a610_ebbf_11ea_a4f2_0242ac1c0002row10_col5 {\n",
              "            background:  yellow;\n",
              "        }    #T_70f5a610_ebbf_11ea_a4f2_0242ac1c0002row10_col6 {\n",
              "            background:  yellow;\n",
              "        }</style><table id=\"T_70f5a610_ebbf_11ea_a4f2_0242ac1c0002\" ><thead>    <tr>        <th class=\"blank level0\" ></th>        <th class=\"col_heading level0 col0\" >Accuracy</th>        <th class=\"col_heading level0 col1\" >AUC</th>        <th class=\"col_heading level0 col2\" >Recall</th>        <th class=\"col_heading level0 col3\" >Prec.</th>        <th class=\"col_heading level0 col4\" >F1</th>        <th class=\"col_heading level0 col5\" >Kappa</th>        <th class=\"col_heading level0 col6\" >MCC</th>    </tr></thead><tbody>\n",
              "                <tr>\n",
              "                        <th id=\"T_70f5a610_ebbf_11ea_a4f2_0242ac1c0002level0_row0\" class=\"row_heading level0 row0\" >0</th>\n",
              "                        <td id=\"T_70f5a610_ebbf_11ea_a4f2_0242ac1c0002row0_col0\" class=\"data row0 col0\" >0.8240</td>\n",
              "                        <td id=\"T_70f5a610_ebbf_11ea_a4f2_0242ac1c0002row0_col1\" class=\"data row0 col1\" >0.8705</td>\n",
              "                        <td id=\"T_70f5a610_ebbf_11ea_a4f2_0242ac1c0002row0_col2\" class=\"data row0 col2\" >0.4102</td>\n",
              "                        <td id=\"T_70f5a610_ebbf_11ea_a4f2_0242ac1c0002row0_col3\" class=\"data row0 col3\" >0.7316</td>\n",
              "                        <td id=\"T_70f5a610_ebbf_11ea_a4f2_0242ac1c0002row0_col4\" class=\"data row0 col4\" >0.5257</td>\n",
              "                        <td id=\"T_70f5a610_ebbf_11ea_a4f2_0242ac1c0002row0_col5\" class=\"data row0 col5\" >0.4279</td>\n",
              "                        <td id=\"T_70f5a610_ebbf_11ea_a4f2_0242ac1c0002row0_col6\" class=\"data row0 col6\" >0.4550</td>\n",
              "            </tr>\n",
              "            <tr>\n",
              "                        <th id=\"T_70f5a610_ebbf_11ea_a4f2_0242ac1c0002level0_row1\" class=\"row_heading level0 row1\" >1</th>\n",
              "                        <td id=\"T_70f5a610_ebbf_11ea_a4f2_0242ac1c0002row1_col0\" class=\"data row1 col0\" >0.8223</td>\n",
              "                        <td id=\"T_70f5a610_ebbf_11ea_a4f2_0242ac1c0002row1_col1\" class=\"data row1 col1\" >0.8671</td>\n",
              "                        <td id=\"T_70f5a610_ebbf_11ea_a4f2_0242ac1c0002row1_col2\" class=\"data row1 col2\" >0.3714</td>\n",
              "                        <td id=\"T_70f5a610_ebbf_11ea_a4f2_0242ac1c0002row1_col3\" class=\"data row1 col3\" >0.7574</td>\n",
              "                        <td id=\"T_70f5a610_ebbf_11ea_a4f2_0242ac1c0002row1_col4\" class=\"data row1 col4\" >0.4984</td>\n",
              "                        <td id=\"T_70f5a610_ebbf_11ea_a4f2_0242ac1c0002row1_col5\" class=\"data row1 col5\" >0.4054</td>\n",
              "                        <td id=\"T_70f5a610_ebbf_11ea_a4f2_0242ac1c0002row1_col6\" class=\"data row1 col6\" >0.4434</td>\n",
              "            </tr>\n",
              "            <tr>\n",
              "                        <th id=\"T_70f5a610_ebbf_11ea_a4f2_0242ac1c0002level0_row2\" class=\"row_heading level0 row2\" >2</th>\n",
              "                        <td id=\"T_70f5a610_ebbf_11ea_a4f2_0242ac1c0002row2_col0\" class=\"data row2 col0\" >0.8164</td>\n",
              "                        <td id=\"T_70f5a610_ebbf_11ea_a4f2_0242ac1c0002row2_col1\" class=\"data row2 col1\" >0.8685</td>\n",
              "                        <td id=\"T_70f5a610_ebbf_11ea_a4f2_0242ac1c0002row2_col2\" class=\"data row2 col2\" >0.4039</td>\n",
              "                        <td id=\"T_70f5a610_ebbf_11ea_a4f2_0242ac1c0002row2_col3\" class=\"data row2 col3\" >0.6946</td>\n",
              "                        <td id=\"T_70f5a610_ebbf_11ea_a4f2_0242ac1c0002row2_col4\" class=\"data row2 col4\" >0.5108</td>\n",
              "                        <td id=\"T_70f5a610_ebbf_11ea_a4f2_0242ac1c0002row2_col5\" class=\"data row2 col5\" >0.4073</td>\n",
              "                        <td id=\"T_70f5a610_ebbf_11ea_a4f2_0242ac1c0002row2_col6\" class=\"data row2 col6\" >0.4300</td>\n",
              "            </tr>\n",
              "            <tr>\n",
              "                        <th id=\"T_70f5a610_ebbf_11ea_a4f2_0242ac1c0002level0_row3\" class=\"row_heading level0 row3\" >3</th>\n",
              "                        <td id=\"T_70f5a610_ebbf_11ea_a4f2_0242ac1c0002row3_col0\" class=\"data row3 col0\" >0.8129</td>\n",
              "                        <td id=\"T_70f5a610_ebbf_11ea_a4f2_0242ac1c0002row3_col1\" class=\"data row3 col1\" >0.8500</td>\n",
              "                        <td id=\"T_70f5a610_ebbf_11ea_a4f2_0242ac1c0002row3_col2\" class=\"data row3 col2\" >0.3577</td>\n",
              "                        <td id=\"T_70f5a610_ebbf_11ea_a4f2_0242ac1c0002row3_col3\" class=\"data row3 col3\" >0.7101</td>\n",
              "                        <td id=\"T_70f5a610_ebbf_11ea_a4f2_0242ac1c0002row3_col4\" class=\"data row3 col4\" >0.4757</td>\n",
              "                        <td id=\"T_70f5a610_ebbf_11ea_a4f2_0242ac1c0002row3_col5\" class=\"data row3 col5\" >0.3766</td>\n",
              "                        <td id=\"T_70f5a610_ebbf_11ea_a4f2_0242ac1c0002row3_col6\" class=\"data row3 col6\" >0.4095</td>\n",
              "            </tr>\n",
              "            <tr>\n",
              "                        <th id=\"T_70f5a610_ebbf_11ea_a4f2_0242ac1c0002level0_row4\" class=\"row_heading level0 row4\" >4</th>\n",
              "                        <td id=\"T_70f5a610_ebbf_11ea_a4f2_0242ac1c0002row4_col0\" class=\"data row4 col0\" >0.8147</td>\n",
              "                        <td id=\"T_70f5a610_ebbf_11ea_a4f2_0242ac1c0002row4_col1\" class=\"data row4 col1\" >0.8564</td>\n",
              "                        <td id=\"T_70f5a610_ebbf_11ea_a4f2_0242ac1c0002row4_col2\" class=\"data row4 col2\" >0.3869</td>\n",
              "                        <td id=\"T_70f5a610_ebbf_11ea_a4f2_0242ac1c0002row4_col3\" class=\"data row4 col3\" >0.6974</td>\n",
              "                        <td id=\"T_70f5a610_ebbf_11ea_a4f2_0242ac1c0002row4_col4\" class=\"data row4 col4\" >0.4977</td>\n",
              "                        <td id=\"T_70f5a610_ebbf_11ea_a4f2_0242ac1c0002row4_col5\" class=\"data row4 col5\" >0.3952</td>\n",
              "                        <td id=\"T_70f5a610_ebbf_11ea_a4f2_0242ac1c0002row4_col6\" class=\"data row4 col6\" >0.4211</td>\n",
              "            </tr>\n",
              "            <tr>\n",
              "                        <th id=\"T_70f5a610_ebbf_11ea_a4f2_0242ac1c0002level0_row5\" class=\"row_heading level0 row5\" >5</th>\n",
              "                        <td id=\"T_70f5a610_ebbf_11ea_a4f2_0242ac1c0002row5_col0\" class=\"data row5 col0\" >0.8164</td>\n",
              "                        <td id=\"T_70f5a610_ebbf_11ea_a4f2_0242ac1c0002row5_col1\" class=\"data row5 col1\" >0.8635</td>\n",
              "                        <td id=\"T_70f5a610_ebbf_11ea_a4f2_0242ac1c0002row5_col2\" class=\"data row5 col2\" >0.3762</td>\n",
              "                        <td id=\"T_70f5a610_ebbf_11ea_a4f2_0242ac1c0002row5_col3\" class=\"data row5 col3\" >0.7176</td>\n",
              "                        <td id=\"T_70f5a610_ebbf_11ea_a4f2_0242ac1c0002row5_col4\" class=\"data row5 col4\" >0.4936</td>\n",
              "                        <td id=\"T_70f5a610_ebbf_11ea_a4f2_0242ac1c0002row5_col5\" class=\"data row5 col5\" >0.3946</td>\n",
              "                        <td id=\"T_70f5a610_ebbf_11ea_a4f2_0242ac1c0002row5_col6\" class=\"data row5 col6\" >0.4253</td>\n",
              "            </tr>\n",
              "            <tr>\n",
              "                        <th id=\"T_70f5a610_ebbf_11ea_a4f2_0242ac1c0002level0_row6\" class=\"row_heading level0 row6\" >6</th>\n",
              "                        <td id=\"T_70f5a610_ebbf_11ea_a4f2_0242ac1c0002row6_col0\" class=\"data row6 col0\" >0.8297</td>\n",
              "                        <td id=\"T_70f5a610_ebbf_11ea_a4f2_0242ac1c0002row6_col1\" class=\"data row6 col1\" >0.8915</td>\n",
              "                        <td id=\"T_70f5a610_ebbf_11ea_a4f2_0242ac1c0002row6_col2\" class=\"data row6 col2\" >0.3811</td>\n",
              "                        <td id=\"T_70f5a610_ebbf_11ea_a4f2_0242ac1c0002row6_col3\" class=\"data row6 col3\" >0.7970</td>\n",
              "                        <td id=\"T_70f5a610_ebbf_11ea_a4f2_0242ac1c0002row6_col4\" class=\"data row6 col4\" >0.5156</td>\n",
              "                        <td id=\"T_70f5a610_ebbf_11ea_a4f2_0242ac1c0002row6_col5\" class=\"data row6 col5\" >0.4275</td>\n",
              "                        <td id=\"T_70f5a610_ebbf_11ea_a4f2_0242ac1c0002row6_col6\" class=\"data row6 col6\" >0.4704</td>\n",
              "            </tr>\n",
              "            <tr>\n",
              "                        <th id=\"T_70f5a610_ebbf_11ea_a4f2_0242ac1c0002level0_row7\" class=\"row_heading level0 row7\" >7</th>\n",
              "                        <td id=\"T_70f5a610_ebbf_11ea_a4f2_0242ac1c0002row7_col0\" class=\"data row7 col0\" >0.8072</td>\n",
              "                        <td id=\"T_70f5a610_ebbf_11ea_a4f2_0242ac1c0002row7_col1\" class=\"data row7 col1\" >0.8657</td>\n",
              "                        <td id=\"T_70f5a610_ebbf_11ea_a4f2_0242ac1c0002row7_col2\" class=\"data row7 col2\" >0.3762</td>\n",
              "                        <td id=\"T_70f5a610_ebbf_11ea_a4f2_0242ac1c0002row7_col3\" class=\"data row7 col3\" >0.6681</td>\n",
              "                        <td id=\"T_70f5a610_ebbf_11ea_a4f2_0242ac1c0002row7_col4\" class=\"data row7 col4\" >0.4814</td>\n",
              "                        <td id=\"T_70f5a610_ebbf_11ea_a4f2_0242ac1c0002row7_col5\" class=\"data row7 col5\" >0.3741</td>\n",
              "                        <td id=\"T_70f5a610_ebbf_11ea_a4f2_0242ac1c0002row7_col6\" class=\"data row7 col6\" >0.3974</td>\n",
              "            </tr>\n",
              "            <tr>\n",
              "                        <th id=\"T_70f5a610_ebbf_11ea_a4f2_0242ac1c0002level0_row8\" class=\"row_heading level0 row8\" >8</th>\n",
              "                        <td id=\"T_70f5a610_ebbf_11ea_a4f2_0242ac1c0002row8_col0\" class=\"data row8 col0\" >0.8025</td>\n",
              "                        <td id=\"T_70f5a610_ebbf_11ea_a4f2_0242ac1c0002row8_col1\" class=\"data row8 col1\" >0.8509</td>\n",
              "                        <td id=\"T_70f5a610_ebbf_11ea_a4f2_0242ac1c0002row8_col2\" class=\"data row8 col2\" >0.3762</td>\n",
              "                        <td id=\"T_70f5a610_ebbf_11ea_a4f2_0242ac1c0002row8_col3\" class=\"data row8 col3\" >0.6458</td>\n",
              "                        <td id=\"T_70f5a610_ebbf_11ea_a4f2_0242ac1c0002row8_col4\" class=\"data row8 col4\" >0.4755</td>\n",
              "                        <td id=\"T_70f5a610_ebbf_11ea_a4f2_0242ac1c0002row8_col5\" class=\"data row8 col5\" >0.3641</td>\n",
              "                        <td id=\"T_70f5a610_ebbf_11ea_a4f2_0242ac1c0002row8_col6\" class=\"data row8 col6\" >0.3843</td>\n",
              "            </tr>\n",
              "            <tr>\n",
              "                        <th id=\"T_70f5a610_ebbf_11ea_a4f2_0242ac1c0002level0_row9\" class=\"row_heading level0 row9\" >9</th>\n",
              "                        <td id=\"T_70f5a610_ebbf_11ea_a4f2_0242ac1c0002row9_col0\" class=\"data row9 col0\" >0.8089</td>\n",
              "                        <td id=\"T_70f5a610_ebbf_11ea_a4f2_0242ac1c0002row9_col1\" class=\"data row9 col1\" >0.8531</td>\n",
              "                        <td id=\"T_70f5a610_ebbf_11ea_a4f2_0242ac1c0002row9_col2\" class=\"data row9 col2\" >0.3689</td>\n",
              "                        <td id=\"T_70f5a610_ebbf_11ea_a4f2_0242ac1c0002row9_col3\" class=\"data row9 col3\" >0.6816</td>\n",
              "                        <td id=\"T_70f5a610_ebbf_11ea_a4f2_0242ac1c0002row9_col4\" class=\"data row9 col4\" >0.4787</td>\n",
              "                        <td id=\"T_70f5a610_ebbf_11ea_a4f2_0242ac1c0002row9_col5\" class=\"data row9 col5\" >0.3742</td>\n",
              "                        <td id=\"T_70f5a610_ebbf_11ea_a4f2_0242ac1c0002row9_col6\" class=\"data row9 col6\" >0.4006</td>\n",
              "            </tr>\n",
              "            <tr>\n",
              "                        <th id=\"T_70f5a610_ebbf_11ea_a4f2_0242ac1c0002level0_row10\" class=\"row_heading level0 row10\" >Mean</th>\n",
              "                        <td id=\"T_70f5a610_ebbf_11ea_a4f2_0242ac1c0002row10_col0\" class=\"data row10 col0\" >0.8155</td>\n",
              "                        <td id=\"T_70f5a610_ebbf_11ea_a4f2_0242ac1c0002row10_col1\" class=\"data row10 col1\" >0.8637</td>\n",
              "                        <td id=\"T_70f5a610_ebbf_11ea_a4f2_0242ac1c0002row10_col2\" class=\"data row10 col2\" >0.3809</td>\n",
              "                        <td id=\"T_70f5a610_ebbf_11ea_a4f2_0242ac1c0002row10_col3\" class=\"data row10 col3\" >0.7101</td>\n",
              "                        <td id=\"T_70f5a610_ebbf_11ea_a4f2_0242ac1c0002row10_col4\" class=\"data row10 col4\" >0.4953</td>\n",
              "                        <td id=\"T_70f5a610_ebbf_11ea_a4f2_0242ac1c0002row10_col5\" class=\"data row10 col5\" >0.3947</td>\n",
              "                        <td id=\"T_70f5a610_ebbf_11ea_a4f2_0242ac1c0002row10_col6\" class=\"data row10 col6\" >0.4237</td>\n",
              "            </tr>\n",
              "            <tr>\n",
              "                        <th id=\"T_70f5a610_ebbf_11ea_a4f2_0242ac1c0002level0_row11\" class=\"row_heading level0 row11\" >SD</th>\n",
              "                        <td id=\"T_70f5a610_ebbf_11ea_a4f2_0242ac1c0002row11_col0\" class=\"data row11 col0\" >0.0078</td>\n",
              "                        <td id=\"T_70f5a610_ebbf_11ea_a4f2_0242ac1c0002row11_col1\" class=\"data row11 col1\" >0.0117</td>\n",
              "                        <td id=\"T_70f5a610_ebbf_11ea_a4f2_0242ac1c0002row11_col2\" class=\"data row11 col2\" >0.0150</td>\n",
              "                        <td id=\"T_70f5a610_ebbf_11ea_a4f2_0242ac1c0002row11_col3\" class=\"data row11 col3\" >0.0417</td>\n",
              "                        <td id=\"T_70f5a610_ebbf_11ea_a4f2_0242ac1c0002row11_col4\" class=\"data row11 col4\" >0.0168</td>\n",
              "                        <td id=\"T_70f5a610_ebbf_11ea_a4f2_0242ac1c0002row11_col5\" class=\"data row11 col5\" >0.0214</td>\n",
              "                        <td id=\"T_70f5a610_ebbf_11ea_a4f2_0242ac1c0002row11_col6\" class=\"data row11 col6\" >0.0256</td>\n",
              "            </tr>\n",
              "    </tbody></table>"
            ],
            "text/plain": [
              "<pandas.io.formats.style.Styler at 0x7f9fa1235550>"
            ]
          },
          "metadata": {
            "tags": []
          }
        }
      ]
    },
    {
      "cell_type": "code",
      "metadata": {
        "id": "mOyLezt591iR",
        "colab_type": "code",
        "colab": {
          "base_uri": "https://localhost:8080/",
          "height": 187
        },
        "outputId": "11e9fb6f-c90d-47eb-96f4-5813605d63b4"
      },
      "source": [
        "print(tuned_gbc)"
      ],
      "execution_count": 14,
      "outputs": [
        {
          "output_type": "stream",
          "text": [
            "GradientBoostingClassifier(ccp_alpha=0.0, criterion='friedman_mse', init=None,\n",
            "                           learning_rate=0.02, loss='deviance', max_depth=60,\n",
            "                           max_features='log2', max_leaf_nodes=None,\n",
            "                           min_impurity_decrease=0.0, min_impurity_split=None,\n",
            "                           min_samples_leaf=4, min_samples_split=10,\n",
            "                           min_weight_fraction_leaf=0.0, n_estimators=125,\n",
            "                           n_iter_no_change=None, presort='deprecated',\n",
            "                           random_state=123, subsample=0.45000000000000007,\n",
            "                           tol=0.0001, validation_fraction=0.1, verbose=0,\n",
            "                           warm_start=False)\n"
          ],
          "name": "stdout"
        }
      ]
    },
    {
      "cell_type": "code",
      "metadata": {
        "id": "8eN6bpex-h9P",
        "colab_type": "code",
        "colab": {
          "base_uri": "https://localhost:8080/",
          "height": 376,
          "referenced_widgets": [
            "623c8fe107664dfeb78ae38ddcb26b3b"
          ]
        },
        "outputId": "7e7708e2-8f0c-4f28-b037-3c79ddb61383"
      },
      "source": [
        "plot_model(tuned_gbc, plot = 'auc')\n"
      ],
      "execution_count": 16,
      "outputs": [
        {
          "output_type": "display_data",
          "data": {
            "image/png": "[encoded data removed]",
            "text/plain": [
              "<Figure size 576x396 with 1 Axes>"
            ]
          },
          "metadata": {
            "tags": []
          }
        }
      ]
    },
    {
      "cell_type": "code",
      "metadata": {
        "id": "svWMysom-r69",
        "colab_type": "code",
        "colab": {
          "base_uri": "https://localhost:8080/",
          "height": 376,
          "referenced_widgets": [
            "c22ad100ee7f49758554af6cc41ee837"
          ]
        },
        "outputId": "cf1faddc-f5bc-4293-c174-c4d0a3ce8b1c"
      },
      "source": [
        "plot_model(tuned_gbc, plot = 'pr')\n"
      ],
      "execution_count": 18,
      "outputs": [
        {
          "output_type": "display_data",
          "data": {
            "image/png": "[encoded data removed]",
            "text/plain": [
              "<Figure size 576x396 with 1 Axes>"
            ]
          },
          "metadata": {
            "tags": []
          }
        }
      ]
    },
    {
      "cell_type": "code",
      "metadata": {
        "id": "JUNiozrP-uxw",
        "colab_type": "code",
        "colab": {
          "base_uri": "https://localhost:8080/",
          "height": 478,
          "referenced_widgets": [
            "800fc3ee04194f5ea64f59e7f0bdc2ac"
          ]
        },
        "outputId": "47cfe3be-13d6-4abc-8052-c38fe0ea4c5c"
      },
      "source": [
        "plot_model(tuned_gbc, plot='feature')\n"
      ],
      "execution_count": 19,
      "outputs": [
        {
          "output_type": "display_data",
          "data": {
            "image/png": "[encoded data removed]",
            "text/plain": [
              "<Figure size 800x500 with 1 Axes>"
            ]
          },
          "metadata": {
            "tags": []
          }
        }
      ]
    },
    {
      "cell_type": "code",
      "metadata": {
        "id": "OPdzwRJz-z2s",
        "colab_type": "code",
        "colab": {
          "base_uri": "https://localhost:8080/",
          "height": 374,
          "referenced_widgets": [
            "1f1aa129c18c4abd85dc520a7932c0ca"
          ]
        },
        "outputId": "53f0aad7-5c3a-41db-8e9f-d9cf786bf48a"
      },
      "source": [
        "plot_model(tuned_gbc, plot = 'confusion_matrix')\n"
      ],
      "execution_count": 20,
      "outputs": [
        {
          "output_type": "display_data",
          "data": {
            "image/png": "[encoded data removed]",
            "text/plain": [
              "<Figure size 576x396 with 1 Axes>"
            ]
          },
          "metadata": {
            "tags": []
          }
        }
      ]
    },
    {
      "cell_type": "code",
      "metadata": {
        "id": "NJ4-cKAV-4Jy",
        "colab_type": "code",
        "colab": {}
      },
      "source": [
        "final_gbc = finalize_model(tuned_gbc)\n"
      ],
      "execution_count": 22,
      "outputs": []
    },
    {
      "cell_type": "code",
      "metadata": {
        "id": "lUICD3DC_QF5",
        "colab_type": "code",
        "colab": {
          "base_uri": "https://localhost:8080/",
          "height": 187
        },
        "outputId": "5a44eb2f-39d0-490e-f5d7-2b9a2ab803ff"
      },
      "source": [
        "print(final_gbc)\n"
      ],
      "execution_count": 23,
      "outputs": [
        {
          "output_type": "stream",
          "text": [
            "GradientBoostingClassifier(ccp_alpha=0.0, criterion='friedman_mse', init=None,\n",
            "                           learning_rate=0.02, loss='deviance', max_depth=60,\n",
            "                           max_features='log2', max_leaf_nodes=None,\n",
            "                           min_impurity_decrease=0.0, min_impurity_split=None,\n",
            "                           min_samples_leaf=4, min_samples_split=10,\n",
            "                           min_weight_fraction_leaf=0.0, n_estimators=125,\n",
            "                           n_iter_no_change=None, presort='deprecated',\n",
            "                           random_state=123, subsample=0.45000000000000007,\n",
            "                           tol=0.0001, validation_fraction=0.1, verbose=0,\n",
            "                           warm_start=False)\n"
          ],
          "name": "stdout"
        }
      ]
    },
    {
      "cell_type": "code",
      "metadata": {
        "id": "Kfbf0WZe_WL_",
        "colab_type": "code",
        "colab": {
          "base_uri": "https://localhost:8080/",
          "height": 80
        },
        "outputId": "4ab4789d-2cce-455e-c743-f2fdf44fc28a"
      },
      "source": [
        "predict_model(final_gbc);\n"
      ],
      "execution_count": 24,
      "outputs": [
        {
          "output_type": "display_data",
          "data": {
            "text/html": [
              "<div>\n",
              "<style scoped>\n",
              "    .dataframe tbody tr th:only-of-type {\n",
              "        vertical-align: middle;\n",
              "    }\n",
              "\n",
              "    .dataframe tbody tr th {\n",
              "        vertical-align: top;\n",
              "    }\n",
              "\n",
              "    .dataframe thead th {\n",
              "        text-align: right;\n",
              "    }\n",
              "</style>\n",
              "<table border=\"1\" class=\"dataframe\">\n",
              "  <thead>\n",
              "    <tr style=\"text-align: right;\">\n",
              "      <th></th>\n",
              "      <th>Model</th>\n",
              "      <th>Accuracy</th>\n",
              "      <th>AUC</th>\n",
              "      <th>Recall</th>\n",
              "      <th>Prec.</th>\n",
              "      <th>F1</th>\n",
              "      <th>Kappa</th>\n",
              "      <th>MCC</th>\n",
              "    </tr>\n",
              "  </thead>\n",
              "  <tbody>\n",
              "    <tr>\n",
              "      <th>0</th>\n",
              "      <td>Gradient Boosting Classifier</td>\n",
              "      <td>0.8328</td>\n",
              "      <td>0.8948</td>\n",
              "      <td>0.3923</td>\n",
              "      <td>0.8037</td>\n",
              "      <td>0.5272</td>\n",
              "      <td>0.4399</td>\n",
              "      <td>0.4818</td>\n",
              "    </tr>\n",
              "  </tbody>\n",
              "</table>\n",
              "</div>"
            ],
            "text/plain": [
              "                          Model  Accuracy     AUC  ...      F1   Kappa     MCC\n",
              "0  Gradient Boosting Classifier    0.8328  0.8948  ...  0.5272  0.4399  0.4818\n",
              "\n",
              "[1 rows x 8 columns]"
            ]
          },
          "metadata": {
            "tags": []
          }
        }
      ]
    },
    {
      "cell_type": "code",
      "metadata": {
        "id": "OL0Zj0WA_ZoN",
        "colab_type": "code",
        "colab": {
          "base_uri": "https://localhost:8080/",
          "height": 204
        },
        "outputId": "3a3f7484-4ec0-4503-8302-18aa4bd408b3"
      },
      "source": [
        "unseen_predictions = predict_model(final_rf, data=data_unseen)\n",
        "unseen_predictions.head()\n"
      ],
      "execution_count": 25,
      "outputs": [
        {
          "output_type": "execute_result",
          "data": {
            "text/html": [
              "<div>\n",
              "<style scoped>\n",
              "    .dataframe tbody tr th:only-of-type {\n",
              "        vertical-align: middle;\n",
              "    }\n",
              "\n",
              "    .dataframe tbody tr th {\n",
              "        vertical-align: top;\n",
              "    }\n",
              "\n",
              "    .dataframe thead th {\n",
              "        text-align: right;\n",
              "    }\n",
              "</style>\n",
              "<table border=\"1\" class=\"dataframe\">\n",
              "  <thead>\n",
              "    <tr style=\"text-align: right;\">\n",
              "      <th></th>\n",
              "      <th>id</th>\n",
              "      <th>realtionship_status</th>\n",
              "      <th>industry</th>\n",
              "      <th>genre</th>\n",
              "      <th>targeted_sex</th>\n",
              "      <th>average_runtime(minutes_per_week)</th>\n",
              "      <th>airtime</th>\n",
              "      <th>airlocation</th>\n",
              "      <th>ratings</th>\n",
              "      <th>expensive</th>\n",
              "      <th>money_back_guarantee</th>\n",
              "      <th>netgain</th>\n",
              "      <th>Label</th>\n",
              "      <th>Score</th>\n",
              "    </tr>\n",
              "  </thead>\n",
              "  <tbody>\n",
              "    <tr>\n",
              "      <th>0</th>\n",
              "      <td>28523</td>\n",
              "      <td>Divorced</td>\n",
              "      <td>Auto</td>\n",
              "      <td>Comedy</td>\n",
              "      <td>Female</td>\n",
              "      <td>40</td>\n",
              "      <td>Primetime</td>\n",
              "      <td>United-States</td>\n",
              "      <td>0.027465</td>\n",
              "      <td>Low</td>\n",
              "      <td>Yes</td>\n",
              "      <td>False</td>\n",
              "      <td>False</td>\n",
              "      <td>0.0777</td>\n",
              "    </tr>\n",
              "    <tr>\n",
              "      <th>1</th>\n",
              "      <td>22487</td>\n",
              "      <td>Married-civ-spouse</td>\n",
              "      <td>Pharma</td>\n",
              "      <td>Comedy</td>\n",
              "      <td>Male</td>\n",
              "      <td>40</td>\n",
              "      <td>Daytime</td>\n",
              "      <td>United-States</td>\n",
              "      <td>0.027465</td>\n",
              "      <td>Low</td>\n",
              "      <td>No</td>\n",
              "      <td>False</td>\n",
              "      <td>False</td>\n",
              "      <td>0.3047</td>\n",
              "    </tr>\n",
              "    <tr>\n",
              "      <th>2</th>\n",
              "      <td>9658</td>\n",
              "      <td>Separated</td>\n",
              "      <td>Auto</td>\n",
              "      <td>Comedy</td>\n",
              "      <td>Male</td>\n",
              "      <td>25</td>\n",
              "      <td>Primetime</td>\n",
              "      <td>United-States</td>\n",
              "      <td>0.027465</td>\n",
              "      <td>Low</td>\n",
              "      <td>No</td>\n",
              "      <td>False</td>\n",
              "      <td>False</td>\n",
              "      <td>0.0538</td>\n",
              "    </tr>\n",
              "    <tr>\n",
              "      <th>3</th>\n",
              "      <td>8672</td>\n",
              "      <td>Married-civ-spouse</td>\n",
              "      <td>Pharma</td>\n",
              "      <td>Comedy</td>\n",
              "      <td>Male</td>\n",
              "      <td>40</td>\n",
              "      <td>Primetime</td>\n",
              "      <td>United-States</td>\n",
              "      <td>0.027465</td>\n",
              "      <td>Medium</td>\n",
              "      <td>No</td>\n",
              "      <td>False</td>\n",
              "      <td>False</td>\n",
              "      <td>0.3732</td>\n",
              "    </tr>\n",
              "    <tr>\n",
              "      <th>4</th>\n",
              "      <td>17252</td>\n",
              "      <td>Never-married</td>\n",
              "      <td>Auto</td>\n",
              "      <td>Drama</td>\n",
              "      <td>Male</td>\n",
              "      <td>35</td>\n",
              "      <td>Morning</td>\n",
              "      <td>South</td>\n",
              "      <td>0.027465</td>\n",
              "      <td>High</td>\n",
              "      <td>No</td>\n",
              "      <td>False</td>\n",
              "      <td>False</td>\n",
              "      <td>0.0368</td>\n",
              "    </tr>\n",
              "  </tbody>\n",
              "</table>\n",
              "</div>"
            ],
            "text/plain": [
              "      id realtionship_status industry  ... netgain  Label   Score\n",
              "0  28523            Divorced     Auto  ...   False  False  0.0777\n",
              "1  22487  Married-civ-spouse   Pharma  ...   False  False  0.3047\n",
              "2   9658           Separated     Auto  ...   False  False  0.0538\n",
              "3   8672  Married-civ-spouse   Pharma  ...   False  False  0.3732\n",
              "4  17252       Never-married     Auto  ...   False  False  0.0368\n",
              "\n",
              "[5 rows x 14 columns]"
            ]
          },
          "metadata": {
            "tags": []
          },
          "execution_count": 25
        }
      ]
    },
    {
      "cell_type": "markdown",
      "metadata": {
        "id": "cBQ4DVVaiaMR",
        "colab_type": "text"
      },
      "source": [
        "<a id=section5></a>\n",
        "## 7. Conclusion\n",
        "\n",
        "We experimented a few techniques to handle a classification problem.\n",
        "\n",
        "- **Binary_CrossEntropy**  is a loss function used for binary classification problems.\n",
        "\n",
        "- Similarly, evaluation metrics used for classification\n",
        "\n",
        "  - A common classification metric is **Accuracy**.\n",
        "\n",
        "- When numeric input data features have values with different ranges, each **feature** should be **scaled** independently to the same range.\n",
        "\n",
        "- If there is not much training data, one technique is to prefer a **small network** with few hidden layers to avoid overfitting.\n",
        "\n",
        "- **Early stopping** is a useful technique to prevent overfitting.\n",
        "\n",
        "- We can improve the performance of a model by increasing the number of hidden layers and the hidden units in the model.\n",
        "\n",
        "- Regularization Techniques to reduce overfitting are:\n",
        "\n",
        "  - **Weight Regularization**\n",
        "\n",
        "  - **Dropout**\n",
        "\n",
        "  - **Batch Normalization**\n",
        "\n",
        "\n",
        "**Experimentation Results**\n",
        "\n",
        "- Dropout with L2 regularization comes out to be a best model with 81% accuracy\n",
        "- PyCaret Approach gives us CatBoost Classifier as the best model with 78% accuracy\n",
        "- KerasTuner is also used to find out best arhcitecture of neural network\n",
        "- Since dataset is imbalanced, it does not produce good Precision ad Recall\n",
        "- Model is not overfitted and generalized enough as difference of accuracy between Train and Test is very small\n",
        "- PyCaret tells us Ratings and RelationshipStatus-Spouse_Married have high importance in making the decision of netgain"
      ]
    },
    {
      "cell_type": "code",
      "metadata": {
        "id": "qdhRSxnoL6sl",
        "colab_type": "code",
        "colab": {}
      },
      "source": [
        ""
      ],
      "execution_count": null,
      "outputs": []
    }
  ]
}