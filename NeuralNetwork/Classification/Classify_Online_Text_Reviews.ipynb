{
  "nbformat": 4,
  "nbformat_minor": 0,
  "metadata": {
    "colab": {
      "name": "Text_Classfication_And_Sentiment_Analysis.ipynb",
      "provenance": [],
      "collapsed_sections": [],
      "authorship_tag": "ABX9TyMnR5Eot6lp42KJxf4/cGvx",
      "include_colab_link": true
    },
    "kernelspec": {
      "name": "python3",
      "display_name": "Python 3"
    }
  },
  "cells": [
    {
      "cell_type": "markdown",
      "metadata": {
        "id": "view-in-github",
        "colab_type": "text"
      },
      "source": [
        "<a href=\"https://colab.research.google.com/github/rajgupta-github/DeepLearning-with-Python/blob/master/NeuralNetwork/Classification/Text_Classfication_And_Sentiment_Analysis.ipynb\" target=\"_parent\"><img src=\"https://colab.research.google.com/assets/colab-badge.svg\" alt=\"Open In Colab\"/></a>"
      ]
    },
    {
      "cell_type": "markdown",
      "metadata": {
        "id": "18rg0F1AyCIX",
        "colab_type": "text"
      },
      "source": [
        "Classify Online Text Review of Amazon Alexa"
      ]
    },
    {
      "cell_type": "code",
      "metadata": {
        "id": "fB-I1SLM4Z9W",
        "colab_type": "code",
        "outputId": "65dfa2cd-0afe-4380-ba6d-d33c64485828",
        "colab": {
          "base_uri": "https://localhost:8080/",
          "height": 156
        }
      },
      "source": [
        "import tensorflow as tf\n",
        "import datetime\n",
        "import pandas as pd\n",
        "pd.options.display.float_format = \"{:,.2f}\".format\n",
        "import numpy as np\n",
        "import seaborn as sns\n",
        "import matplotlib.pyplot as plt\n",
        "%load_ext tensorboard\n",
        "\n",
        "from google.colab import drive\n",
        "drive.mount('/content/drive')"
      ],
      "execution_count": 2,
      "outputs": [
        {
          "output_type": "stream",
          "text": [
            "The tensorboard extension is already loaded. To reload it, use:\n",
            "  %reload_ext tensorboard\n",
            "Go to this URL in a browser: https://accounts.google.com/o/oauth2/auth?client_id=947318989803-6bn6qk8qdgf4n4g3pfee6491hc0brc4i.apps.googleusercontent.com&redirect_uri=urn%3aietf%3awg%3aoauth%3a2.0%3aoob&response_type=code&scope=email%20https%3a%2f%2fwww.googleapis.com%2fauth%2fdocs.test%20https%3a%2f%2fwww.googleapis.com%2fauth%2fdrive%20https%3a%2f%2fwww.googleapis.com%2fauth%2fdrive.photos.readonly%20https%3a%2f%2fwww.googleapis.com%2fauth%2fpeopleapi.readonly\n",
            "\n",
            "Enter your authorization code:\n",
            "··········\n",
            "Mounted at /content/drive\n"
          ],
          "name": "stdout"
        }
      ]
    },
    {
      "cell_type": "code",
      "metadata": {
        "id": "mO4zC7cMxOrA",
        "colab_type": "code",
        "colab": {
          "base_uri": "https://localhost:8080/",
          "height": 221
        },
        "outputId": "dd0ec9f4-a9ae-4abe-eace-fc86e1410b90"
      },
      "source": [
        "amazon_reviews = pd.read_csv('/content/drive/My Drive/TensorFlow/amazon_alexa.tsv', sep=\"\\t\")\n",
        "amazon_reviews.describe()\n",
        "amazon_reviews.info()"
      ],
      "execution_count": 19,
      "outputs": [
        {
          "output_type": "stream",
          "text": [
            "<class 'pandas.core.frame.DataFrame'>\n",
            "RangeIndex: 3150 entries, 0 to 3149\n",
            "Data columns (total 5 columns):\n",
            " #   Column            Non-Null Count  Dtype \n",
            "---  ------            --------------  ----- \n",
            " 0   rating            3150 non-null   int64 \n",
            " 1   date              3150 non-null   object\n",
            " 2   variation         3150 non-null   object\n",
            " 3   verified_reviews  3150 non-null   object\n",
            " 4   feedback          3150 non-null   int64 \n",
            "dtypes: int64(2), object(3)\n",
            "memory usage: 123.2+ KB\n"
          ],
          "name": "stdout"
        }
      ]
    },
    {
      "cell_type": "markdown",
      "metadata": {
        "id": "0pR5nZJUzN6J",
        "colab_type": "text"
      },
      "source": [
        "No Missing Values"
      ]
    },
    {
      "cell_type": "code",
      "metadata": {
        "id": "_KMpy421zgEU",
        "colab_type": "code",
        "colab": {
          "base_uri": "https://localhost:8080/",
          "height": 204
        },
        "outputId": "8fa17098-cea5-468a-91d7-2d8c4466f6fc"
      },
      "source": [
        "amazon_reviews.head()"
      ],
      "execution_count": 20,
      "outputs": [
        {
          "output_type": "execute_result",
          "data": {
            "text/html": [
              "<div>\n",
              "<style scoped>\n",
              "    .dataframe tbody tr th:only-of-type {\n",
              "        vertical-align: middle;\n",
              "    }\n",
              "\n",
              "    .dataframe tbody tr th {\n",
              "        vertical-align: top;\n",
              "    }\n",
              "\n",
              "    .dataframe thead th {\n",
              "        text-align: right;\n",
              "    }\n",
              "</style>\n",
              "<table border=\"1\" class=\"dataframe\">\n",
              "  <thead>\n",
              "    <tr style=\"text-align: right;\">\n",
              "      <th></th>\n",
              "      <th>rating</th>\n",
              "      <th>date</th>\n",
              "      <th>variation</th>\n",
              "      <th>verified_reviews</th>\n",
              "      <th>feedback</th>\n",
              "    </tr>\n",
              "  </thead>\n",
              "  <tbody>\n",
              "    <tr>\n",
              "      <th>0</th>\n",
              "      <td>5</td>\n",
              "      <td>31-Jul-18</td>\n",
              "      <td>Charcoal Fabric</td>\n",
              "      <td>Love my Echo!</td>\n",
              "      <td>1</td>\n",
              "    </tr>\n",
              "    <tr>\n",
              "      <th>1</th>\n",
              "      <td>5</td>\n",
              "      <td>31-Jul-18</td>\n",
              "      <td>Charcoal Fabric</td>\n",
              "      <td>Loved it!</td>\n",
              "      <td>1</td>\n",
              "    </tr>\n",
              "    <tr>\n",
              "      <th>2</th>\n",
              "      <td>4</td>\n",
              "      <td>31-Jul-18</td>\n",
              "      <td>Walnut Finish</td>\n",
              "      <td>Sometimes while playing a game, you can answer...</td>\n",
              "      <td>1</td>\n",
              "    </tr>\n",
              "    <tr>\n",
              "      <th>3</th>\n",
              "      <td>5</td>\n",
              "      <td>31-Jul-18</td>\n",
              "      <td>Charcoal Fabric</td>\n",
              "      <td>I have had a lot of fun with this thing. My 4 ...</td>\n",
              "      <td>1</td>\n",
              "    </tr>\n",
              "    <tr>\n",
              "      <th>4</th>\n",
              "      <td>5</td>\n",
              "      <td>31-Jul-18</td>\n",
              "      <td>Charcoal Fabric</td>\n",
              "      <td>Music</td>\n",
              "      <td>1</td>\n",
              "    </tr>\n",
              "  </tbody>\n",
              "</table>\n",
              "</div>"
            ],
            "text/plain": [
              "   rating  ... feedback\n",
              "0       5  ...        1\n",
              "1       5  ...        1\n",
              "2       4  ...        1\n",
              "3       5  ...        1\n",
              "4       5  ...        1\n",
              "\n",
              "[5 rows x 5 columns]"
            ]
          },
          "metadata": {
            "tags": []
          },
          "execution_count": 20
        }
      ]
    },
    {
      "cell_type": "code",
      "metadata": {
        "id": "qfU2ZEbByqzQ",
        "colab_type": "code",
        "colab": {
          "base_uri": "https://localhost:8080/",
          "height": 332
        },
        "outputId": "0b32867e-c84e-4434-f741-199336e45830"
      },
      "source": [
        "sns.countplot(amazon_reviews['feedback'])\n",
        "amazon_reviews['feedback'].value_counts()"
      ],
      "execution_count": 21,
      "outputs": [
        {
          "output_type": "execute_result",
          "data": {
            "text/plain": [
              "1    2893\n",
              "0     257\n",
              "Name: feedback, dtype: int64"
            ]
          },
          "metadata": {
            "tags": []
          },
          "execution_count": 21
        },
        {
          "output_type": "display_data",
          "data": {
            "image/png": "[encoded data removed]",
            "text/plain": [
              "<Figure size 432x288 with 1 Axes>"
            ]
          },
          "metadata": {
            "tags": []
          }
        }
      ]
    },
    {
      "cell_type": "markdown",
      "metadata": {
        "id": "25ST8-OhzK1p",
        "colab_type": "text"
      },
      "source": [
        "Imbalanced Dataset Problem"
      ]
    },
    {
      "cell_type": "code",
      "metadata": {
        "id": "G89hWn4Uy_s-",
        "colab_type": "code",
        "colab": {
          "base_uri": "https://localhost:8080/",
          "height": 119
        },
        "outputId": "e6732e77-7aa8-4b33-f015-22094d558f01"
      },
      "source": [
        "amazon_reviews['rating'].value_counts()"
      ],
      "execution_count": 22,
      "outputs": [
        {
          "output_type": "execute_result",
          "data": {
            "text/plain": [
              "5    2286\n",
              "4     455\n",
              "1     161\n",
              "3     152\n",
              "2      96\n",
              "Name: rating, dtype: int64"
            ]
          },
          "metadata": {
            "tags": []
          },
          "execution_count": 22
        }
      ]
    },
    {
      "cell_type": "code",
      "metadata": {
        "id": "poSZM0a2zS2f",
        "colab_type": "code",
        "colab": {
          "base_uri": "https://localhost:8080/",
          "height": 296
        },
        "outputId": "40a92ab8-123d-47fc-d2cd-450d9a15396b"
      },
      "source": [
        "sns.countplot(amazon_reviews['rating'])\n"
      ],
      "execution_count": 23,
      "outputs": [
        {
          "output_type": "execute_result",
          "data": {
            "text/plain": [
              "<matplotlib.axes._subplots.AxesSubplot at 0x7f24c3ff36d8>"
            ]
          },
          "metadata": {
            "tags": []
          },
          "execution_count": 23
        },
        {
          "output_type": "display_data",
          "data": {
            "image/png": "[encoded data removed]",
            "text/plain": [
              "<Figure size 432x288 with 1 Axes>"
            ]
          },
          "metadata": {
            "tags": []
          }
        }
      ]
    },
    {
      "cell_type": "code",
      "metadata": {
        "id": "xPA_-cUQz2Qg",
        "colab_type": "code",
        "colab": {}
      },
      "source": [
        "amazon_reviews = amazon_reviews.drop(['date', 'rating'],axis=1)\n"
      ],
      "execution_count": 0,
      "outputs": []
    },
    {
      "cell_type": "code",
      "metadata": {
        "id": "dXfcLkcm070b",
        "colab_type": "code",
        "colab": {}
      },
      "source": [
        "variation_dummies = pd.get_dummies(amazon_reviews['variation'], drop_first = True)"
      ],
      "execution_count": 0,
      "outputs": []
    },
    {
      "cell_type": "code",
      "metadata": {
        "id": "bqIfiE4_1Adm",
        "colab_type": "code",
        "colab": {}
      },
      "source": [
        "amazon_reviews.drop(['variation'], axis=1, inplace=True)\n",
        "amazon_reviews = pd.concat([amazon_reviews, variation_dummies], axis=1)"
      ],
      "execution_count": 0,
      "outputs": []
    },
    {
      "cell_type": "code",
      "metadata": {
        "id": "CcxSsfUN13vE",
        "colab_type": "code",
        "colab": {
          "base_uri": "https://localhost:8080/",
          "height": 221
        },
        "outputId": "7444e5f7-b404-4bf9-939e-fa020b6e18b6"
      },
      "source": [
        "amazon_reviews.columns"
      ],
      "execution_count": 30,
      "outputs": [
        {
          "output_type": "execute_result",
          "data": {
            "text/plain": [
              "Index([                    'feedback',                   'Black  Dot',\n",
              "                        'Black  Plus',                  'Black  Show',\n",
              "                        'Black  Spot',             'Charcoal Fabric ',\n",
              "       'Configuration: Fire TV Stick',         'Heather Gray Fabric ',\n",
              "                        'Oak Finish ',            'Sandstone Fabric ',\n",
              "       ...\n",
              "                                 4034,                           4035,\n",
              "                                 4036,                           4037,\n",
              "                                 4038,                           4039,\n",
              "                                 4040,                           4041,\n",
              "                                 4042,                           4043],\n",
              "      dtype='object', length=4060)"
            ]
          },
          "metadata": {
            "tags": []
          },
          "execution_count": 30
        }
      ]
    },
    {
      "cell_type": "code",
      "metadata": {
        "id": "eLNM8g-M1KlS",
        "colab_type": "code",
        "colab": {}
      },
      "source": [
        "from sklearn.feature_extraction.text import CountVectorizer\n",
        "vectorizer = CountVectorizer()\n",
        "alexa_countvectorizer = vectorizer.fit_transform(amazon_reviews['verified_reviews'])"
      ],
      "execution_count": 0,
      "outputs": []
    },
    {
      "cell_type": "code",
      "metadata": {
        "id": "mu3_NZ1b1Pec",
        "colab_type": "code",
        "colab": {}
      },
      "source": [
        "amazon_reviews.drop(['verified_reviews'], axis=1, inplace=True)\n",
        "reviews = pd.DataFrame(alexa_countvectorizer.toarray())\n",
        "amazon_reviews = pd.concat([amazon_reviews, reviews], axis=1)\n"
      ],
      "execution_count": 0,
      "outputs": []
    },
    {
      "cell_type": "code",
      "metadata": {
        "id": "IthQ6za52Mf4",
        "colab_type": "code",
        "colab": {}
      },
      "source": [
        "X = amazon_reviews.drop(['feedback'],axis=1)"
      ],
      "execution_count": 0,
      "outputs": []
    },
    {
      "cell_type": "code",
      "metadata": {
        "id": "ZThiqx2c2VRo",
        "colab_type": "code",
        "colab": {}
      },
      "source": [
        "y = amazon_reviews['feedback']\n",
        "y = y.values.reshape(-1,1)"
      ],
      "execution_count": 0,
      "outputs": []
    },
    {
      "cell_type": "code",
      "metadata": {
        "id": "ytE7LDRL2e54",
        "colab_type": "code",
        "colab": {
          "base_uri": "https://localhost:8080/",
          "height": 85
        },
        "outputId": "e5bec1f4-8336-487c-e5c9-5455f3714987"
      },
      "source": [
        "from sklearn.model_selection import train_test_split\n",
        "X_train, X_test, y_train, y_test = train_test_split(X, y, test_size = 0.20, random_state=5)\n",
        "print(X_train.shape)\n",
        "print(X_test.shape)\n",
        "print(y_train.shape)\n",
        "print(y_test.shape)"
      ],
      "execution_count": 35,
      "outputs": [
        {
          "output_type": "stream",
          "text": [
            "(2520, 4059)\n",
            "(630, 4059)\n",
            "(2520, 1)\n",
            "(630, 1)\n"
          ],
          "name": "stdout"
        }
      ]
    },
    {
      "cell_type": "code",
      "metadata": {
        "id": "22UIJ9873OZr",
        "colab_type": "code",
        "colab": {
          "base_uri": "https://localhost:8080/",
          "height": 255
        },
        "outputId": "08acb949-00fb-4479-dae6-21eec1e487a4"
      },
      "source": [
        "ANN_classifier = tf.keras.models.Sequential()\n",
        "ANN_classifier.add(tf.keras.layers.Dense(units=400, activation='relu', input_shape=(X_train.shape[1], )))\n",
        "ANN_classifier.add(tf.keras.layers.Dense(units=400, activation='relu'))\n",
        "ANN_classifier.add(tf.keras.layers.Dense(units=1, activation='sigmoid'))\n",
        "ANN_classifier.summary()\n",
        "ANN_classifier.compile(optimizer='Adam', loss='binary_crossentropy', metrics = ['accuracy'])"
      ],
      "execution_count": 37,
      "outputs": [
        {
          "output_type": "stream",
          "text": [
            "Model: \"sequential_1\"\n",
            "_________________________________________________________________\n",
            "Layer (type)                 Output Shape              Param #   \n",
            "=================================================================\n",
            "dense_3 (Dense)              (None, 400)               1624000   \n",
            "_________________________________________________________________\n",
            "dense_4 (Dense)              (None, 400)               160400    \n",
            "_________________________________________________________________\n",
            "dense_5 (Dense)              (None, 1)                 401       \n",
            "=================================================================\n",
            "Total params: 1,784,801\n",
            "Trainable params: 1,784,801\n",
            "Non-trainable params: 0\n",
            "_________________________________________________________________\n"
          ],
          "name": "stdout"
        }
      ]
    },
    {
      "cell_type": "code",
      "metadata": {
        "id": "dmujc3g93gAB",
        "colab_type": "code",
        "colab": {
          "base_uri": "https://localhost:8080/",
          "height": 357
        },
        "outputId": "25bead5b-4774-4ed1-c4d5-82cd78c8e70a"
      },
      "source": [
        "epochs_hist = ANN_classifier.fit(X_train, y_train, epochs = 10)"
      ],
      "execution_count": 38,
      "outputs": [
        {
          "output_type": "stream",
          "text": [
            "Epoch 1/10\n",
            "79/79 [==============================] - 1s 14ms/step - loss: 0.2738 - accuracy: 0.9131\n",
            "Epoch 2/10\n",
            "79/79 [==============================] - 1s 14ms/step - loss: 0.0889 - accuracy: 0.9655\n",
            "Epoch 3/10\n",
            "79/79 [==============================] - 1s 13ms/step - loss: 0.0289 - accuracy: 0.9905\n",
            "Epoch 4/10\n",
            "79/79 [==============================] - 1s 14ms/step - loss: 0.0179 - accuracy: 0.9940\n",
            "Epoch 5/10\n",
            "79/79 [==============================] - 1s 14ms/step - loss: 0.0165 - accuracy: 0.9929\n",
            "Epoch 6/10\n",
            "79/79 [==============================] - 1s 14ms/step - loss: 0.0166 - accuracy: 0.9940\n",
            "Epoch 7/10\n",
            "79/79 [==============================] - 1s 14ms/step - loss: 0.0149 - accuracy: 0.9944\n",
            "Epoch 8/10\n",
            "79/79 [==============================] - 1s 14ms/step - loss: 0.0165 - accuracy: 0.9925\n",
            "Epoch 9/10\n",
            "79/79 [==============================] - 1s 14ms/step - loss: 0.0161 - accuracy: 0.9944\n",
            "Epoch 10/10\n",
            "79/79 [==============================] - 1s 14ms/step - loss: 0.0154 - accuracy: 0.9944\n"
          ],
          "name": "stdout"
        }
      ]
    },
    {
      "cell_type": "code",
      "metadata": {
        "id": "8XotsdRB4xgB",
        "colab_type": "code",
        "colab": {}
      },
      "source": [
        " y_pred_train = ANN_classifier.predict(X_train)\n",
        " y_pred_train = y_pred_train > 0.5\n",
        "\n",
        " y_pred_test = ANN_classifier.predict(X_test)\n",
        " y_pred_test = y_pred_test > 0.5"
      ],
      "execution_count": 0,
      "outputs": []
    },
    {
      "cell_type": "code",
      "metadata": {
        "id": "XNaIEN8G4PAX",
        "colab_type": "code",
        "colab": {
          "base_uri": "https://localhost:8080/",
          "height": 68
        },
        "outputId": "159babe9-8770-4c84-8493-4b3bbc523b6d"
      },
      "source": [
        "confusion_matrix_df = pd.DataFrame(confusion_matrix(y_train, y_pred_train))\n",
        "# confusion_matrix_df.index = ['0','1']\n",
        "# confusion_matrix_df.columns = ['0','1']\n",
        "print(confusion_matrix_df)"
      ],
      "execution_count": 62,
      "outputs": [
        {
          "output_type": "stream",
          "text": [
            "     0     1\n",
            "0  188    10\n",
            "1    3  2319\n"
          ],
          "name": "stdout"
        }
      ]
    },
    {
      "cell_type": "code",
      "metadata": {
        "id": "bPnag7Ng7hUK",
        "colab_type": "code",
        "colab": {
          "base_uri": "https://localhost:8080/",
          "height": 170
        },
        "outputId": "f2d853fb-fbea-48f6-baf4-ca79f86ab2f7"
      },
      "source": [
        "nn_train_report = classification_report(y_train, y_pred_train)\n",
        "print(nn_train_report)"
      ],
      "execution_count": 66,
      "outputs": [
        {
          "output_type": "stream",
          "text": [
            "              precision    recall  f1-score   support\n",
            "\n",
            "           0       0.98      0.95      0.97       198\n",
            "           1       1.00      1.00      1.00      2322\n",
            "\n",
            "    accuracy                           0.99      2520\n",
            "   macro avg       0.99      0.97      0.98      2520\n",
            "weighted avg       0.99      0.99      0.99      2520\n",
            "\n"
          ],
          "name": "stdout"
        }
      ]
    },
    {
      "cell_type": "code",
      "metadata": {
        "id": "qk2rqD9c6cWn",
        "colab_type": "code",
        "colab": {
          "base_uri": "https://localhost:8080/",
          "height": 68
        },
        "outputId": "12d02b51-bb42-4290-9d59-7cc31117bbe0"
      },
      "source": [
        "confusion_matrix_df = pd.DataFrame(confusion_matrix(y_test, y_pred_test))\n",
        "# confusion_matrix_df.index = ['0','1']\n",
        "# confusion_matrix_df.columns = ['0','1']\n",
        "print(confusion_matrix_df)"
      ],
      "execution_count": 69,
      "outputs": [
        {
          "output_type": "stream",
          "text": [
            "    0    1\n",
            "0  22   37\n",
            "1   7  564\n"
          ],
          "name": "stdout"
        }
      ]
    },
    {
      "cell_type": "code",
      "metadata": {
        "id": "xXGqbdQz7tXE",
        "colab_type": "code",
        "colab": {
          "base_uri": "https://localhost:8080/",
          "height": 170
        },
        "outputId": "25691e65-22dc-47bb-b05b-91a85f601977"
      },
      "source": [
        "nn_test_report = classification_report(y_test, y_pred_test)\n",
        "print(nn_test_report)"
      ],
      "execution_count": 70,
      "outputs": [
        {
          "output_type": "stream",
          "text": [
            "              precision    recall  f1-score   support\n",
            "\n",
            "           0       0.76      0.37      0.50        59\n",
            "           1       0.94      0.99      0.96       571\n",
            "\n",
            "    accuracy                           0.93       630\n",
            "   macro avg       0.85      0.68      0.73       630\n",
            "weighted avg       0.92      0.93      0.92       630\n",
            "\n"
          ],
          "name": "stdout"
        }
      ]
    },
    {
      "cell_type": "code",
      "metadata": {
        "id": "sLR3Y7tp3n_R",
        "colab_type": "code",
        "colab": {
          "base_uri": "https://localhost:8080/",
          "height": 282
        },
        "outputId": "024b2a5c-b4b3-4441-9d5b-611eb6f0aa0d"
      },
      "source": [
        "from sklearn.metrics import classification_report, confusion_matrix\n",
        "cm = confusion_matrix(y_train, y_pred_train)\n",
        "sns.heatmap(cm, annot=True)"
      ],
      "execution_count": 55,
      "outputs": [
        {
          "output_type": "execute_result",
          "data": {
            "text/plain": [
              "<matplotlib.axes._subplots.AxesSubplot at 0x7f24b5699278>"
            ]
          },
          "metadata": {
            "tags": []
          },
          "execution_count": 55
        },
        {
          "output_type": "display_data",
          "data": {
            "image/png": "[encoded data removed]",
            "text/plain": [
              "<Figure size 432x288 with 2 Axes>"
            ]
          },
          "metadata": {
            "tags": []
          }
        }
      ]
    },
    {
      "cell_type": "code",
      "metadata": {
        "id": "vDD_J8Vj35Rl",
        "colab_type": "code",
        "colab": {
          "base_uri": "https://localhost:8080/",
          "height": 282
        },
        "outputId": "a761623a-c7b4-4485-9c81-efb1e4b636fe"
      },
      "source": [
        "y_pred_test = ANN_classifier.predict(X_test)\n",
        "y_pred_test\n",
        "\n",
        "y_pred_test = (y_pred_test > 0.5)\n",
        "\n",
        "cm = confusion_matrix(y_test, y_pred_test)\n",
        "sns.heatmap(cm, annot=True)"
      ],
      "execution_count": 40,
      "outputs": [
        {
          "output_type": "execute_result",
          "data": {
            "text/plain": [
              "<matplotlib.axes._subplots.AxesSubplot at 0x7f24b9261780>"
            ]
          },
          "metadata": {
            "tags": []
          },
          "execution_count": 40
        },
        {
          "output_type": "display_data",
          "data": {
            "image/png": "[encoded data removed]",
            "text/plain": [
              "<Figure size 432x288 with 2 Axes>"
            ]
          },
          "metadata": {
            "tags": []
          }
        }
      ]
    },
    {
      "cell_type": "code",
      "metadata": {
        "id": "ZhaCH9gI39bB",
        "colab_type": "code",
        "colab": {
          "base_uri": "https://localhost:8080/",
          "height": 312
        },
        "outputId": "029b0580-3653-4aa5-8e80-e32b7bb96fba"
      },
      "source": [
        "plt.plot(epochs_hist.history['loss'])\n",
        "\n",
        "plt.title('Model Loss Progress During Training')\n",
        "plt.xlabel('Epoch')\n",
        "plt.ylabel('Training Loss')\n",
        "plt.legend(['Training Loss'])"
      ],
      "execution_count": 41,
      "outputs": [
        {
          "output_type": "execute_result",
          "data": {
            "text/plain": [
              "<matplotlib.legend.Legend at 0x7f24c4648b70>"
            ]
          },
          "metadata": {
            "tags": []
          },
          "execution_count": 41
        },
        {
          "output_type": "display_data",
          "data": {
            "image/png": "[encoded data removed]",
            "text/plain": [
              "<Figure size 432x288 with 1 Axes>"
            ]
          },
          "metadata": {
            "tags": []
          }
        }
      ]
    },
    {
      "cell_type": "code",
      "metadata": {
        "id": "aTRoA7p_4Ayy",
        "colab_type": "code",
        "colab": {
          "base_uri": "https://localhost:8080/",
          "height": 312
        },
        "outputId": "fbcaa47b-3202-41a7-920f-0bebca296edb"
      },
      "source": [
        "plt.plot(epochs_hist.history['accuracy'])\n",
        "\n",
        "plt.title('Model Accuracy Progress During Training')\n",
        "plt.xlabel('Epoch')\n",
        "plt.ylabel('Training Accuracy')\n",
        "plt.legend(['Training Accuracy'])"
      ],
      "execution_count": 42,
      "outputs": [
        {
          "output_type": "execute_result",
          "data": {
            "text/plain": [
              "<matplotlib.legend.Legend at 0x7f24b6f4ecf8>"
            ]
          },
          "metadata": {
            "tags": []
          },
          "execution_count": 42
        },
        {
          "output_type": "display_data",
          "data": {
            "image/png": "[encoded data removed]",
            "text/plain": [
              "<Figure size 432x288 with 1 Axes>"
            ]
          },
          "metadata": {
            "tags": []
          }
        }
      ]
    }
  ]
}