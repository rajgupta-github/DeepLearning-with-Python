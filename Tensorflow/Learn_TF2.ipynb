{
  "nbformat": 4,
  "nbformat_minor": 0,
  "metadata": {
    "colab": {
      "name": "Learn_TF2.ipynb",
      "provenance": [],
      "collapsed_sections": [],
      "authorship_tag": "ABX9TyPkniSZVt9Ow+qIKRPYvTaT",
      "include_colab_link": true
    },
    "kernelspec": {
      "name": "python3",
      "display_name": "Python 3"
    }
  },
  "cells": [
    {
      "cell_type": "markdown",
      "metadata": {
        "id": "view-in-github",
        "colab_type": "text"
      },
      "source": [
        "<a href=\"https://colab.research.google.com/github/rajgupta-github/DeepLearning-with-Python/blob/master/Tensorflow/Learn_TF2.ipynb\" target=\"_parent\"><img src=\"https://colab.research.google.com/assets/colab-badge.svg\" alt=\"Open In Colab\"/></a>"
      ]
    },
    {
      "cell_type": "code",
      "metadata": {
        "id": "CrD4Zvn6vukR",
        "colab_type": "code",
        "colab": {}
      },
      "source": [
        "# !pip install tensorflow-gpu\n",
        "# !pip install tf-nightly-gpu\n",
        "# !pip uninstall tf-nightly"
      ],
      "execution_count": 0,
      "outputs": []
    },
    {
      "cell_type": "code",
      "metadata": {
        "id": "VBu-nx6Ws7Gh",
        "colab_type": "code",
        "colab": {}
      },
      "source": [
        "import tensorflow as tf\n",
        "import datetime\n",
        "import pandas as pd\n",
        "import numpy as np\n",
        "import seaborn as sns\n",
        "import matplotlib.pyplot as plt\n",
        "%load_ext tensorboard\n",
        "\n",
        "from google.colab import drive\n",
        "drive.mount('/content/drive')"
      ],
      "execution_count": 0,
      "outputs": []
    },
    {
      "cell_type": "code",
      "metadata": {
        "id": "rhr2ojeFtSXy",
        "colab_type": "code",
        "colab": {}
      },
      "source": [
        "x=tf.Variable(3)\n",
        "y=tf.Variable(5)\n",
        "z=x+y\n",
        "print(z)"
      ],
      "execution_count": 0,
      "outputs": []
    },
    {
      "cell_type": "code",
      "metadata": {
        "id": "aJiCn-_ywFqE",
        "colab_type": "code",
        "colab": {}
      },
      "source": [
        "fashion_mnist = tf.keras.datasets.fashion_mnist\n",
        "(train_images, train_labels), (test_images, test_lables) = fashion_mnist.load_data()\n",
        "model = tf.keras.Sequential([\n",
        "         tf.keras.layers.Flatten(input_shape=(28,28)),\n",
        "         tf.keras.layers.Dense(128, activation=\"relu\"),\n",
        "         tf.keras.layers.Dense(10, activation=\"softmax\"),\n",
        "])\n",
        "model.compile(optimizer='adam', loss='sparse_categorical_crossentropy', metrics=['accuracy'])\n",
        "\n",
        "log_dir= \"logs/fit/\" + datetime.datetime.now().strftime(\"%Y%m%d-%H%M%S\")\n",
        "tensorboard_callback = tf.keras.callbacks.TensorBoard(log_dir=log_dir, histogram_freq=1)\n",
        "\n",
        "model.fit(train_images, train_labels, epochs=5, callbacks = [tensorboard_callback])\n",
        "%tensorboard --logsdir logs/fit\n"
      ],
      "execution_count": 0,
      "outputs": []
    },
    {
      "cell_type": "markdown",
      "metadata": {
        "id": "RWW1PyJMPneA",
        "colab_type": "text"
      },
      "source": [
        "First Simple Single Neuron Neural Network to predict Fahreheight from Celsius Data"
      ]
    },
    {
      "cell_type": "code",
      "metadata": {
        "id": "z5CrOXS_ukUr",
        "colab_type": "code",
        "colab": {}
      },
      "source": [
        "temp_df = pd.read_csv('/content/drive/My Drive/TensorFlow/Celsius_to_Fahrenheit.csv')\n",
        "temp_df.head()\n",
        "temp_df.describe(include=\"all\")\n",
        "temp_df.info()\n",
        "sns.scatterplot(x='Celsius', y='Fahrenheit', data=temp_df)\n",
        "X_train = temp_df['Celsius']\n",
        "y_train = temp_df['Fahrenheit']\n",
        "X_train.shape\n",
        "model = tf.keras.Sequential()\n",
        "model.add(tf.keras.layers.Dense(units=1, input_shape=[1]))\n",
        "model.summary()\n",
        "model.compile(optimizer=tf.keras.optimizers.Adam(), loss = \"mean_squared_error\")\n",
        "epoch_hist = model.fit(X_train, y_train, epochs=2000)\n",
        "\n",
        "# plt.figure(figsize=(16,10))\n",
        "plt.plot(epoch_hist.history['loss'])\n",
        "plt.title(\"Model Loss during training\")\n",
        "plt.xlabel(\"#Epochs\")\n",
        "plt.ylabel(\"Training Loss\")\n",
        "plt.legend([\"Training Loss\"])\n",
        "model.get_weights()\n",
        "\n",
        "Temp_C = 100\n",
        "Temp_F = model.predict([Temp_C])\n",
        "print('Temperature in degF Using Trained ANN =', Temp_F)\n",
        "\n",
        "# Let's confirm this Using the equation: \n",
        "Temp_F = 9/5 * Temp_C + 32\n",
        "print('Temperature in degF Using Equation =', Temp_F)"
      ],
      "execution_count": 0,
      "outputs": []
    },
    {
      "cell_type": "markdown",
      "metadata": {
        "id": "TWIVy5kkulld",
        "colab_type": "text"
      },
      "source": [
        "**`Mini Neural Network to predict Ice cream Sales`**"
      ]
    },
    {
      "cell_type": "markdown",
      "metadata": {
        "id": "8Se562TqeBMl",
        "colab_type": "text"
      },
      "source": [
        "Model 1 with 1 hidden layer"
      ]
    },
    {
      "cell_type": "code",
      "metadata": {
        "id": "eMDiyj3PKUAp",
        "colab_type": "code",
        "colab": {}
      },
      "source": [
        "sales_df = pd.read_csv('/content/drive/My Drive/TensorFlow/SalesData.csv')\n",
        "display(sales_df.head())\n",
        "display(sales_df.describe(include=\"all\"))\n",
        "display(sales_df.info())\n",
        "# display(sns.scatterplot(x='Temperature', y='Revenue', data=sales_df))\n",
        "X_train = sales_df['Temperature']\n",
        "y_train = sales_df['Revenue']\n",
        "X_train.shape\n",
        "model = tf.keras.Sequential()\n",
        "model.add(tf.keras.layers.Dense(units=1, input_shape=[1]))\n",
        "model.summary()\n",
        "model.compile(optimizer=tf.keras.optimizers.Adam(), loss = \"mean_squared_error\")\n",
        "epoch_hist = model.fit(X_train, y_train, epochs=2000)\n",
        "epoch_hist.history.keys()\n",
        "# plt.figure(figsize=(16,10))\n",
        "plt.plot(epoch_hist.history['loss'])\n",
        "plt.title(\"Model Loss during training\")\n",
        "plt.xlabel(\"#Epochs\")\n",
        "plt.ylabel(\"Training Loss\")\n",
        "plt.legend([\"Training Loss\"])\n",
        "\n",
        "\n",
        "Temp_Temperature = 40\n",
        "Temp_Revenue = model.predict([Temp_Temperature])\n",
        "print('Revenue of Ice Cream Using Trained ANN =', Temp_Revenue)\n",
        "\n",
        "model.get_weights()\n",
        "\n",
        "sns.scatterplot(X_train, y_train, color=\"grey\")\n",
        "plt.plot(X_train, model.predict(X_train), color=\"red\")\n",
        "plt.title(\"Revenue Prediction at a given temperature\")\n",
        "plt.xlabel(\"Temperature\")\n",
        "plt.ylabel(\"Revenue in Dollars\")\n"
      ],
      "execution_count": 0,
      "outputs": []
    },
    {
      "cell_type": "markdown",
      "metadata": {
        "id": "J2BVGhHOeE5X",
        "colab_type": "text"
      },
      "source": [
        "Model 2 with 2 hidden layers"
      ]
    },
    {
      "cell_type": "code",
      "metadata": {
        "id": "ivSMR-bQeEfP",
        "colab_type": "code",
        "colab": {}
      },
      "source": [
        "sales_df = pd.read_csv('/content/drive/My Drive/TensorFlow/SalesData.csv')\n",
        "display(sales_df.head())\n",
        "display(sales_df.describe(include=\"all\"))\n",
        "display(sales_df.info())\n",
        "# display(sns.scatterplot(x='Temperature', y='Revenue', data=sales_df))\n",
        "X_train = sales_df['Temperature']\n",
        "y_train = sales_df['Revenue']\n",
        "X_train.shape\n",
        "model = tf.keras.Sequential()\n",
        "model.add(tf.keras.layers.Dense(units=10, input_shape=[1]))\n",
        "model.add(tf.keras.layers.Dense(units=1))\n",
        "model.summary()\n",
        "model.compile(optimizer=tf.keras.optimizers.Adam(), loss = \"mean_squared_error\")\n",
        "epoch_hist = model.fit(X_train, y_train, epochs=500)\n",
        "epoch_hist.history.keys()\n",
        "# plt.figure(figsize=(16,10))\n",
        "plt.plot(epoch_hist.history['loss'])\n",
        "plt.title(\"Model Loss during training\")\n",
        "plt.xlabel(\"#Epochs\")\n",
        "plt.ylabel(\"Training Loss\")\n",
        "plt.legend([\"Training Loss\"])\n",
        "\n",
        "\n",
        "Temp_Temperature = 40\n",
        "Temp_Revenue = model.predict([Temp_Temperature])\n",
        "print('Revenue of Ice Cream Using Trained ANN =', Temp_Revenue)\n",
        "\n",
        "model.get_weights()\n",
        "\n",
        "sns.scatterplot(X_train, y_train, color=\"grey\")\n",
        "plt.plot(X_train, model.predict(X_train), color=\"red\")\n",
        "plt.title(\"Revenue Prediction at a given temperature\")\n",
        "plt.xlabel(\"Temperature\")\n",
        "plt.ylabel(\"Revenue in Dollars\")\n"
      ],
      "execution_count": 0,
      "outputs": []
    },
    {
      "cell_type": "markdown",
      "metadata": {
        "id": "JIVE7JFHddev",
        "colab_type": "text"
      },
      "source": [
        "Using Scikit Learn, Linear Regression compare with Model 1"
      ]
    },
    {
      "cell_type": "code",
      "metadata": {
        "id": "KrWbSp0ujGxB",
        "colab_type": "code",
        "colab": {
          "base_uri": "https://localhost:8080/",
          "height": 34
        },
        "outputId": "d0654abe-06b2-47b7-fba7-c91aa54bda7d"
      },
      "source": [
        "# Using Model 1 ANN\n",
        "Temp_Temperature = 40\n",
        "Temp_Revenue = model.predict([Temp_Temperature])\n",
        "print('Revenue of Ice Cream Using Trained ANN =', Temp_Revenue)"
      ],
      "execution_count": 61,
      "outputs": [
        {
          "output_type": "stream",
          "text": [
            "Revenue of Ice Cream Using Trained ANN = [[914.6109]]\n"
          ],
          "name": "stdout"
        }
      ]
    },
    {
      "cell_type": "code",
      "metadata": {
        "id": "TtM3wDD2lUZL",
        "colab_type": "code",
        "colab": {
          "base_uri": "https://localhost:8080/",
          "height": 34
        },
        "outputId": "c266c17a-82b2-43bd-cf76-9ced94145d61"
      },
      "source": [
        "model.get_weights()"
      ],
      "execution_count": 75,
      "outputs": [
        {
          "output_type": "execute_result",
          "data": {
            "text/plain": [
              "[array([[22.252516]], dtype=float32), array([24.510231], dtype=float32)]"
            ]
          },
          "metadata": {
            "tags": []
          },
          "execution_count": 75
        }
      ]
    },
    {
      "cell_type": "code",
      "metadata": {
        "id": "8frncksYac8S",
        "colab_type": "code",
        "colab": {
          "base_uri": "https://localhost:8080/",
          "height": 34
        },
        "outputId": "ba0f29c9-9691-4b6c-ee96-31f84f7885c9"
      },
      "source": [
        "from sklearn.linear_model import LinearRegression\n",
        "from sklearn.model_selection import GridSearchCV\n",
        "parameters = {\n",
        "                'normalize':[True,False], \n",
        "                'copy_X':[True, False], \n",
        "                'fit_intercept':[True,False]\n",
        "             }\n",
        "linreg = LinearRegression() # this the model on which i would want to experiment \n",
        "# Call the GridSearch Class, Pass the model and parameter \n",
        "linreg = GridSearchCV(linreg,parameters)\n",
        "linreg.estimator\n",
        "\n"
      ],
      "execution_count": 66,
      "outputs": [
        {
          "output_type": "execute_result",
          "data": {
            "text/plain": [
              "LinearRegression(copy_X=True, fit_intercept=True, n_jobs=None, normalize=False)"
            ]
          },
          "metadata": {
            "tags": []
          },
          "execution_count": 66
        }
      ]
    },
    {
      "cell_type": "code",
      "metadata": {
        "id": "AOlRNlMSlCB7",
        "colab_type": "code",
        "colab": {}
      },
      "source": [
        "linreg = LinearRegression(copy_X=True, fit_intercept=True, n_jobs=None, normalize=False)"
      ],
      "execution_count": 0,
      "outputs": []
    },
    {
      "cell_type": "code",
      "metadata": {
        "id": "yV5iahp4j93Q",
        "colab_type": "code",
        "colab": {
          "base_uri": "https://localhost:8080/",
          "height": 34
        },
        "outputId": "0b145d7f-dda5-420a-9c41-02909ef52f28"
      },
      "source": [
        "X_train.shape\n",
        "y_train.shape"
      ],
      "execution_count": 69,
      "outputs": [
        {
          "output_type": "execute_result",
          "data": {
            "text/plain": [
              "(500, 1)"
            ]
          },
          "metadata": {
            "tags": []
          },
          "execution_count": 69
        }
      ]
    },
    {
      "cell_type": "code",
      "metadata": {
        "id": "CZr5txY3jgZd",
        "colab_type": "code",
        "colab": {
          "base_uri": "https://localhost:8080/",
          "height": 164
        },
        "outputId": "bd23c66f-bce9-4fbd-e4a4-2e98c5d350f1"
      },
      "source": [
        "X_train = X_train.values.reshape(-1,1)"
      ],
      "execution_count": 70,
      "outputs": [
        {
          "output_type": "error",
          "ename": "AttributeError",
          "evalue": "ignored",
          "traceback": [
            "\u001b[0;31m---------------------------------------------------------------------------\u001b[0m",
            "\u001b[0;31mAttributeError\u001b[0m                            Traceback (most recent call last)",
            "\u001b[0;32m<ipython-input-70-458cc074362c>\u001b[0m in \u001b[0;36m<module>\u001b[0;34m()\u001b[0m\n\u001b[0;32m----> 1\u001b[0;31m \u001b[0mX_train\u001b[0m \u001b[0;34m=\u001b[0m \u001b[0mX_train\u001b[0m\u001b[0;34m.\u001b[0m\u001b[0mvalues\u001b[0m\u001b[0;34m.\u001b[0m\u001b[0mreshape\u001b[0m\u001b[0;34m(\u001b[0m\u001b[0;34m-\u001b[0m\u001b[0;36m1\u001b[0m\u001b[0;34m,\u001b[0m\u001b[0;36m1\u001b[0m\u001b[0;34m)\u001b[0m\u001b[0;34m\u001b[0m\u001b[0;34m\u001b[0m\u001b[0m\n\u001b[0m",
            "\u001b[0;31mAttributeError\u001b[0m: 'numpy.ndarray' object has no attribute 'values'"
          ]
        }
      ]
    },
    {
      "cell_type": "code",
      "metadata": {
        "id": "bldrVO0CkSHx",
        "colab_type": "code",
        "colab": {}
      },
      "source": [
        "y_train = y_train.values.reshape(-1,1)"
      ],
      "execution_count": 0,
      "outputs": []
    },
    {
      "cell_type": "code",
      "metadata": {
        "id": "xEhdRQWufOdb",
        "colab_type": "code",
        "colab": {}
      },
      "source": [
        "linreg.fit(X_train, y_train)\n",
        "y_pred_test = linreg.predict(X_train)"
      ],
      "execution_count": 0,
      "outputs": []
    },
    {
      "cell_type": "code",
      "metadata": {
        "id": "AYpMBschhWZV",
        "colab_type": "code",
        "colab": {
          "base_uri": "https://localhost:8080/",
          "height": 34
        },
        "outputId": "b7ac0d4e-59ca-438d-ca93-498256958fa9"
      },
      "source": [
        "linreg.predict([[40]])"
      ],
      "execution_count": 72,
      "outputs": [
        {
          "output_type": "execute_result",
          "data": {
            "text/plain": [
              "array([[902.57628752]])"
            ]
          },
          "metadata": {
            "tags": []
          },
          "execution_count": 72
        }
      ]
    },
    {
      "cell_type": "code",
      "metadata": {
        "id": "sGy1UGydjTVB",
        "colab_type": "code",
        "colab": {
          "base_uri": "https://localhost:8080/",
          "height": 51
        },
        "outputId": "f2271d63-842e-4c4a-ac9a-9ccc7ddd1b74"
      },
      "source": [
        "display(linreg.coef_)\n",
        "display(linreg.intercept_)"
      ],
      "execution_count": 74,
      "outputs": [
        {
          "output_type": "display_data",
          "data": {
            "text/plain": [
              "array([[21.44362551]])"
            ]
          },
          "metadata": {
            "tags": []
          }
        },
        {
          "output_type": "display_data",
          "data": {
            "text/plain": [
              "array([44.83126709])"
            ]
          },
          "metadata": {
            "tags": []
          }
        }
      ]
    },
    {
      "cell_type": "code",
      "metadata": {
        "id": "69NcjPyukwu7",
        "colab_type": "code",
        "colab": {}
      },
      "source": [
        ""
      ],
      "execution_count": 0,
      "outputs": []
    }
  ]
}